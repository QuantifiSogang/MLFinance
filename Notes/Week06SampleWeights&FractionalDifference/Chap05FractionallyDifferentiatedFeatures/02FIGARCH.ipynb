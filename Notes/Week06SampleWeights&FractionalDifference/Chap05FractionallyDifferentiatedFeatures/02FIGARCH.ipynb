{
 "cells": [
  {
   "metadata": {},
   "cell_type": "markdown",
   "source": [
    "## FIGARCH Model\n",
    "\n",
    "Fractional Integrated Generalized Auto Regressive Conditional Heteroscedasticity Model\n",
    "\n",
    "$$h_t = w + \\left[ 1 - \\beta L  - \\phi L(1-L)^d \\right] \\epsilon_t^2 + \\beta h_{t-1}$$\n",
    "\n",
    "여기서 L은 시차를 나타내는 기호이고, d는 실수인 차분 파라미터이다. arch의 FIGARCH모형에서는 d를 추정한다. 이 모형은 $\\mathrm{ARCH}(\\infty)$ 모형을 이용해서 추정할 수 있다\n",
    "\n",
    "$$h_t = (1 - \\beta)^{-1} w + \\sum_{i=1}^\\infty \\lambda_i \\epsilon_{t-i}^2$$\n",
    "\n",
    "가중치는 다음과 같이 재귀적 알고리즘을 이용해 구축된다\n",
    "\n",
    "$$\\delta_1 = d$$\n",
    "$$\\lambda_1 = d - \\beta + \\phi$$\n",
    "\n",
    "$$\\delta_j = \\frac{j-1-d}{j} \\delta_{j-1}$$\n",
    "$$\\lambda_j = \\beta \\lambda_{j-1} + \\beta_j - \\phi \\delta_{j-1}$$"
   ],
   "id": "f51e51682181b9a7"
  },
  {
   "cell_type": "code",
   "id": "initial_id",
   "metadata": {
    "collapsed": true,
    "ExecuteTime": {
     "end_time": "2024-05-05T15:38:52.758555Z",
     "start_time": "2024-05-05T15:38:50.520271Z"
    }
   },
   "source": [
    "import numpy as np\n",
    "import pandas as pd\n",
    "import matplotlib.pyplot as plt\n",
    "import yfinance as yf\n",
    "import arch\n",
    "\n",
    "start_date = '2000-01-01'\n",
    "end_date = '2024-05-01'\n",
    "ticker = 'AAPL'\n",
    "data = yf.download(\n",
    "    ticker, \n",
    "    start = start_date, \n",
    "    end = end_date\n",
    ")"
   ],
   "outputs": [
    {
     "name": "stderr",
     "output_type": "stream",
     "text": [
      "[*********************100%%**********************]  1 of 1 completed\n"
     ]
    }
   ],
   "execution_count": 1
  },
  {
   "metadata": {
    "ExecuteTime": {
     "end_time": "2024-05-05T16:07:05.552050Z",
     "start_time": "2024-05-05T16:07:05.543195Z"
    }
   },
   "cell_type": "code",
   "source": [
    "returns = data[['Adj Close']].pct_change().dropna() * 100\n",
    "figarch = arch.arch_model(\n",
    "    returns, \n",
    "    vol = 'FIGARCH', \n",
    "    p = 1, \n",
    "    q = 1, \n",
    "    power = 0.1\n",
    ")\n",
    "garch = arch.arch_model(\n",
    "    returns, \n",
    "    vol = 'GARCH', \n",
    "    p = 1, \n",
    "    q = 1\n",
    ")"
   ],
   "id": "4c155b7f80f417b0",
   "outputs": [],
   "execution_count": 32
  },
  {
   "metadata": {
    "ExecuteTime": {
     "end_time": "2024-05-05T16:07:09.183162Z",
     "start_time": "2024-05-05T16:07:06.238299Z"
    }
   },
   "cell_type": "code",
   "source": "figarch_fit = figarch.fit()",
   "id": "5374feb65c5ed667",
   "outputs": [
    {
     "name": "stdout",
     "output_type": "stream",
     "text": [
      "Iteration:      1,   Func. Count:      7,   Neg. LLF: 116799.20910510246\n",
      "Iteration:      2,   Func. Count:     23,   Neg. LLF: 147110.3283747774\n",
      "Iteration:      3,   Func. Count:     35,   Neg. LLF: 28518.538637600283\n",
      "Iteration:      4,   Func. Count:     51,   Neg. LLF: 30986.22961223552\n",
      "Iteration:      5,   Func. Count:     67,   Neg. LLF: 49982.701372787196\n",
      "Iteration:      6,   Func. Count:     74,   Neg. LLF: 6335249846420937.0\n",
      "Iteration:      7,   Func. Count:     87,   Neg. LLF: 89530.67070538514\n",
      "Iteration:      8,   Func. Count:    103,   Neg. LLF: 1787476489797.188\n",
      "Iteration:      9,   Func. Count:    112,   Neg. LLF: 50193.24537099146\n",
      "Iteration:     10,   Func. Count:    119,   Neg. LLF: 98020351751.04951\n",
      "Iteration:     11,   Func. Count:    126,   Neg. LLF: 54575.497670957746\n",
      "Iteration:     12,   Func. Count:    138,   Neg. LLF: 17706203683.88499\n",
      "Iteration:     13,   Func. Count:    145,   Neg. LLF: 2787449999.412756\n",
      "Iteration:     14,   Func. Count:    153,   Neg. LLF: 162950.31361553216\n",
      "Iteration:     15,   Func. Count:    162,   Neg. LLF: 84766.46061449125\n",
      "Iteration:     16,   Func. Count:    175,   Neg. LLF: 193321.35290653323\n",
      "Iteration:     17,   Func. Count:    182,   Neg. LLF: 61555.19205769997\n",
      "Iteration:     18,   Func. Count:    189,   Neg. LLF: 13654.446834514443\n",
      "Iteration:     19,   Func. Count:    196,   Neg. LLF: 13997.418627446394\n",
      "Iteration:     20,   Func. Count:    203,   Neg. LLF: 13577.623156818889\n",
      "Iteration:     21,   Func. Count:    211,   Neg. LLF: 16225.48414094973\n",
      "Iteration:     22,   Func. Count:    218,   Neg. LLF: 13577.674376780054\n",
      "Iteration:     23,   Func. Count:    225,   Neg. LLF: 13697.187591956901\n",
      "Iteration:     24,   Func. Count:    232,   Neg. LLF: 13520.926437430577\n",
      "Iteration:     25,   Func. Count:    238,   Neg. LLF: 13519.297957632849\n",
      "Iteration:     26,   Func. Count:    244,   Neg. LLF: 13519.548111385213\n",
      "Iteration:     27,   Func. Count:    251,   Neg. LLF: 13515.188945155154\n",
      "Iteration:     28,   Func. Count:    257,   Neg. LLF: 13513.415573089827\n",
      "Iteration:     29,   Func. Count:    263,   Neg. LLF: 13511.649608916712\n",
      "Iteration:     30,   Func. Count:    269,   Neg. LLF: 13519.420457151264\n",
      "Iteration:     31,   Func. Count:    276,   Neg. LLF: 13509.005490693118\n",
      "Iteration:     32,   Func. Count:    282,   Neg. LLF: 13507.830492416528\n",
      "Iteration:     33,   Func. Count:    288,   Neg. LLF: 13505.851050998166\n",
      "Iteration:     34,   Func. Count:    294,   Neg. LLF: 13508.972596717329\n",
      "Iteration:     35,   Func. Count:    301,   Neg. LLF: 13503.975827103548\n",
      "Iteration:     36,   Func. Count:    307,   Neg. LLF: 13503.187685540739\n",
      "Iteration:     37,   Func. Count:    313,   Neg. LLF: 13502.381817690928\n",
      "Iteration:     38,   Func. Count:    319,   Neg. LLF: 13501.878271516904\n",
      "Iteration:     39,   Func. Count:    325,   Neg. LLF: 13500.93329742692\n",
      "Iteration:     40,   Func. Count:    331,   Neg. LLF: 13500.374823536957\n",
      "Iteration:     41,   Func. Count:    337,   Neg. LLF: 13501.336039068214\n",
      "Iteration:     42,   Func. Count:    344,   Neg. LLF: 13499.270234030524\n",
      "Iteration:     43,   Func. Count:    350,   Neg. LLF: 13498.618642071406\n",
      "Iteration:     44,   Func. Count:    356,   Neg. LLF: 13497.819608158097\n",
      "Iteration:     45,   Func. Count:    362,   Neg. LLF: 13497.466041298965\n",
      "Iteration:     46,   Func. Count:    368,   Neg. LLF: 13497.257502400236\n",
      "Iteration:     47,   Func. Count:    374,   Neg. LLF: 13497.077935521542\n",
      "Iteration:     48,   Func. Count:    380,   Neg. LLF: 13496.67736643312\n",
      "Iteration:     49,   Func. Count:    386,   Neg. LLF: 13496.617959489104\n",
      "Iteration:     50,   Func. Count:    392,   Neg. LLF: 13496.564413652352\n",
      "Iteration:     51,   Func. Count:    398,   Neg. LLF: 13496.526999877318\n",
      "Iteration:     52,   Func. Count:    404,   Neg. LLF: 13496.47092911224\n",
      "Iteration:     53,   Func. Count:    410,   Neg. LLF: 13496.450924502773\n",
      "Iteration:     54,   Func. Count:    416,   Neg. LLF: 13496.44759690993\n",
      "Iteration:     55,   Func. Count:    422,   Neg. LLF: 13496.447411587164\n",
      "Iteration:     56,   Func. Count:    428,   Neg. LLF: 13496.447397931512\n",
      "Iteration:     57,   Func. Count:    434,   Neg. LLF: 13496.447395601615\n",
      "Iteration:     58,   Func. Count:    440,   Neg. LLF: 13496.447393105911\n",
      "Iteration:     59,   Func. Count:    445,   Neg. LLF: 13496.44739310533\n",
      "Optimization terminated successfully    (Exit mode 0)\n",
      "            Current function value: 13496.447393105911\n",
      "            Iterations: 60\n",
      "            Function evaluations: 445\n",
      "            Gradient evaluations: 59\n"
     ]
    }
   ],
   "execution_count": 33
  },
  {
   "metadata": {
    "ExecuteTime": {
     "end_time": "2024-05-05T16:07:10.592207Z",
     "start_time": "2024-05-05T16:07:10.565153Z"
    }
   },
   "cell_type": "code",
   "source": "figarch_fit.summary()",
   "id": "906d87763f05c65b",
   "outputs": [
    {
     "data": {
      "text/plain": [
       "<class 'statsmodels.iolib.summary.Summary'>\n",
       "\"\"\"\n",
       "               Constant Mean - Power FIGARCH (power: 0.1) Model Results               \n",
       "======================================================================================\n",
       "Dep. Variable:                      Adj Close   R-squared:                       0.000\n",
       "Mean Model:                     Constant Mean   Adj. R-squared:                  0.000\n",
       "Vol Model:         Power FIGARCH (power: 0.1)   Log-Likelihood:               -13496.4\n",
       "Distribution:                          Normal   AIC:                           27002.9\n",
       "Method:                    Maximum Likelihood   BIC:                           27036.5\n",
       "                                                No. Observations:                 6119\n",
       "Date:                        Mon, May 06 2024   Df Residuals:                     6118\n",
       "Time:                                01:07:09   Df Model:                            1\n",
       "                               Mean Model                               \n",
       "========================================================================\n",
       "                 coef    std err          t      P>|t|  95.0% Conf. Int.\n",
       "------------------------------------------------------------------------\n",
       "mu             0.7837  5.798e-04   1351.516      0.000 [  0.783,  0.785]\n",
       "                             Volatility Model                             \n",
       "==========================================================================\n",
       "                 coef    std err          t      P>|t|    95.0% Conf. Int.\n",
       "--------------------------------------------------------------------------\n",
       "omega          0.0697  1.590e-02      4.384  1.165e-05 [3.855e-02,  0.101]\n",
       "phi            0.3153  3.316e-02      9.507  1.956e-21   [  0.250,  0.380]\n",
       "d              0.3542  3.921e-02      9.032  1.693e-19   [  0.277,  0.431]\n",
       "beta           0.6059  4.117e-02     14.716  5.114e-49   [  0.525,  0.687]\n",
       "==========================================================================\n",
       "\n",
       "Covariance estimator: robust\n",
       "\"\"\""
      ],
      "text/html": [
       "<table class=\"simpletable\">\n",
       "<caption>Constant Mean - Power FIGARCH (power: 0.1) Model Results</caption>\n",
       "<tr>\n",
       "  <th>Dep. Variable:</th>          <td>Adj Close</td>         <th>  R-squared:         </th>  <td>   0.000</td> \n",
       "</tr>\n",
       "<tr>\n",
       "  <th>Mean Model:</th>           <td>Constant Mean</td>       <th>  Adj. R-squared:    </th>  <td>   0.000</td> \n",
       "</tr>\n",
       "<tr>\n",
       "  <th>Vol Model:</th>     <td>Power FIGARCH (power: 0.1)</td> <th>  Log-Likelihood:    </th> <td>  -13496.4</td>\n",
       "</tr>\n",
       "<tr>\n",
       "  <th>Distribution:</th>            <td>Normal</td>           <th>  AIC:               </th> <td>   27002.9</td>\n",
       "</tr>\n",
       "<tr>\n",
       "  <th>Method:</th>            <td>Maximum Likelihood</td>     <th>  BIC:               </th> <td>   27036.5</td>\n",
       "</tr>\n",
       "<tr>\n",
       "  <th></th>                            <td></td>              <th>  No. Observations:  </th>    <td>6119</td>   \n",
       "</tr>\n",
       "<tr>\n",
       "  <th>Date:</th>               <td>Mon, May 06 2024</td>      <th>  Df Residuals:      </th>    <td>6118</td>   \n",
       "</tr>\n",
       "<tr>\n",
       "  <th>Time:</th>                   <td>01:07:09</td>          <th>  Df Model:          </th>      <td>1</td>    \n",
       "</tr>\n",
       "</table>\n",
       "<table class=\"simpletable\">\n",
       "<caption>Mean Model</caption>\n",
       "<tr>\n",
       "   <td></td>     <th>coef</th>     <th>std err</th>      <th>t</th>     <th>P>|t|</th> <th>95.0% Conf. Int.</th> \n",
       "</tr>\n",
       "<tr>\n",
       "  <th>mu</th> <td>    0.7837</td> <td>5.798e-04</td> <td> 1351.516</td> <td>0.000</td> <td>[  0.783,  0.785]</td>\n",
       "</tr>\n",
       "</table>\n",
       "<table class=\"simpletable\">\n",
       "<caption>Volatility Model</caption>\n",
       "<tr>\n",
       "    <td></td>       <th>coef</th>     <th>std err</th>      <th>t</th>       <th>P>|t|</th>    <th>95.0% Conf. Int.</th>  \n",
       "</tr>\n",
       "<tr>\n",
       "  <th>omega</th> <td>    0.0697</td> <td>1.590e-02</td> <td>    4.384</td> <td>1.165e-05</td> <td>[3.855e-02,  0.101]</td>\n",
       "</tr>\n",
       "<tr>\n",
       "  <th>phi</th>   <td>    0.3153</td> <td>3.316e-02</td> <td>    9.507</td> <td>1.956e-21</td>  <td>[  0.250,  0.380]</td> \n",
       "</tr>\n",
       "<tr>\n",
       "  <th>d</th>     <td>    0.3542</td> <td>3.921e-02</td> <td>    9.032</td> <td>1.693e-19</td>  <td>[  0.277,  0.431]</td> \n",
       "</tr>\n",
       "<tr>\n",
       "  <th>beta</th>  <td>    0.6059</td> <td>4.117e-02</td> <td>   14.716</td> <td>5.114e-49</td>  <td>[  0.525,  0.687]</td> \n",
       "</tr>\n",
       "</table><br/><br/>Covariance estimator: robust"
      ],
      "text/latex": "\\begin{center}\n\\begin{tabular}{lclc}\n\\toprule\n\\textbf{Dep. Variable:} &         Adj Close          & \\textbf{  R-squared:         } &     0.000   \\\\\n\\textbf{Mean Model:}    &       Constant Mean        & \\textbf{  Adj. R-squared:    } &     0.000   \\\\\n\\textbf{Vol Model:}     & Power FIGARCH (power: 0.1) & \\textbf{  Log-Likelihood:    } &   -13496.4  \\\\\n\\textbf{Distribution:}  &           Normal           & \\textbf{  AIC:               } &    27002.9  \\\\\n\\textbf{Method:}        &     Maximum Likelihood     & \\textbf{  BIC:               } &    27036.5  \\\\\n\\textbf{}               &                            & \\textbf{  No. Observations:  } &    6119     \\\\\n\\textbf{Date:}          &      Mon, May 06 2024      & \\textbf{  Df Residuals:      } &    6118     \\\\\n\\textbf{Time:}          &          01:07:09          & \\textbf{  Df Model:          } &     1       \\\\\n\\bottomrule\n\\end{tabular}\n\\begin{tabular}{lccccc}\n            & \\textbf{coef} & \\textbf{std err} & \\textbf{t} & \\textbf{P$> |$t$|$} & \\textbf{95.0\\% Conf. Int.}  \\\\\n\\midrule\n\\textbf{mu} &       0.7837  &    5.798e-04     &  1351.516  &        0.000         &     [  0.783,  0.785]       \\\\\n               & \\textbf{coef} & \\textbf{std err} & \\textbf{t} & \\textbf{P$> |$t$|$} & \\textbf{95.0\\% Conf. Int.}  \\\\\n\\midrule\n\\textbf{omega} &       0.0697  &    1.590e-02     &     4.384  &      1.165e-05       &    [3.855e-02,  0.101]      \\\\\n\\textbf{phi}   &       0.3153  &    3.316e-02     &     9.507  &      1.956e-21       &     [  0.250,  0.380]       \\\\\n\\textbf{d}     &       0.3542  &    3.921e-02     &     9.032  &      1.693e-19       &     [  0.277,  0.431]       \\\\\n\\textbf{beta}  &       0.6059  &    4.117e-02     &    14.716  &      5.114e-49       &     [  0.525,  0.687]       \\\\\n\\bottomrule\n\\end{tabular}\n%\\caption{Constant Mean - Power FIGARCH (power: 0.1) Model Results}\n\\end{center}\n\nCovariance estimator: robust"
     },
     "execution_count": 34,
     "metadata": {},
     "output_type": "execute_result"
    }
   ],
   "execution_count": 34
  },
  {
   "metadata": {
    "ExecuteTime": {
     "end_time": "2024-05-05T16:07:16.242921Z",
     "start_time": "2024-05-05T16:07:16.197317Z"
    }
   },
   "cell_type": "code",
   "source": "garch_fit = garch.fit()",
   "id": "d7ad598ed486c722",
   "outputs": [
    {
     "name": "stdout",
     "output_type": "stream",
     "text": [
      "Iteration:      1,   Func. Count:      6,   Neg. LLF: 2335474.9977649786\n",
      "Iteration:      2,   Func. Count:     15,   Neg. LLF: 16448.27569931007\n",
      "Iteration:      3,   Func. Count:     21,   Neg. LLF: 13294.488458333713\n",
      "Iteration:      4,   Func. Count:     27,   Neg. LLF: 13269.363010241104\n",
      "Iteration:      5,   Func. Count:     33,   Neg. LLF: 13200.848582319568\n",
      "Iteration:      6,   Func. Count:     39,   Neg. LLF: 13643.618327016447\n",
      "Iteration:      7,   Func. Count:     46,   Neg. LLF: 13205.375119991944\n",
      "Iteration:      8,   Func. Count:     52,   Neg. LLF: 13194.452424252811\n",
      "Iteration:      9,   Func. Count:     58,   Neg. LLF: 13194.210327604362\n",
      "Iteration:     10,   Func. Count:     63,   Neg. LLF: 13194.210065294781\n",
      "Iteration:     11,   Func. Count:     67,   Neg. LLF: 13194.210065294157\n",
      "Optimization terminated successfully    (Exit mode 0)\n",
      "            Current function value: 13194.210065294781\n",
      "            Iterations: 11\n",
      "            Function evaluations: 67\n",
      "            Gradient evaluations: 11\n"
     ]
    }
   ],
   "execution_count": 35
  },
  {
   "metadata": {
    "ExecuteTime": {
     "end_time": "2024-05-05T16:07:17.534024Z",
     "start_time": "2024-05-05T16:07:17.507911Z"
    }
   },
   "cell_type": "code",
   "source": "garch_fit.summary()",
   "id": "fa601d5cf14b7769",
   "outputs": [
    {
     "data": {
      "text/plain": [
       "<class 'statsmodels.iolib.summary.Summary'>\n",
       "\"\"\"\n",
       "                     Constant Mean - GARCH Model Results                      \n",
       "==============================================================================\n",
       "Dep. Variable:              Adj Close   R-squared:                       0.000\n",
       "Mean Model:             Constant Mean   Adj. R-squared:                  0.000\n",
       "Vol Model:                      GARCH   Log-Likelihood:               -13194.2\n",
       "Distribution:                  Normal   AIC:                           26396.4\n",
       "Method:            Maximum Likelihood   BIC:                           26423.3\n",
       "                                        No. Observations:                 6119\n",
       "Date:                Mon, May 06 2024   Df Residuals:                     6118\n",
       "Time:                        01:07:16   Df Model:                            1\n",
       "                               Mean Model                               \n",
       "========================================================================\n",
       "                 coef    std err          t      P>|t|  95.0% Conf. Int.\n",
       "------------------------------------------------------------------------\n",
       "mu             0.1901  2.695e-02      7.056  1.716e-12 [  0.137,  0.243]\n",
       "                             Volatility Model                             \n",
       "==========================================================================\n",
       "                 coef    std err          t      P>|t|    95.0% Conf. Int.\n",
       "--------------------------------------------------------------------------\n",
       "omega          0.0691  2.960e-02      2.336  1.950e-02 [1.112e-02,  0.127]\n",
       "alpha[1]       0.0810  2.763e-02      2.930  3.385e-03 [2.682e-02,  0.135]\n",
       "beta[1]        0.9095  2.789e-02     32.607 3.312e-233   [  0.855,  0.964]\n",
       "==========================================================================\n",
       "\n",
       "Covariance estimator: robust\n",
       "\"\"\""
      ],
      "text/html": [
       "<table class=\"simpletable\">\n",
       "<caption>Constant Mean - GARCH Model Results</caption>\n",
       "<tr>\n",
       "  <th>Dep. Variable:</th>      <td>Adj Close</td>     <th>  R-squared:         </th>  <td>   0.000</td> \n",
       "</tr>\n",
       "<tr>\n",
       "  <th>Mean Model:</th>       <td>Constant Mean</td>   <th>  Adj. R-squared:    </th>  <td>   0.000</td> \n",
       "</tr>\n",
       "<tr>\n",
       "  <th>Vol Model:</th>            <td>GARCH</td>       <th>  Log-Likelihood:    </th> <td>  -13194.2</td>\n",
       "</tr>\n",
       "<tr>\n",
       "  <th>Distribution:</th>        <td>Normal</td>       <th>  AIC:               </th> <td>   26396.4</td>\n",
       "</tr>\n",
       "<tr>\n",
       "  <th>Method:</th>        <td>Maximum Likelihood</td> <th>  BIC:               </th> <td>   26423.3</td>\n",
       "</tr>\n",
       "<tr>\n",
       "  <th></th>                        <td></td>          <th>  No. Observations:  </th>    <td>6119</td>   \n",
       "</tr>\n",
       "<tr>\n",
       "  <th>Date:</th>           <td>Mon, May 06 2024</td>  <th>  Df Residuals:      </th>    <td>6118</td>   \n",
       "</tr>\n",
       "<tr>\n",
       "  <th>Time:</th>               <td>01:07:16</td>      <th>  Df Model:          </th>      <td>1</td>    \n",
       "</tr>\n",
       "</table>\n",
       "<table class=\"simpletable\">\n",
       "<caption>Mean Model</caption>\n",
       "<tr>\n",
       "   <td></td>     <th>coef</th>     <th>std err</th>      <th>t</th>       <th>P>|t|</th>   <th>95.0% Conf. Int.</th> \n",
       "</tr>\n",
       "<tr>\n",
       "  <th>mu</th> <td>    0.1901</td> <td>2.695e-02</td> <td>    7.056</td> <td>1.716e-12</td> <td>[  0.137,  0.243]</td>\n",
       "</tr>\n",
       "</table>\n",
       "<table class=\"simpletable\">\n",
       "<caption>Volatility Model</caption>\n",
       "<tr>\n",
       "      <td></td>        <th>coef</th>     <th>std err</th>      <th>t</th>        <th>P>|t|</th>    <th>95.0% Conf. Int.</th>  \n",
       "</tr>\n",
       "<tr>\n",
       "  <th>omega</th>    <td>    0.0691</td> <td>2.960e-02</td> <td>    2.336</td>  <td>1.950e-02</td> <td>[1.112e-02,  0.127]</td>\n",
       "</tr>\n",
       "<tr>\n",
       "  <th>alpha[1]</th> <td>    0.0810</td> <td>2.763e-02</td> <td>    2.930</td>  <td>3.385e-03</td> <td>[2.682e-02,  0.135]</td>\n",
       "</tr>\n",
       "<tr>\n",
       "  <th>beta[1]</th>  <td>    0.9095</td> <td>2.789e-02</td> <td>   32.607</td> <td>3.312e-233</td>  <td>[  0.855,  0.964]</td> \n",
       "</tr>\n",
       "</table><br/><br/>Covariance estimator: robust"
      ],
      "text/latex": "\\begin{center}\n\\begin{tabular}{lclc}\n\\toprule\n\\textbf{Dep. Variable:} &     Adj Close      & \\textbf{  R-squared:         } &     0.000   \\\\\n\\textbf{Mean Model:}    &   Constant Mean    & \\textbf{  Adj. R-squared:    } &     0.000   \\\\\n\\textbf{Vol Model:}     &       GARCH        & \\textbf{  Log-Likelihood:    } &   -13194.2  \\\\\n\\textbf{Distribution:}  &       Normal       & \\textbf{  AIC:               } &    26396.4  \\\\\n\\textbf{Method:}        & Maximum Likelihood & \\textbf{  BIC:               } &    26423.3  \\\\\n\\textbf{}               &                    & \\textbf{  No. Observations:  } &    6119     \\\\\n\\textbf{Date:}          &  Mon, May 06 2024  & \\textbf{  Df Residuals:      } &    6118     \\\\\n\\textbf{Time:}          &      01:07:16      & \\textbf{  Df Model:          } &     1       \\\\\n\\bottomrule\n\\end{tabular}\n\\begin{tabular}{lccccc}\n            & \\textbf{coef} & \\textbf{std err} & \\textbf{t} & \\textbf{P$> |$t$|$} & \\textbf{95.0\\% Conf. Int.}  \\\\\n\\midrule\n\\textbf{mu} &       0.1901  &    2.695e-02     &     7.056  &      1.716e-12       &     [  0.137,  0.243]       \\\\\n                  & \\textbf{coef} & \\textbf{std err} & \\textbf{t} & \\textbf{P$> |$t$|$} & \\textbf{95.0\\% Conf. Int.}  \\\\\n\\midrule\n\\textbf{omega}    &       0.0691  &    2.960e-02     &     2.336  &      1.950e-02       &    [1.112e-02,  0.127]      \\\\\n\\textbf{alpha[1]} &       0.0810  &    2.763e-02     &     2.930  &      3.385e-03       &    [2.682e-02,  0.135]      \\\\\n\\textbf{beta[1]}  &       0.9095  &    2.789e-02     &    32.607  &      3.312e-233      &     [  0.855,  0.964]       \\\\\n\\bottomrule\n\\end{tabular}\n%\\caption{Constant Mean - GARCH Model Results}\n\\end{center}\n\nCovariance estimator: robust"
     },
     "execution_count": 36,
     "metadata": {},
     "output_type": "execute_result"
    }
   ],
   "execution_count": 36
  },
  {
   "metadata": {
    "ExecuteTime": {
     "end_time": "2024-05-05T16:23:55.430803Z",
     "start_time": "2024-05-05T16:23:55.076066Z"
    }
   },
   "cell_type": "code",
   "source": [
    "fig, ax = plt.subplots(figsize = (8, 5))\n",
    "garch_fit.conditional_volatility.plot(\n",
    "    ax = ax, \n",
    "    color = 'lightgray', \n",
    "    alpha = 0.9,\n",
    "    label = 'GARCH'\n",
    ")\n",
    "figarch_fit.conditional_volatility.plot(\n",
    "    ax = ax, \n",
    "    color = 'red', \n",
    "    alpha = 0.6, \n",
    "    ls = '-.',\n",
    "    label = 'FIGARCH'\n",
    ")\n",
    "plt.title('Comparison between Heteroscedasticity models')\n",
    "plt.grid(False)\n",
    "plt.legend()\n",
    "plt.axhline(0, ls = '-.', color = 'gray')\n",
    "for spine in ax.spines.values():\n",
    "    spine.set_visible(False)\n",
    "ax.yaxis.grid(True, ls = ':', alpha = 0.5) \n",
    "plt.show()"
   ],
   "id": "3c34eb09c531fadf",
   "outputs": [
    {
     "data": {
      "text/plain": [
       "<Figure size 800x500 with 1 Axes>"
      ],
      "image/png": "[encoded data removed]"
     },
     "metadata": {},
     "output_type": "display_data"
    }
   ],
   "execution_count": 59
  }
 ],
 "metadata": {
  "kernelspec": {
   "display_name": "Python 3",
   "language": "python",
   "name": "python3"
  },
  "language_info": {
   "codemirror_mode": {
    "name": "ipython",
    "version": 2
   },
   "file_extension": ".py",
   "mimetype": "text/x-python",
   "name": "python",
   "nbconvert_exporter": "python",
   "pygments_lexer": "ipython2",
   "version": "2.7.6"
  }
 },
 "nbformat": 4,
 "nbformat_minor": 5
}
