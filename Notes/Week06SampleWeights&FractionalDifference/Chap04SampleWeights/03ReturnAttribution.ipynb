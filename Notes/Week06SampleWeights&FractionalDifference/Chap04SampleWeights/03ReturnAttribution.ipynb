{
 "cells": [
  {
   "metadata": {},
   "cell_type": "markdown",
   "source": [
    "### Return Attribution\n",
    "\n",
    "이 절에서는 Machine Learning 알고리즘을 학습시키고자 이 표본에 가중값을 두는 기법을 소개한다. 고도로 중첩되는 결과는 비중첩 결과에 비해 불균형한 가중값을 가지게 된다. 이와 동시에 큰 절대 수익률에 연계된 label들은 무시할 정도로 작은 절대 수익률을 가진 label보다 더 중요하다. 간단히 말해서 고유도와 절대 수익률을 함께 고려하는 함수를 사용해 관측값에 가중값을 부여해야 한다\n",
    "\n",
    "label이 수익률 부호의 함수일 때 표본 가중값은 이벤트의 생애주기 $[t_{i,0}, t_{i,1}]$ 동안의 기여 수익률의 합에 의해 정의할 수 있다.\n",
    "\n",
    "$$\\tilde{w_i} = \\begin{vmatrix} \\sum_{t = t_{i,0}}^{t_{i,1}} \\frac{r_{t-1}, t}{c_{t}}\\end{vmatrix}$$\n",
    "\n",
    "$$w_i = \\tilde{w_i} I \\left( \\sum_{j=1}^I \\tilde{w_j}\\right)$$\n",
    "\n",
    "그러므로 $\\sum_{i=1}^I w_i = I$가 된다. 라이브러리는 일반적으로 알고리즘적 매개변수의 default 가중값이 1이라고 가정하므로 이 가중값의 크기를 조정해 그 합이 $I$가 되도록 했다.\n",
    "\n",
    "이 방법의 논리는 관측값의 가중치를 관측값에 고유하게 영향을 미칠 수 있는 절대 로그 수익률의 함수로 나타내고 싶다는 것이다. 그러나 이 방법에 '중립적'인 경우가 존재하면 작동하지 않는다. 이 경우에는 더 낮은 수익률에 낮은 가중값이 아니라 더 높은 가중값이 부여돼야 한다. 결국 '중립적'인 경우는 불필요한데, 낮은 신뢰도로 '-1'이나 1'로 예측하는 것을 의미하기 때문이다. 아래의 코드는 이 방법을 구현하고 있다."
   ],
   "id": "bfe2668a554344d7"
  },
  {
   "cell_type": "code",
   "id": "initial_id",
   "metadata": {
    "collapsed": true,
    "ExecuteTime": {
     "end_time": "2024-05-05T13:29:59.830428Z",
     "start_time": "2024-05-05T13:29:56.788591Z"
    }
   },
   "source": [
    "import numpy as np\n",
    "import pandas as pd\n",
    "import matplotlib.pyplot as plt\n",
    "import seaborn as sns\n",
    "import yfinance as yf\n",
    "\n",
    "from FinancialMachineLearning.labeling.labeling import *\n",
    "from FinancialMachineLearning.features.volatility import daily_volatility\n",
    "from FinancialMachineLearning.sample_weights.concurrency import *\n",
    "from FinancialMachineLearning.utils.multiprocess import *\n",
    "\n",
    "start_date = '2000-01-01'\n",
    "end_date = '2024-04-10'\n",
    "ticker = 'AAPL'\n",
    "data = yf.download(\n",
    "    ticker, \n",
    "    start = start_date, \n",
    "    end = end_date\n",
    ")"
   ],
   "outputs": [
    {
     "name": "stderr",
     "output_type": "stream",
     "text": [
      "[*********************100%%**********************]  1 of 1 completed\n"
     ]
    }
   ],
   "execution_count": 1
  },
  {
   "metadata": {
    "ExecuteTime": {
     "end_time": "2024-05-05T13:29:59.839572Z",
     "start_time": "2024-05-05T13:29:59.831491Z"
    }
   },
   "cell_type": "code",
   "source": [
    "vertical_barrier = add_vertical_barrier(\n",
    "    data.index, \n",
    "    data['Close'], \n",
    "    num_days = 7 # expariation limit\n",
    ")\n",
    "vertical_barrier.head()"
   ],
   "id": "2ebe6123fa19edfb",
   "outputs": [
    {
     "data": {
      "text/plain": [
       "Date\n",
       "2000-01-03   2000-01-10\n",
       "2000-01-04   2000-01-11\n",
       "2000-01-05   2000-01-12\n",
       "2000-01-06   2000-01-13\n",
       "2000-01-07   2000-01-14\n",
       "Name: Date, dtype: datetime64[ns]"
      ]
     },
     "execution_count": 2,
     "metadata": {},
     "output_type": "execute_result"
    }
   ],
   "execution_count": 2
  },
  {
   "metadata": {
    "ExecuteTime": {
     "end_time": "2024-05-05T13:29:59.848801Z",
     "start_time": "2024-05-05T13:29:59.840660Z"
    }
   },
   "cell_type": "code",
   "source": [
    "volatility = daily_volatility(\n",
    "    data['Close'], \n",
    "    lookback = 60 # moving average span\n",
    ")"
   ],
   "id": "8afd5f82548dae4a",
   "outputs": [],
   "execution_count": 3
  },
  {
   "metadata": {
    "ExecuteTime": {
     "end_time": "2024-05-05T13:30:04.393146Z",
     "start_time": "2024-05-05T13:29:59.850076Z"
    }
   },
   "cell_type": "code",
   "source": [
    "triple_barrier_events = get_events(\n",
    "    close = data['Close'],\n",
    "    t_events = data.index[2:],\n",
    "    pt_sl = [2, 1], # profit taking 2, stopping loss 1\n",
    "    target = volatility, # dynamic threshold\n",
    "    min_ret = 0.01, # minimum position return\n",
    "    num_threads = 1, # number of multi-thread \n",
    "    vertical_barrier_times = vertical_barrier, # add vertical barrier\n",
    "    side_prediction = None # betting side prediction (primary model)\n",
    ")\n",
    "triple_barrier_events.head()"
   ],
   "id": "6079c91460297385",
   "outputs": [
    {
     "data": {
      "text/plain": [
       "                   t1      trgt  pt  sl\n",
       "Date                                   \n",
       "2000-01-07 2000-01-11  0.016797   2   1\n",
       "2000-01-10 2000-01-12  0.026415   2   1\n",
       "2000-01-11 2000-01-12  0.024043   2   1\n",
       "2000-01-12 2000-01-13  0.031168   2   1\n",
       "2000-01-13 2000-01-19  0.050703   2   1"
      ],
      "text/html": [
       "<div>\n",
       "<style scoped>\n",
       "    .dataframe tbody tr th:only-of-type {\n",
       "        vertical-align: middle;\n",
       "    }\n",
       "\n",
       "    .dataframe tbody tr th {\n",
       "        vertical-align: top;\n",
       "    }\n",
       "\n",
       "    .dataframe thead th {\n",
       "        text-align: right;\n",
       "    }\n",
       "</style>\n",
       "<table border=\"1\" class=\"dataframe\">\n",
       "  <thead>\n",
       "    <tr style=\"text-align: right;\">\n",
       "      <th></th>\n",
       "      <th>t1</th>\n",
       "      <th>trgt</th>\n",
       "      <th>pt</th>\n",
       "      <th>sl</th>\n",
       "    </tr>\n",
       "    <tr>\n",
       "      <th>Date</th>\n",
       "      <th></th>\n",
       "      <th></th>\n",
       "      <th></th>\n",
       "      <th></th>\n",
       "    </tr>\n",
       "  </thead>\n",
       "  <tbody>\n",
       "    <tr>\n",
       "      <th>2000-01-07</th>\n",
       "      <td>2000-01-11</td>\n",
       "      <td>0.016797</td>\n",
       "      <td>2</td>\n",
       "      <td>1</td>\n",
       "    </tr>\n",
       "    <tr>\n",
       "      <th>2000-01-10</th>\n",
       "      <td>2000-01-12</td>\n",
       "      <td>0.026415</td>\n",
       "      <td>2</td>\n",
       "      <td>1</td>\n",
       "    </tr>\n",
       "    <tr>\n",
       "      <th>2000-01-11</th>\n",
       "      <td>2000-01-12</td>\n",
       "      <td>0.024043</td>\n",
       "      <td>2</td>\n",
       "      <td>1</td>\n",
       "    </tr>\n",
       "    <tr>\n",
       "      <th>2000-01-12</th>\n",
       "      <td>2000-01-13</td>\n",
       "      <td>0.031168</td>\n",
       "      <td>2</td>\n",
       "      <td>1</td>\n",
       "    </tr>\n",
       "    <tr>\n",
       "      <th>2000-01-13</th>\n",
       "      <td>2000-01-19</td>\n",
       "      <td>0.050703</td>\n",
       "      <td>2</td>\n",
       "      <td>1</td>\n",
       "    </tr>\n",
       "  </tbody>\n",
       "</table>\n",
       "</div>"
      ]
     },
     "execution_count": 4,
     "metadata": {},
     "output_type": "execute_result"
    }
   ],
   "execution_count": 4
  },
  {
   "metadata": {
    "ExecuteTime": {
     "end_time": "2024-05-05T13:30:04.766372Z",
     "start_time": "2024-05-05T13:30:04.394133Z"
    }
   },
   "cell_type": "code",
   "source": [
    "labels = meta_labeling(\n",
    "    triple_barrier_events, \n",
    "    data['Close']\n",
    ")"
   ],
   "id": "d94a34f15b39c1e7",
   "outputs": [],
   "execution_count": 5
  },
  {
   "metadata": {
    "ExecuteTime": {
     "end_time": "2024-05-05T13:30:04.774356Z",
     "start_time": "2024-05-05T13:30:04.769263Z"
    }
   },
   "cell_type": "code",
   "source": "labels.head()",
   "id": "6c68efab0addcd9f",
   "outputs": [
    {
     "data": {
      "text/plain": [
       "                 ret      trgt  bin\n",
       "Date                               \n",
       "2000-01-07 -0.067839  0.016797   -1\n",
       "2000-01-10 -0.108056  0.026415   -1\n",
       "2000-01-11 -0.059973  0.024043   -1\n",
       "2000-01-12  0.109677  0.031168    1\n",
       "2000-01-13  0.101422  0.050703    0"
      ],
      "text/html": [
       "<div>\n",
       "<style scoped>\n",
       "    .dataframe tbody tr th:only-of-type {\n",
       "        vertical-align: middle;\n",
       "    }\n",
       "\n",
       "    .dataframe tbody tr th {\n",
       "        vertical-align: top;\n",
       "    }\n",
       "\n",
       "    .dataframe thead th {\n",
       "        text-align: right;\n",
       "    }\n",
       "</style>\n",
       "<table border=\"1\" class=\"dataframe\">\n",
       "  <thead>\n",
       "    <tr style=\"text-align: right;\">\n",
       "      <th></th>\n",
       "      <th>ret</th>\n",
       "      <th>trgt</th>\n",
       "      <th>bin</th>\n",
       "    </tr>\n",
       "    <tr>\n",
       "      <th>Date</th>\n",
       "      <th></th>\n",
       "      <th></th>\n",
       "      <th></th>\n",
       "    </tr>\n",
       "  </thead>\n",
       "  <tbody>\n",
       "    <tr>\n",
       "      <th>2000-01-07</th>\n",
       "      <td>-0.067839</td>\n",
       "      <td>0.016797</td>\n",
       "      <td>-1</td>\n",
       "    </tr>\n",
       "    <tr>\n",
       "      <th>2000-01-10</th>\n",
       "      <td>-0.108056</td>\n",
       "      <td>0.026415</td>\n",
       "      <td>-1</td>\n",
       "    </tr>\n",
       "    <tr>\n",
       "      <th>2000-01-11</th>\n",
       "      <td>-0.059973</td>\n",
       "      <td>0.024043</td>\n",
       "      <td>-1</td>\n",
       "    </tr>\n",
       "    <tr>\n",
       "      <th>2000-01-12</th>\n",
       "      <td>0.109677</td>\n",
       "      <td>0.031168</td>\n",
       "      <td>1</td>\n",
       "    </tr>\n",
       "    <tr>\n",
       "      <th>2000-01-13</th>\n",
       "      <td>0.101422</td>\n",
       "      <td>0.050703</td>\n",
       "      <td>0</td>\n",
       "    </tr>\n",
       "  </tbody>\n",
       "</table>\n",
       "</div>"
      ]
     },
     "execution_count": 6,
     "metadata": {},
     "output_type": "execute_result"
    }
   ],
   "execution_count": 6
  },
  {
   "metadata": {
    "ExecuteTime": {
     "end_time": "2024-05-05T13:30:04.782324Z",
     "start_time": "2024-05-05T13:30:04.775498Z"
    }
   },
   "cell_type": "code",
   "source": [
    "triple_barrier_events['side'] = labels['bin']\n",
    "triple_barrier_events.head()"
   ],
   "id": "60b9474ebbc90921",
   "outputs": [
    {
     "data": {
      "text/plain": [
       "                   t1      trgt  pt  sl  side\n",
       "Date                                         \n",
       "2000-01-07 2000-01-11  0.016797   2   1  -1.0\n",
       "2000-01-10 2000-01-12  0.026415   2   1  -1.0\n",
       "2000-01-11 2000-01-12  0.024043   2   1  -1.0\n",
       "2000-01-12 2000-01-13  0.031168   2   1   1.0\n",
       "2000-01-13 2000-01-19  0.050703   2   1   0.0"
      ],
      "text/html": [
       "<div>\n",
       "<style scoped>\n",
       "    .dataframe tbody tr th:only-of-type {\n",
       "        vertical-align: middle;\n",
       "    }\n",
       "\n",
       "    .dataframe tbody tr th {\n",
       "        vertical-align: top;\n",
       "    }\n",
       "\n",
       "    .dataframe thead th {\n",
       "        text-align: right;\n",
       "    }\n",
       "</style>\n",
       "<table border=\"1\" class=\"dataframe\">\n",
       "  <thead>\n",
       "    <tr style=\"text-align: right;\">\n",
       "      <th></th>\n",
       "      <th>t1</th>\n",
       "      <th>trgt</th>\n",
       "      <th>pt</th>\n",
       "      <th>sl</th>\n",
       "      <th>side</th>\n",
       "    </tr>\n",
       "    <tr>\n",
       "      <th>Date</th>\n",
       "      <th></th>\n",
       "      <th></th>\n",
       "      <th></th>\n",
       "      <th></th>\n",
       "      <th></th>\n",
       "    </tr>\n",
       "  </thead>\n",
       "  <tbody>\n",
       "    <tr>\n",
       "      <th>2000-01-07</th>\n",
       "      <td>2000-01-11</td>\n",
       "      <td>0.016797</td>\n",
       "      <td>2</td>\n",
       "      <td>1</td>\n",
       "      <td>-1.0</td>\n",
       "    </tr>\n",
       "    <tr>\n",
       "      <th>2000-01-10</th>\n",
       "      <td>2000-01-12</td>\n",
       "      <td>0.026415</td>\n",
       "      <td>2</td>\n",
       "      <td>1</td>\n",
       "      <td>-1.0</td>\n",
       "    </tr>\n",
       "    <tr>\n",
       "      <th>2000-01-11</th>\n",
       "      <td>2000-01-12</td>\n",
       "      <td>0.024043</td>\n",
       "      <td>2</td>\n",
       "      <td>1</td>\n",
       "      <td>-1.0</td>\n",
       "    </tr>\n",
       "    <tr>\n",
       "      <th>2000-01-12</th>\n",
       "      <td>2000-01-13</td>\n",
       "      <td>0.031168</td>\n",
       "      <td>2</td>\n",
       "      <td>1</td>\n",
       "      <td>1.0</td>\n",
       "    </tr>\n",
       "    <tr>\n",
       "      <th>2000-01-13</th>\n",
       "      <td>2000-01-19</td>\n",
       "      <td>0.050703</td>\n",
       "      <td>2</td>\n",
       "      <td>1</td>\n",
       "      <td>0.0</td>\n",
       "    </tr>\n",
       "  </tbody>\n",
       "</table>\n",
       "</div>"
      ]
     },
     "execution_count": 7,
     "metadata": {},
     "output_type": "execute_result"
    }
   ],
   "execution_count": 7
  },
  {
   "metadata": {
    "ExecuteTime": {
     "end_time": "2024-05-05T13:30:06.212908Z",
     "start_time": "2024-05-05T13:30:04.783601Z"
    }
   },
   "cell_type": "code",
   "source": [
    "num_threads = 1\n",
    "num_conc_events = mp_pandas_obj(\n",
    "    concurrent_events, \n",
    "    ('molecule', triple_barrier_events.index), \n",
    "    num_threads, \n",
    "    close_series_index = data['Close'].index, \n",
    "    label_endtime = triple_barrier_events['t1']\n",
    ")"
   ],
   "id": "315b94a3d4303ae3",
   "outputs": [],
   "execution_count": 8
  },
  {
   "metadata": {
    "ExecuteTime": {
     "end_time": "2024-05-05T13:30:06.218019Z",
     "start_time": "2024-05-05T13:30:06.214075Z"
    }
   },
   "cell_type": "code",
   "source": "num_conc_events = num_conc_events.reindex(data['Close'].index).fillna(0)",
   "id": "a02df82f22f8ef0e",
   "outputs": [],
   "execution_count": 9
  },
  {
   "metadata": {
    "ExecuteTime": {
     "end_time": "2024-05-05T13:30:06.230008Z",
     "start_time": "2024-05-05T13:30:06.219666Z"
    }
   },
   "cell_type": "code",
   "source": "triple_barrier_events[:-5]",
   "id": "63ea34e394c734c0",
   "outputs": [
    {
     "data": {
      "text/plain": [
       "                   t1      trgt  pt  sl  side\n",
       "Date                                         \n",
       "2000-01-07 2000-01-11  0.016797   2   1  -1.0\n",
       "2000-01-10 2000-01-12  0.026415   2   1  -1.0\n",
       "2000-01-11 2000-01-12  0.024043   2   1  -1.0\n",
       "2000-01-12 2000-01-13  0.031168   2   1   1.0\n",
       "2000-01-13 2000-01-19  0.050703   2   1   0.0\n",
       "...               ...       ...  ..  ..   ...\n",
       "2024-03-26 2024-04-02  0.018161   2   1   0.0\n",
       "2024-03-27 2024-04-03  0.018151   2   1  -1.0\n",
       "2024-03-28 2024-04-04  0.018013   2   1   0.0\n",
       "2024-04-01 2024-04-08  0.017747   2   1   0.0\n",
       "2024-04-02 2024-04-09  0.017601   2   1   0.0\n",
       "\n",
       "[6096 rows x 5 columns]"
      ],
      "text/html": [
       "<div>\n",
       "<style scoped>\n",
       "    .dataframe tbody tr th:only-of-type {\n",
       "        vertical-align: middle;\n",
       "    }\n",
       "\n",
       "    .dataframe tbody tr th {\n",
       "        vertical-align: top;\n",
       "    }\n",
       "\n",
       "    .dataframe thead th {\n",
       "        text-align: right;\n",
       "    }\n",
       "</style>\n",
       "<table border=\"1\" class=\"dataframe\">\n",
       "  <thead>\n",
       "    <tr style=\"text-align: right;\">\n",
       "      <th></th>\n",
       "      <th>t1</th>\n",
       "      <th>trgt</th>\n",
       "      <th>pt</th>\n",
       "      <th>sl</th>\n",
       "      <th>side</th>\n",
       "    </tr>\n",
       "    <tr>\n",
       "      <th>Date</th>\n",
       "      <th></th>\n",
       "      <th></th>\n",
       "      <th></th>\n",
       "      <th></th>\n",
       "      <th></th>\n",
       "    </tr>\n",
       "  </thead>\n",
       "  <tbody>\n",
       "    <tr>\n",
       "      <th>2000-01-07</th>\n",
       "      <td>2000-01-11</td>\n",
       "      <td>0.016797</td>\n",
       "      <td>2</td>\n",
       "      <td>1</td>\n",
       "      <td>-1.0</td>\n",
       "    </tr>\n",
       "    <tr>\n",
       "      <th>2000-01-10</th>\n",
       "      <td>2000-01-12</td>\n",
       "      <td>0.026415</td>\n",
       "      <td>2</td>\n",
       "      <td>1</td>\n",
       "      <td>-1.0</td>\n",
       "    </tr>\n",
       "    <tr>\n",
       "      <th>2000-01-11</th>\n",
       "      <td>2000-01-12</td>\n",
       "      <td>0.024043</td>\n",
       "      <td>2</td>\n",
       "      <td>1</td>\n",
       "      <td>-1.0</td>\n",
       "    </tr>\n",
       "    <tr>\n",
       "      <th>2000-01-12</th>\n",
       "      <td>2000-01-13</td>\n",
       "      <td>0.031168</td>\n",
       "      <td>2</td>\n",
       "      <td>1</td>\n",
       "      <td>1.0</td>\n",
       "    </tr>\n",
       "    <tr>\n",
       "      <th>2000-01-13</th>\n",
       "      <td>2000-01-19</td>\n",
       "      <td>0.050703</td>\n",
       "      <td>2</td>\n",
       "      <td>1</td>\n",
       "      <td>0.0</td>\n",
       "    </tr>\n",
       "    <tr>\n",
       "      <th>...</th>\n",
       "      <td>...</td>\n",
       "      <td>...</td>\n",
       "      <td>...</td>\n",
       "      <td>...</td>\n",
       "      <td>...</td>\n",
       "    </tr>\n",
       "    <tr>\n",
       "      <th>2024-03-26</th>\n",
       "      <td>2024-04-02</td>\n",
       "      <td>0.018161</td>\n",
       "      <td>2</td>\n",
       "      <td>1</td>\n",
       "      <td>0.0</td>\n",
       "    </tr>\n",
       "    <tr>\n",
       "      <th>2024-03-27</th>\n",
       "      <td>2024-04-03</td>\n",
       "      <td>0.018151</td>\n",
       "      <td>2</td>\n",
       "      <td>1</td>\n",
       "      <td>-1.0</td>\n",
       "    </tr>\n",
       "    <tr>\n",
       "      <th>2024-03-28</th>\n",
       "      <td>2024-04-04</td>\n",
       "      <td>0.018013</td>\n",
       "      <td>2</td>\n",
       "      <td>1</td>\n",
       "      <td>0.0</td>\n",
       "    </tr>\n",
       "    <tr>\n",
       "      <th>2024-04-01</th>\n",
       "      <td>2024-04-08</td>\n",
       "      <td>0.017747</td>\n",
       "      <td>2</td>\n",
       "      <td>1</td>\n",
       "      <td>0.0</td>\n",
       "    </tr>\n",
       "    <tr>\n",
       "      <th>2024-04-02</th>\n",
       "      <td>2024-04-09</td>\n",
       "      <td>0.017601</td>\n",
       "      <td>2</td>\n",
       "      <td>1</td>\n",
       "      <td>0.0</td>\n",
       "    </tr>\n",
       "  </tbody>\n",
       "</table>\n",
       "<p>6096 rows × 5 columns</p>\n",
       "</div>"
      ]
     },
     "execution_count": 10,
     "metadata": {},
     "output_type": "execute_result"
    }
   ],
   "execution_count": 10
  },
  {
   "metadata": {
    "ExecuteTime": {
     "end_time": "2024-05-05T13:30:09.907425Z",
     "start_time": "2024-05-05T13:30:06.231186Z"
    }
   },
   "cell_type": "code",
   "source": [
    "from FinancialMachineLearning.sample_weights.attribution import *\n",
    "\n",
    "return_weights = weights_by_return(triple_barrier_events[:-5], data['Close'][:-5], num_threads = 1)"
   ],
   "id": "6297e6d921d15222",
   "outputs": [],
   "execution_count": 11
  },
  {
   "metadata": {
    "ExecuteTime": {
     "end_time": "2024-05-05T13:30:10.490343Z",
     "start_time": "2024-05-05T13:30:09.908884Z"
    }
   },
   "cell_type": "code",
   "source": [
    "fig, ax = plt.subplots(figsize = (8, 5))\n",
    "data['Close'].pct_change().plot(alpha = 0.75, ax = ax, color = 'lightgray')\n",
    "plt.ylim([-0.5, 0.5])\n",
    "plt.grid(False)\n",
    "\n",
    "return_weights.plot(secondary_y=True, lw = 1)\n",
    "plt.ylim([-25, 25])\n",
    "plt.legend(['return_attribution'])\n",
    "plt.grid(False)\n",
    "\n",
    "plt.title('return attribution | market : AAPL | sample weights')\n",
    "plt.show()"
   ],
   "id": "95b0ec5478b53170",
   "outputs": [
    {
     "data": {
      "text/plain": [
       "<Figure size 800x500 with 2 Axes>"
      ],
      "image/png": "[encoded data removed]"
     },
     "metadata": {},
     "output_type": "display_data"
    }
   ],
   "execution_count": 12
  }
 ],
 "metadata": {
  "kernelspec": {
   "display_name": "Python 3",
   "language": "python",
   "name": "python3"
  },
  "language_info": {
   "codemirror_mode": {
    "name": "ipython",
    "version": 2
   },
   "file_extension": ".py",
   "mimetype": "text/x-python",
   "name": "python",
   "nbconvert_exporter": "python",
   "pygments_lexer": "ipython2",
   "version": "2.7.6"
  }
 },
 "nbformat": 4,
 "nbformat_minor": 5
}
