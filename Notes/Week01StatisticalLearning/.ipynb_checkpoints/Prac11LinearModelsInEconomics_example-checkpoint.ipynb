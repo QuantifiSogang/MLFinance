{
 "cells": [
  {
   "cell_type": "markdown",
   "id": "dc3c1d109d87462",
   "metadata": {},
   "source": [
    "### Homework 11\n",
    "\n",
    "이번 과제에서는 기존 경제학에서 사용했던 모형을 Regularized Linear Model로 직접 구현해 보도록 한다"
   ]
  },
  {
   "cell_type": "markdown",
   "id": "97ddf1d0bccdb660",
   "metadata": {},
   "source": [
    "#### 1. Data Import\n",
    "\n",
    "`data.csv`는 대표적인 market index별 realized volatility를 기록한 자료이다. 아래와 같은 ticker가 등록되어 있다\n",
    "\n",
    "```\n",
    "array(['.AEX', '.AORD', '.BFX', '.BSESN', '.BVLG', '.BVSP', '.DJI',\n",
    "       '.FCHI', '.FTMIB', '.FTSE', '.GDAXI', '.GSPTSE', '.HSI', '.IBEX',\n",
    "       '.IXIC', '.KS11', '.KSE', '.MXX', '.N225', '.NSEI', '.OMXC20',\n",
    "       '.OMXHPI', '.OMXSPI', '.OSEAX', '.RUT', '.SMSI', '.SPX', '.SSEC',\n",
    "       '.SSMI', '.STI', '.STOXX50E'], dtype=object)\n",
    "```\n",
    "\n",
    "`.KS11`은 KOSPI시장을 나타내는 티커이다. 전체 데이터를 가져와 그 중 KOSPI index만 저장하라"
   ]
  },
  {
   "cell_type": "code",
   "execution_count": 1,
   "id": "65b311c667fcfaab",
   "metadata": {
    "ExecuteTime": {
     "end_time": "2023-11-22T08:02:08.528008Z",
     "start_time": "2023-11-22T08:02:08.213135Z"
    }
   },
   "outputs": [],
   "source": [
    "import pandas as pd\n",
    "import numpy as np\n",
    "\n",
    "data = pd.read_csv('data.csv', index_col = 0)"
   ]
  },
  {
   "cell_type": "code",
   "execution_count": 2,
   "id": "35a3b4b8308fe376",
   "metadata": {
    "ExecuteTime": {
     "end_time": "2023-11-22T08:02:08.548256Z",
     "start_time": "2023-11-22T08:02:08.527523Z"
    }
   },
   "outputs": [
    {
     "data": {
      "text/html": [
       "<div>\n",
       "<style scoped>\n",
       "    .dataframe tbody tr th:only-of-type {\n",
       "        vertical-align: middle;\n",
       "    }\n",
       "\n",
       "    .dataframe tbody tr th {\n",
       "        vertical-align: top;\n",
       "    }\n",
       "\n",
       "    .dataframe thead th {\n",
       "        text-align: right;\n",
       "    }\n",
       "</style>\n",
       "<table border=\"1\" class=\"dataframe\">\n",
       "  <thead>\n",
       "    <tr style=\"text-align: right;\">\n",
       "      <th></th>\n",
       "      <th>Symbol</th>\n",
       "      <th>rk_twoscale</th>\n",
       "      <th>rk_th2</th>\n",
       "      <th>close_price</th>\n",
       "      <th>rv5</th>\n",
       "      <th>rv5_ss</th>\n",
       "      <th>open_price</th>\n",
       "      <th>rv10</th>\n",
       "      <th>rk_parzen</th>\n",
       "      <th>rsv</th>\n",
       "      <th>medrv</th>\n",
       "      <th>bv_ss</th>\n",
       "      <th>rsv_ss</th>\n",
       "      <th>open_time</th>\n",
       "      <th>rv10_ss</th>\n",
       "      <th>nobs</th>\n",
       "      <th>bv</th>\n",
       "      <th>open_to_close</th>\n",
       "      <th>close_time</th>\n",
       "    </tr>\n",
       "  </thead>\n",
       "  <tbody>\n",
       "    <tr>\n",
       "      <th>2000-01-04 00:00:00+00:00</th>\n",
       "      <td>.KS11</td>\n",
       "      <td>0.000730</td>\n",
       "      <td>0.000745</td>\n",
       "      <td>1059.04</td>\n",
       "      <td>0.001130</td>\n",
       "      <td>0.001130</td>\n",
       "      <td>1028.33</td>\n",
       "      <td>0.000752</td>\n",
       "      <td>0.000316</td>\n",
       "      <td>0.000413</td>\n",
       "      <td>0.000350</td>\n",
       "      <td>0.000923</td>\n",
       "      <td>0.000413</td>\n",
       "      <td>100100.0</td>\n",
       "      <td>0.000752</td>\n",
       "      <td>363.0</td>\n",
       "      <td>0.000923</td>\n",
       "      <td>0.029427</td>\n",
       "      <td>134129.0</td>\n",
       "    </tr>\n",
       "    <tr>\n",
       "      <th>2000-01-05 00:00:00+00:00</th>\n",
       "      <td>.KS11</td>\n",
       "      <td>0.000784</td>\n",
       "      <td>0.000914</td>\n",
       "      <td>987.33</td>\n",
       "      <td>0.000753</td>\n",
       "      <td>0.000753</td>\n",
       "      <td>1006.87</td>\n",
       "      <td>0.001174</td>\n",
       "      <td>0.000697</td>\n",
       "      <td>0.000362</td>\n",
       "      <td>0.000277</td>\n",
       "      <td>0.000947</td>\n",
       "      <td>0.000362</td>\n",
       "      <td>90100.0</td>\n",
       "      <td>0.001174</td>\n",
       "      <td>603.0</td>\n",
       "      <td>0.000947</td>\n",
       "      <td>-0.019597</td>\n",
       "      <td>150029.0</td>\n",
       "    </tr>\n",
       "    <tr>\n",
       "      <th>2000-01-06 00:00:00+00:00</th>\n",
       "      <td>.KS11</td>\n",
       "      <td>0.000634</td>\n",
       "      <td>0.000768</td>\n",
       "      <td>960.65</td>\n",
       "      <td>0.000907</td>\n",
       "      <td>0.000907</td>\n",
       "      <td>1013.95</td>\n",
       "      <td>0.001200</td>\n",
       "      <td>0.000937</td>\n",
       "      <td>0.000657</td>\n",
       "      <td>0.000577</td>\n",
       "      <td>0.000971</td>\n",
       "      <td>0.000657</td>\n",
       "      <td>90108.0</td>\n",
       "      <td>0.001200</td>\n",
       "      <td>604.0</td>\n",
       "      <td>0.000971</td>\n",
       "      <td>-0.053999</td>\n",
       "      <td>150100.0</td>\n",
       "    </tr>\n",
       "    <tr>\n",
       "      <th>2000-01-07 00:00:00+00:00</th>\n",
       "      <td>.KS11</td>\n",
       "      <td>0.000913</td>\n",
       "      <td>0.001006</td>\n",
       "      <td>951.41</td>\n",
       "      <td>0.001066</td>\n",
       "      <td>0.001066</td>\n",
       "      <td>949.17</td>\n",
       "      <td>0.001314</td>\n",
       "      <td>0.000537</td>\n",
       "      <td>0.000560</td>\n",
       "      <td>0.000481</td>\n",
       "      <td>0.001224</td>\n",
       "      <td>0.000560</td>\n",
       "      <td>90100.0</td>\n",
       "      <td>0.001314</td>\n",
       "      <td>603.0</td>\n",
       "      <td>0.001224</td>\n",
       "      <td>0.002357</td>\n",
       "      <td>150030.0</td>\n",
       "    </tr>\n",
       "    <tr>\n",
       "      <th>2000-01-10 00:00:00+00:00</th>\n",
       "      <td>.KS11</td>\n",
       "      <td>0.000238</td>\n",
       "      <td>0.000264</td>\n",
       "      <td>987.24</td>\n",
       "      <td>0.000303</td>\n",
       "      <td>0.000303</td>\n",
       "      <td>979.56</td>\n",
       "      <td>0.000331</td>\n",
       "      <td>0.000183</td>\n",
       "      <td>0.000125</td>\n",
       "      <td>0.000207</td>\n",
       "      <td>0.000296</td>\n",
       "      <td>0.000125</td>\n",
       "      <td>90458.0</td>\n",
       "      <td>0.000331</td>\n",
       "      <td>597.0</td>\n",
       "      <td>0.000296</td>\n",
       "      <td>0.007810</td>\n",
       "      <td>150130.0</td>\n",
       "    </tr>\n",
       "  </tbody>\n",
       "</table>\n",
       "</div>"
      ],
      "text/plain": [
       "                          Symbol  rk_twoscale    rk_th2  close_price  \\\n",
       "2000-01-04 00:00:00+00:00  .KS11     0.000730  0.000745      1059.04   \n",
       "2000-01-05 00:00:00+00:00  .KS11     0.000784  0.000914       987.33   \n",
       "2000-01-06 00:00:00+00:00  .KS11     0.000634  0.000768       960.65   \n",
       "2000-01-07 00:00:00+00:00  .KS11     0.000913  0.001006       951.41   \n",
       "2000-01-10 00:00:00+00:00  .KS11     0.000238  0.000264       987.24   \n",
       "\n",
       "                                rv5    rv5_ss  open_price      rv10  \\\n",
       "2000-01-04 00:00:00+00:00  0.001130  0.001130     1028.33  0.000752   \n",
       "2000-01-05 00:00:00+00:00  0.000753  0.000753     1006.87  0.001174   \n",
       "2000-01-06 00:00:00+00:00  0.000907  0.000907     1013.95  0.001200   \n",
       "2000-01-07 00:00:00+00:00  0.001066  0.001066      949.17  0.001314   \n",
       "2000-01-10 00:00:00+00:00  0.000303  0.000303      979.56  0.000331   \n",
       "\n",
       "                           rk_parzen       rsv     medrv     bv_ss    rsv_ss  \\\n",
       "2000-01-04 00:00:00+00:00   0.000316  0.000413  0.000350  0.000923  0.000413   \n",
       "2000-01-05 00:00:00+00:00   0.000697  0.000362  0.000277  0.000947  0.000362   \n",
       "2000-01-06 00:00:00+00:00   0.000937  0.000657  0.000577  0.000971  0.000657   \n",
       "2000-01-07 00:00:00+00:00   0.000537  0.000560  0.000481  0.001224  0.000560   \n",
       "2000-01-10 00:00:00+00:00   0.000183  0.000125  0.000207  0.000296  0.000125   \n",
       "\n",
       "                           open_time   rv10_ss   nobs        bv  \\\n",
       "2000-01-04 00:00:00+00:00   100100.0  0.000752  363.0  0.000923   \n",
       "2000-01-05 00:00:00+00:00    90100.0  0.001174  603.0  0.000947   \n",
       "2000-01-06 00:00:00+00:00    90108.0  0.001200  604.0  0.000971   \n",
       "2000-01-07 00:00:00+00:00    90100.0  0.001314  603.0  0.001224   \n",
       "2000-01-10 00:00:00+00:00    90458.0  0.000331  597.0  0.000296   \n",
       "\n",
       "                           open_to_close  close_time  \n",
       "2000-01-04 00:00:00+00:00       0.029427    134129.0  \n",
       "2000-01-05 00:00:00+00:00      -0.019597    150029.0  \n",
       "2000-01-06 00:00:00+00:00      -0.053999    150100.0  \n",
       "2000-01-07 00:00:00+00:00       0.002357    150030.0  \n",
       "2000-01-10 00:00:00+00:00       0.007810    150130.0  "
      ]
     },
     "execution_count": 2,
     "metadata": {},
     "output_type": "execute_result"
    }
   ],
   "source": [
    "kospi = data[data['Symbol'] == '.KS11']\n",
    "kospi.head()"
   ]
  },
  {
   "cell_type": "markdown",
   "id": "87ad8cc706a6df1",
   "metadata": {},
   "source": [
    "#### 2. HAR Model\n",
    "\n",
    "HAR (Heterogeneous Autoregressive) model은 2009년 Corsi가 제안한 모형으로, 다음과 같이 추정된다\n",
    "\n",
    "$$\\log \\mathrm{RV}_{t+1}^d = \\beta_0 + \\beta_d \\log \\mathrm{RV}_{t}^d + \\beta_w \\log \\mathrm{RV}_{t}^w + \\beta_m \\log \\mathrm{RV}_{t}^m$$\n",
    "\n",
    "여기서 $\\log \\mathrm{RV}_t^w = \\sum_{j=0}^4 \\mathrm{RV}_{t-j}^d$이고, $\\log \\mathrm{RV}_t^w = \\sum_{j=0}^{21} \\mathrm{RV}_{t-j}^d$이다\n",
    "\n",
    "식의 추정을 위해 realized volatility를 shift() method를 사용해 새로운 컬럼을 추가하면서 22일 전까지의 realized volatility가 하나의 row에 있는 Data Frame을 생성하라(11장 강의노트를 참고하면 좋다) 컬럼은 rv5를 사용하면 된다"
   ]
  },
  {
   "cell_type": "code",
   "execution_count": 3,
   "id": "f282448b6ee46b9f",
   "metadata": {
    "ExecuteTime": {
     "end_time": "2023-11-22T08:02:08.567714Z",
     "start_time": "2023-11-22T08:02:08.545933Z"
    }
   },
   "outputs": [
    {
     "name": "stderr",
     "output_type": "stream",
     "text": [
      "/var/folders/1q/pl9tj55n57s9jg28npxw61n80000gn/T/ipykernel_16215/1806876430.py:2: SettingWithCopyWarning: \n",
      "A value is trying to be set on a copy of a slice from a DataFrame.\n",
      "Try using .loc[row_indexer,col_indexer] = value instead\n",
      "\n",
      "See the caveats in the documentation: https://pandas.pydata.org/pandas-docs/stable/user_guide/indexing.html#returning-a-view-versus-a-copy\n",
      "  kospi['ar'+str(i)] = kospi['rv5'].shift(i)\n",
      "/var/folders/1q/pl9tj55n57s9jg28npxw61n80000gn/T/ipykernel_16215/1806876430.py:2: SettingWithCopyWarning: \n",
      "A value is trying to be set on a copy of a slice from a DataFrame.\n",
      "Try using .loc[row_indexer,col_indexer] = value instead\n",
      "\n",
      "See the caveats in the documentation: https://pandas.pydata.org/pandas-docs/stable/user_guide/indexing.html#returning-a-view-versus-a-copy\n",
      "  kospi['ar'+str(i)] = kospi['rv5'].shift(i)\n",
      "/var/folders/1q/pl9tj55n57s9jg28npxw61n80000gn/T/ipykernel_16215/1806876430.py:2: SettingWithCopyWarning: \n",
      "A value is trying to be set on a copy of a slice from a DataFrame.\n",
      "Try using .loc[row_indexer,col_indexer] = value instead\n",
      "\n",
      "See the caveats in the documentation: https://pandas.pydata.org/pandas-docs/stable/user_guide/indexing.html#returning-a-view-versus-a-copy\n",
      "  kospi['ar'+str(i)] = kospi['rv5'].shift(i)\n",
      "/var/folders/1q/pl9tj55n57s9jg28npxw61n80000gn/T/ipykernel_16215/1806876430.py:2: SettingWithCopyWarning: \n",
      "A value is trying to be set on a copy of a slice from a DataFrame.\n",
      "Try using .loc[row_indexer,col_indexer] = value instead\n",
      "\n",
      "See the caveats in the documentation: https://pandas.pydata.org/pandas-docs/stable/user_guide/indexing.html#returning-a-view-versus-a-copy\n",
      "  kospi['ar'+str(i)] = kospi['rv5'].shift(i)\n",
      "/var/folders/1q/pl9tj55n57s9jg28npxw61n80000gn/T/ipykernel_16215/1806876430.py:2: SettingWithCopyWarning: \n",
      "A value is trying to be set on a copy of a slice from a DataFrame.\n",
      "Try using .loc[row_indexer,col_indexer] = value instead\n",
      "\n",
      "See the caveats in the documentation: https://pandas.pydata.org/pandas-docs/stable/user_guide/indexing.html#returning-a-view-versus-a-copy\n",
      "  kospi['ar'+str(i)] = kospi['rv5'].shift(i)\n",
      "/var/folders/1q/pl9tj55n57s9jg28npxw61n80000gn/T/ipykernel_16215/1806876430.py:2: SettingWithCopyWarning: \n",
      "A value is trying to be set on a copy of a slice from a DataFrame.\n",
      "Try using .loc[row_indexer,col_indexer] = value instead\n",
      "\n",
      "See the caveats in the documentation: https://pandas.pydata.org/pandas-docs/stable/user_guide/indexing.html#returning-a-view-versus-a-copy\n",
      "  kospi['ar'+str(i)] = kospi['rv5'].shift(i)\n",
      "/var/folders/1q/pl9tj55n57s9jg28npxw61n80000gn/T/ipykernel_16215/1806876430.py:2: SettingWithCopyWarning: \n",
      "A value is trying to be set on a copy of a slice from a DataFrame.\n",
      "Try using .loc[row_indexer,col_indexer] = value instead\n",
      "\n",
      "See the caveats in the documentation: https://pandas.pydata.org/pandas-docs/stable/user_guide/indexing.html#returning-a-view-versus-a-copy\n",
      "  kospi['ar'+str(i)] = kospi['rv5'].shift(i)\n",
      "/var/folders/1q/pl9tj55n57s9jg28npxw61n80000gn/T/ipykernel_16215/1806876430.py:2: SettingWithCopyWarning: \n",
      "A value is trying to be set on a copy of a slice from a DataFrame.\n",
      "Try using .loc[row_indexer,col_indexer] = value instead\n",
      "\n",
      "See the caveats in the documentation: https://pandas.pydata.org/pandas-docs/stable/user_guide/indexing.html#returning-a-view-versus-a-copy\n",
      "  kospi['ar'+str(i)] = kospi['rv5'].shift(i)\n",
      "/var/folders/1q/pl9tj55n57s9jg28npxw61n80000gn/T/ipykernel_16215/1806876430.py:2: SettingWithCopyWarning: \n",
      "A value is trying to be set on a copy of a slice from a DataFrame.\n",
      "Try using .loc[row_indexer,col_indexer] = value instead\n",
      "\n",
      "See the caveats in the documentation: https://pandas.pydata.org/pandas-docs/stable/user_guide/indexing.html#returning-a-view-versus-a-copy\n",
      "  kospi['ar'+str(i)] = kospi['rv5'].shift(i)\n",
      "/var/folders/1q/pl9tj55n57s9jg28npxw61n80000gn/T/ipykernel_16215/1806876430.py:2: SettingWithCopyWarning: \n",
      "A value is trying to be set on a copy of a slice from a DataFrame.\n",
      "Try using .loc[row_indexer,col_indexer] = value instead\n",
      "\n",
      "See the caveats in the documentation: https://pandas.pydata.org/pandas-docs/stable/user_guide/indexing.html#returning-a-view-versus-a-copy\n",
      "  kospi['ar'+str(i)] = kospi['rv5'].shift(i)\n",
      "/var/folders/1q/pl9tj55n57s9jg28npxw61n80000gn/T/ipykernel_16215/1806876430.py:2: SettingWithCopyWarning: \n",
      "A value is trying to be set on a copy of a slice from a DataFrame.\n",
      "Try using .loc[row_indexer,col_indexer] = value instead\n",
      "\n",
      "See the caveats in the documentation: https://pandas.pydata.org/pandas-docs/stable/user_guide/indexing.html#returning-a-view-versus-a-copy\n",
      "  kospi['ar'+str(i)] = kospi['rv5'].shift(i)\n",
      "/var/folders/1q/pl9tj55n57s9jg28npxw61n80000gn/T/ipykernel_16215/1806876430.py:2: SettingWithCopyWarning: \n",
      "A value is trying to be set on a copy of a slice from a DataFrame.\n",
      "Try using .loc[row_indexer,col_indexer] = value instead\n",
      "\n",
      "See the caveats in the documentation: https://pandas.pydata.org/pandas-docs/stable/user_guide/indexing.html#returning-a-view-versus-a-copy\n",
      "  kospi['ar'+str(i)] = kospi['rv5'].shift(i)\n",
      "/var/folders/1q/pl9tj55n57s9jg28npxw61n80000gn/T/ipykernel_16215/1806876430.py:2: SettingWithCopyWarning: \n",
      "A value is trying to be set on a copy of a slice from a DataFrame.\n",
      "Try using .loc[row_indexer,col_indexer] = value instead\n",
      "\n",
      "See the caveats in the documentation: https://pandas.pydata.org/pandas-docs/stable/user_guide/indexing.html#returning-a-view-versus-a-copy\n",
      "  kospi['ar'+str(i)] = kospi['rv5'].shift(i)\n",
      "/var/folders/1q/pl9tj55n57s9jg28npxw61n80000gn/T/ipykernel_16215/1806876430.py:2: SettingWithCopyWarning: \n",
      "A value is trying to be set on a copy of a slice from a DataFrame.\n",
      "Try using .loc[row_indexer,col_indexer] = value instead\n",
      "\n",
      "See the caveats in the documentation: https://pandas.pydata.org/pandas-docs/stable/user_guide/indexing.html#returning-a-view-versus-a-copy\n",
      "  kospi['ar'+str(i)] = kospi['rv5'].shift(i)\n",
      "/var/folders/1q/pl9tj55n57s9jg28npxw61n80000gn/T/ipykernel_16215/1806876430.py:2: SettingWithCopyWarning: \n",
      "A value is trying to be set on a copy of a slice from a DataFrame.\n",
      "Try using .loc[row_indexer,col_indexer] = value instead\n",
      "\n",
      "See the caveats in the documentation: https://pandas.pydata.org/pandas-docs/stable/user_guide/indexing.html#returning-a-view-versus-a-copy\n",
      "  kospi['ar'+str(i)] = kospi['rv5'].shift(i)\n",
      "/var/folders/1q/pl9tj55n57s9jg28npxw61n80000gn/T/ipykernel_16215/1806876430.py:2: SettingWithCopyWarning: \n",
      "A value is trying to be set on a copy of a slice from a DataFrame.\n",
      "Try using .loc[row_indexer,col_indexer] = value instead\n",
      "\n",
      "See the caveats in the documentation: https://pandas.pydata.org/pandas-docs/stable/user_guide/indexing.html#returning-a-view-versus-a-copy\n",
      "  kospi['ar'+str(i)] = kospi['rv5'].shift(i)\n",
      "/var/folders/1q/pl9tj55n57s9jg28npxw61n80000gn/T/ipykernel_16215/1806876430.py:2: SettingWithCopyWarning: \n",
      "A value is trying to be set on a copy of a slice from a DataFrame.\n",
      "Try using .loc[row_indexer,col_indexer] = value instead\n",
      "\n",
      "See the caveats in the documentation: https://pandas.pydata.org/pandas-docs/stable/user_guide/indexing.html#returning-a-view-versus-a-copy\n",
      "  kospi['ar'+str(i)] = kospi['rv5'].shift(i)\n",
      "/var/folders/1q/pl9tj55n57s9jg28npxw61n80000gn/T/ipykernel_16215/1806876430.py:2: SettingWithCopyWarning: \n",
      "A value is trying to be set on a copy of a slice from a DataFrame.\n",
      "Try using .loc[row_indexer,col_indexer] = value instead\n",
      "\n",
      "See the caveats in the documentation: https://pandas.pydata.org/pandas-docs/stable/user_guide/indexing.html#returning-a-view-versus-a-copy\n",
      "  kospi['ar'+str(i)] = kospi['rv5'].shift(i)\n",
      "/var/folders/1q/pl9tj55n57s9jg28npxw61n80000gn/T/ipykernel_16215/1806876430.py:2: SettingWithCopyWarning: \n",
      "A value is trying to be set on a copy of a slice from a DataFrame.\n",
      "Try using .loc[row_indexer,col_indexer] = value instead\n",
      "\n",
      "See the caveats in the documentation: https://pandas.pydata.org/pandas-docs/stable/user_guide/indexing.html#returning-a-view-versus-a-copy\n",
      "  kospi['ar'+str(i)] = kospi['rv5'].shift(i)\n",
      "/var/folders/1q/pl9tj55n57s9jg28npxw61n80000gn/T/ipykernel_16215/1806876430.py:2: SettingWithCopyWarning: \n",
      "A value is trying to be set on a copy of a slice from a DataFrame.\n",
      "Try using .loc[row_indexer,col_indexer] = value instead\n",
      "\n",
      "See the caveats in the documentation: https://pandas.pydata.org/pandas-docs/stable/user_guide/indexing.html#returning-a-view-versus-a-copy\n",
      "  kospi['ar'+str(i)] = kospi['rv5'].shift(i)\n",
      "/var/folders/1q/pl9tj55n57s9jg28npxw61n80000gn/T/ipykernel_16215/1806876430.py:2: SettingWithCopyWarning: \n",
      "A value is trying to be set on a copy of a slice from a DataFrame.\n",
      "Try using .loc[row_indexer,col_indexer] = value instead\n",
      "\n",
      "See the caveats in the documentation: https://pandas.pydata.org/pandas-docs/stable/user_guide/indexing.html#returning-a-view-versus-a-copy\n",
      "  kospi['ar'+str(i)] = kospi['rv5'].shift(i)\n",
      "/var/folders/1q/pl9tj55n57s9jg28npxw61n80000gn/T/ipykernel_16215/1806876430.py:2: SettingWithCopyWarning: \n",
      "A value is trying to be set on a copy of a slice from a DataFrame.\n",
      "Try using .loc[row_indexer,col_indexer] = value instead\n",
      "\n",
      "See the caveats in the documentation: https://pandas.pydata.org/pandas-docs/stable/user_guide/indexing.html#returning-a-view-versus-a-copy\n",
      "  kospi['ar'+str(i)] = kospi['rv5'].shift(i)\n"
     ]
    },
    {
     "data": {
      "text/html": [
       "<div>\n",
       "<style scoped>\n",
       "    .dataframe tbody tr th:only-of-type {\n",
       "        vertical-align: middle;\n",
       "    }\n",
       "\n",
       "    .dataframe tbody tr th {\n",
       "        vertical-align: top;\n",
       "    }\n",
       "\n",
       "    .dataframe thead th {\n",
       "        text-align: right;\n",
       "    }\n",
       "</style>\n",
       "<table border=\"1\" class=\"dataframe\">\n",
       "  <thead>\n",
       "    <tr style=\"text-align: right;\">\n",
       "      <th></th>\n",
       "      <th>Symbol</th>\n",
       "      <th>rk_twoscale</th>\n",
       "      <th>rk_th2</th>\n",
       "      <th>close_price</th>\n",
       "      <th>rv5</th>\n",
       "      <th>rv5_ss</th>\n",
       "      <th>open_price</th>\n",
       "      <th>rv10</th>\n",
       "      <th>rk_parzen</th>\n",
       "      <th>rsv</th>\n",
       "      <th>...</th>\n",
       "      <th>ar13</th>\n",
       "      <th>ar14</th>\n",
       "      <th>ar15</th>\n",
       "      <th>ar16</th>\n",
       "      <th>ar17</th>\n",
       "      <th>ar18</th>\n",
       "      <th>ar19</th>\n",
       "      <th>ar20</th>\n",
       "      <th>ar21</th>\n",
       "      <th>ar22</th>\n",
       "    </tr>\n",
       "  </thead>\n",
       "  <tbody>\n",
       "    <tr>\n",
       "      <th>2000-02-03 00:00:00+00:00</th>\n",
       "      <td>.KS11</td>\n",
       "      <td>0.000257</td>\n",
       "      <td>0.000329</td>\n",
       "      <td>951.39</td>\n",
       "      <td>0.000431</td>\n",
       "      <td>0.000431</td>\n",
       "      <td>950.26</td>\n",
       "      <td>0.000538</td>\n",
       "      <td>0.000569</td>\n",
       "      <td>0.000228</td>\n",
       "      <td>...</td>\n",
       "      <td>0.000170</td>\n",
       "      <td>0.000626</td>\n",
       "      <td>0.000406</td>\n",
       "      <td>0.000270</td>\n",
       "      <td>0.000351</td>\n",
       "      <td>0.000303</td>\n",
       "      <td>0.001066</td>\n",
       "      <td>0.000907</td>\n",
       "      <td>0.000753</td>\n",
       "      <td>0.001130</td>\n",
       "    </tr>\n",
       "    <tr>\n",
       "      <th>2000-02-07 00:00:00+00:00</th>\n",
       "      <td>.KS11</td>\n",
       "      <td>0.000309</td>\n",
       "      <td>0.000336</td>\n",
       "      <td>974.25</td>\n",
       "      <td>0.000343</td>\n",
       "      <td>0.000343</td>\n",
       "      <td>953.23</td>\n",
       "      <td>0.000223</td>\n",
       "      <td>0.000188</td>\n",
       "      <td>0.000138</td>\n",
       "      <td>...</td>\n",
       "      <td>0.000534</td>\n",
       "      <td>0.000170</td>\n",
       "      <td>0.000626</td>\n",
       "      <td>0.000406</td>\n",
       "      <td>0.000270</td>\n",
       "      <td>0.000351</td>\n",
       "      <td>0.000303</td>\n",
       "      <td>0.001066</td>\n",
       "      <td>0.000907</td>\n",
       "      <td>0.000753</td>\n",
       "    </tr>\n",
       "    <tr>\n",
       "      <th>2000-02-08 00:00:00+00:00</th>\n",
       "      <td>.KS11</td>\n",
       "      <td>0.000144</td>\n",
       "      <td>0.000171</td>\n",
       "      <td>962.64</td>\n",
       "      <td>0.000211</td>\n",
       "      <td>0.000211</td>\n",
       "      <td>977.07</td>\n",
       "      <td>0.000295</td>\n",
       "      <td>0.000152</td>\n",
       "      <td>0.000131</td>\n",
       "      <td>...</td>\n",
       "      <td>0.000391</td>\n",
       "      <td>0.000534</td>\n",
       "      <td>0.000170</td>\n",
       "      <td>0.000626</td>\n",
       "      <td>0.000406</td>\n",
       "      <td>0.000270</td>\n",
       "      <td>0.000351</td>\n",
       "      <td>0.000303</td>\n",
       "      <td>0.001066</td>\n",
       "      <td>0.000907</td>\n",
       "    </tr>\n",
       "    <tr>\n",
       "      <th>2000-02-09 00:00:00+00:00</th>\n",
       "      <td>.KS11</td>\n",
       "      <td>0.000141</td>\n",
       "      <td>0.000165</td>\n",
       "      <td>975.57</td>\n",
       "      <td>0.000178</td>\n",
       "      <td>0.000178</td>\n",
       "      <td>967.53</td>\n",
       "      <td>0.000242</td>\n",
       "      <td>0.000101</td>\n",
       "      <td>0.000068</td>\n",
       "      <td>...</td>\n",
       "      <td>0.000653</td>\n",
       "      <td>0.000391</td>\n",
       "      <td>0.000534</td>\n",
       "      <td>0.000170</td>\n",
       "      <td>0.000626</td>\n",
       "      <td>0.000406</td>\n",
       "      <td>0.000270</td>\n",
       "      <td>0.000351</td>\n",
       "      <td>0.000303</td>\n",
       "      <td>0.001066</td>\n",
       "    </tr>\n",
       "    <tr>\n",
       "      <th>2000-02-10 00:00:00+00:00</th>\n",
       "      <td>.KS11</td>\n",
       "      <td>0.000400</td>\n",
       "      <td>0.000440</td>\n",
       "      <td>974.36</td>\n",
       "      <td>0.000476</td>\n",
       "      <td>0.000476</td>\n",
       "      <td>966.36</td>\n",
       "      <td>0.000364</td>\n",
       "      <td>0.000302</td>\n",
       "      <td>0.000230</td>\n",
       "      <td>...</td>\n",
       "      <td>0.000673</td>\n",
       "      <td>0.000653</td>\n",
       "      <td>0.000391</td>\n",
       "      <td>0.000534</td>\n",
       "      <td>0.000170</td>\n",
       "      <td>0.000626</td>\n",
       "      <td>0.000406</td>\n",
       "      <td>0.000270</td>\n",
       "      <td>0.000351</td>\n",
       "      <td>0.000303</td>\n",
       "    </tr>\n",
       "  </tbody>\n",
       "</table>\n",
       "<p>5 rows × 41 columns</p>\n",
       "</div>"
      ],
      "text/plain": [
       "                          Symbol  rk_twoscale    rk_th2  close_price  \\\n",
       "2000-02-03 00:00:00+00:00  .KS11     0.000257  0.000329       951.39   \n",
       "2000-02-07 00:00:00+00:00  .KS11     0.000309  0.000336       974.25   \n",
       "2000-02-08 00:00:00+00:00  .KS11     0.000144  0.000171       962.64   \n",
       "2000-02-09 00:00:00+00:00  .KS11     0.000141  0.000165       975.57   \n",
       "2000-02-10 00:00:00+00:00  .KS11     0.000400  0.000440       974.36   \n",
       "\n",
       "                                rv5    rv5_ss  open_price      rv10  \\\n",
       "2000-02-03 00:00:00+00:00  0.000431  0.000431      950.26  0.000538   \n",
       "2000-02-07 00:00:00+00:00  0.000343  0.000343      953.23  0.000223   \n",
       "2000-02-08 00:00:00+00:00  0.000211  0.000211      977.07  0.000295   \n",
       "2000-02-09 00:00:00+00:00  0.000178  0.000178      967.53  0.000242   \n",
       "2000-02-10 00:00:00+00:00  0.000476  0.000476      966.36  0.000364   \n",
       "\n",
       "                           rk_parzen       rsv  ...      ar13      ar14  \\\n",
       "2000-02-03 00:00:00+00:00   0.000569  0.000228  ...  0.000170  0.000626   \n",
       "2000-02-07 00:00:00+00:00   0.000188  0.000138  ...  0.000534  0.000170   \n",
       "2000-02-08 00:00:00+00:00   0.000152  0.000131  ...  0.000391  0.000534   \n",
       "2000-02-09 00:00:00+00:00   0.000101  0.000068  ...  0.000653  0.000391   \n",
       "2000-02-10 00:00:00+00:00   0.000302  0.000230  ...  0.000673  0.000653   \n",
       "\n",
       "                               ar15      ar16      ar17      ar18      ar19  \\\n",
       "2000-02-03 00:00:00+00:00  0.000406  0.000270  0.000351  0.000303  0.001066   \n",
       "2000-02-07 00:00:00+00:00  0.000626  0.000406  0.000270  0.000351  0.000303   \n",
       "2000-02-08 00:00:00+00:00  0.000170  0.000626  0.000406  0.000270  0.000351   \n",
       "2000-02-09 00:00:00+00:00  0.000534  0.000170  0.000626  0.000406  0.000270   \n",
       "2000-02-10 00:00:00+00:00  0.000391  0.000534  0.000170  0.000626  0.000406   \n",
       "\n",
       "                               ar20      ar21      ar22  \n",
       "2000-02-03 00:00:00+00:00  0.000907  0.000753  0.001130  \n",
       "2000-02-07 00:00:00+00:00  0.001066  0.000907  0.000753  \n",
       "2000-02-08 00:00:00+00:00  0.000303  0.001066  0.000907  \n",
       "2000-02-09 00:00:00+00:00  0.000351  0.000303  0.001066  \n",
       "2000-02-10 00:00:00+00:00  0.000270  0.000351  0.000303  \n",
       "\n",
       "[5 rows x 41 columns]"
      ]
     },
     "execution_count": 3,
     "metadata": {},
     "output_type": "execute_result"
    }
   ],
   "source": [
    "for i in range(1, 23) :\n",
    "    kospi['ar'+str(i)] = kospi['rv5'].shift(i)\n",
    "kospi = kospi.dropna()\n",
    "kospi.head()"
   ]
  },
  {
   "cell_type": "markdown",
   "id": "f70eec58cbbe516a",
   "metadata": {},
   "source": [
    "#### 3. Ridge Regression\n",
    "\n",
    "3.1 준비된 Data Frame을 이용하여 train test split을 수행하라. test data의 비율을 0.2로 지정, shuffle = False로 지정하고 분할하면 된다. random seed는 42로 지정한다"
   ]
  },
  {
   "cell_type": "code",
   "execution_count": 4,
   "id": "45f505b969e5d265",
   "metadata": {
    "ExecuteTime": {
     "end_time": "2023-11-22T08:02:08.699503Z",
     "start_time": "2023-11-22T08:02:08.562505Z"
    }
   },
   "outputs": [],
   "source": [
    "from sklearn.model_selection import train_test_split\n",
    "X = kospi.drop(['Symbol','rk_twoscale','rk_th2','close_price','rv5_ss','open_price','rv10',\n",
    "                'rk_parzen','rsv','medrv','bv_ss','rsv_ss','open_time',\n",
    "                'rv10_ss','nobs','bv','open_to_close','close_time','rv5'], axis = 1)\n",
    "y = kospi['rv5']\n",
    "\n",
    "X_train, X_test, y_train, y_test = train_test_split(X, y, test_size = 0.2, shuffle = False)"
   ]
  },
  {
   "cell_type": "markdown",
   "id": "c5b0b3e672d83d55",
   "metadata": {},
   "source": [
    "3.2 Ridge Regression을 수행하라. parameter `alpha = 0.1`을 지정한다"
   ]
  },
  {
   "cell_type": "code",
   "execution_count": 5,
   "id": "f8d796af0d8f4623",
   "metadata": {
    "ExecuteTime": {
     "end_time": "2023-11-22T08:02:08.734979Z",
     "start_time": "2023-11-22T08:02:08.688523Z"
    }
   },
   "outputs": [
    {
     "data": {
      "text/html": [
       "<style>#sk-container-id-1 {color: black;}#sk-container-id-1 pre{padding: 0;}#sk-container-id-1 div.sk-toggleable {background-color: white;}#sk-container-id-1 label.sk-toggleable__label {cursor: pointer;display: block;width: 100%;margin-bottom: 0;padding: 0.3em;box-sizing: border-box;text-align: center;}#sk-container-id-1 label.sk-toggleable__label-arrow:before {content: \"▸\";float: left;margin-right: 0.25em;color: #696969;}#sk-container-id-1 label.sk-toggleable__label-arrow:hover:before {color: black;}#sk-container-id-1 div.sk-estimator:hover label.sk-toggleable__label-arrow:before {color: black;}#sk-container-id-1 div.sk-toggleable__content {max-height: 0;max-width: 0;overflow: hidden;text-align: left;background-color: #f0f8ff;}#sk-container-id-1 div.sk-toggleable__content pre {margin: 0.2em;color: black;border-radius: 0.25em;background-color: #f0f8ff;}#sk-container-id-1 input.sk-toggleable__control:checked~div.sk-toggleable__content {max-height: 200px;max-width: 100%;overflow: auto;}#sk-container-id-1 input.sk-toggleable__control:checked~label.sk-toggleable__label-arrow:before {content: \"▾\";}#sk-container-id-1 div.sk-estimator input.sk-toggleable__control:checked~label.sk-toggleable__label {background-color: #d4ebff;}#sk-container-id-1 div.sk-label input.sk-toggleable__control:checked~label.sk-toggleable__label {background-color: #d4ebff;}#sk-container-id-1 input.sk-hidden--visually {border: 0;clip: rect(1px 1px 1px 1px);clip: rect(1px, 1px, 1px, 1px);height: 1px;margin: -1px;overflow: hidden;padding: 0;position: absolute;width: 1px;}#sk-container-id-1 div.sk-estimator {font-family: monospace;background-color: #f0f8ff;border: 1px dotted black;border-radius: 0.25em;box-sizing: border-box;margin-bottom: 0.5em;}#sk-container-id-1 div.sk-estimator:hover {background-color: #d4ebff;}#sk-container-id-1 div.sk-parallel-item::after {content: \"\";width: 100%;border-bottom: 1px solid gray;flex-grow: 1;}#sk-container-id-1 div.sk-label:hover label.sk-toggleable__label {background-color: #d4ebff;}#sk-container-id-1 div.sk-serial::before {content: \"\";position: absolute;border-left: 1px solid gray;box-sizing: border-box;top: 0;bottom: 0;left: 50%;z-index: 0;}#sk-container-id-1 div.sk-serial {display: flex;flex-direction: column;align-items: center;background-color: white;padding-right: 0.2em;padding-left: 0.2em;position: relative;}#sk-container-id-1 div.sk-item {position: relative;z-index: 1;}#sk-container-id-1 div.sk-parallel {display: flex;align-items: stretch;justify-content: center;background-color: white;position: relative;}#sk-container-id-1 div.sk-item::before, #sk-container-id-1 div.sk-parallel-item::before {content: \"\";position: absolute;border-left: 1px solid gray;box-sizing: border-box;top: 0;bottom: 0;left: 50%;z-index: -1;}#sk-container-id-1 div.sk-parallel-item {display: flex;flex-direction: column;z-index: 1;position: relative;background-color: white;}#sk-container-id-1 div.sk-parallel-item:first-child::after {align-self: flex-end;width: 50%;}#sk-container-id-1 div.sk-parallel-item:last-child::after {align-self: flex-start;width: 50%;}#sk-container-id-1 div.sk-parallel-item:only-child::after {width: 0;}#sk-container-id-1 div.sk-dashed-wrapped {border: 1px dashed gray;margin: 0 0.4em 0.5em 0.4em;box-sizing: border-box;padding-bottom: 0.4em;background-color: white;}#sk-container-id-1 div.sk-label label {font-family: monospace;font-weight: bold;display: inline-block;line-height: 1.2em;}#sk-container-id-1 div.sk-label-container {text-align: center;}#sk-container-id-1 div.sk-container {/* jupyter's `normalize.less` sets `[hidden] { display: none; }` but bootstrap.min.css set `[hidden] { display: none !important; }` so we also need the `!important` here to be able to override the default hidden behavior on the sphinx rendered scikit-learn.org. See: https://github.com/scikit-learn/scikit-learn/issues/21755 */display: inline-block !important;position: relative;}#sk-container-id-1 div.sk-text-repr-fallback {display: none;}</style><div id=\"sk-container-id-1\" class=\"sk-top-container\"><div class=\"sk-text-repr-fallback\"><pre>Ridge(random_state=42)</pre><b>In a Jupyter environment, please rerun this cell to show the HTML representation or trust the notebook. <br />On GitHub, the HTML representation is unable to render, please try loading this page with nbviewer.org.</b></div><div class=\"sk-container\" hidden><div class=\"sk-item\"><div class=\"sk-estimator sk-toggleable\"><input class=\"sk-toggleable__control sk-hidden--visually\" id=\"sk-estimator-id-1\" type=\"checkbox\" checked><label for=\"sk-estimator-id-1\" class=\"sk-toggleable__label sk-toggleable__label-arrow\">Ridge</label><div class=\"sk-toggleable__content\"><pre>Ridge(random_state=42)</pre></div></div></div></div></div>"
      ],
      "text/plain": [
       "Ridge(random_state=42)"
      ]
     },
     "execution_count": 5,
     "metadata": {},
     "output_type": "execute_result"
    }
   ],
   "source": [
    "from sklearn.linear_model import Ridge\n",
    "\n",
    "ridge = Ridge(random_state = 42)\n",
    "ridge.fit(X_train, y_train)"
   ]
  },
  {
   "cell_type": "markdown",
   "id": "f9522515d27e5842",
   "metadata": {},
   "source": [
    "3.3 적합화된 모형에서 coef_ 속성을 사용해 coefficient를 확인하라. 어떤 결과가 보이는가?"
   ]
  },
  {
   "cell_type": "code",
   "execution_count": 6,
   "id": "5802cc7f0905c731",
   "metadata": {
    "ExecuteTime": {
     "end_time": "2023-11-22T08:02:08.749721Z",
     "start_time": "2023-11-22T08:02:08.734307Z"
    }
   },
   "outputs": [
    {
     "name": "stdout",
     "output_type": "stream",
     "text": [
      "[1.59694012e-04 1.56399847e-04 1.36080572e-04 1.33537985e-04\n",
      " 1.26020711e-04 1.17547018e-04 1.14962233e-04 1.11621939e-04\n",
      " 1.07501924e-04 1.04878725e-04 1.01633667e-04 9.69354666e-05\n",
      " 9.62543926e-05 9.23164874e-05 9.25373718e-05 8.81584230e-05\n",
      " 8.93808614e-05 8.63504531e-05 8.50018897e-05 8.20513519e-05\n",
      " 7.97318703e-05 7.64129632e-05]\n"
     ]
    }
   ],
   "source": [
    "print(ridge.coef_)"
   ]
  },
  {
   "cell_type": "code",
   "execution_count": 7,
   "id": "63ef876f88b320b0",
   "metadata": {
    "ExecuteTime": {
     "end_time": "2023-11-22T08:02:08.980814Z",
     "start_time": "2023-11-22T08:02:08.742970Z"
    }
   },
   "outputs": [
    {
     "data": {
      "text/plain": [
       "Text(0.5, 1.0, 'HAR model with Ridge Regression')"
      ]
     },
     "execution_count": 7,
     "metadata": {},
     "output_type": "execute_result"
    },
    {
     "data": {
      "image/png": "[encoded data removed]",
      "text/plain": [
       "<Figure size 1000x400 with 1 Axes>"
      ]
     },
     "metadata": {},
     "output_type": "display_data"
    }
   ],
   "source": [
    "import matplotlib.pyplot as plt\n",
    "\n",
    "plt.figure(figsize = (10, 4))\n",
    "plt.bar(X_train.columns, ridge.coef_, color = 'darkorange', width = 0.5, alpha = 0.6)\n",
    "plt.grid(False)\n",
    "plt.axhline(0, color = 'gray', alpha = 0.5)\n",
    "plt.title('HAR model with Ridge Regression', fontsize = 12, fontfamily = 'Serif')"
   ]
  },
  {
   "cell_type": "code",
   "execution_count": 8,
   "id": "be9e01cf3449019",
   "metadata": {
    "ExecuteTime": {
     "end_time": "2023-11-22T08:02:08.999003Z",
     "start_time": "2023-11-22T08:02:08.971790Z"
    }
   },
   "outputs": [
    {
     "name": "stdout",
     "output_type": "stream",
     "text": [
      "Ridge Regression - MSE: 2.2661834465777685e-08, R-squared: -0.19018894306877554\n"
     ]
    }
   ],
   "source": [
    "from sklearn.metrics import mean_squared_error, r2_score\n",
    "\n",
    "y_pred_ridge = ridge.predict(X_test)\n",
    "mse_ridge = mean_squared_error(y_test, y_pred_ridge)\n",
    "r2_ridge = r2_score(y_test, y_pred_ridge)\n",
    "\n",
    "print(f\"Ridge Regression - MSE: {mse_ridge}, R-squared: {r2_ridge}\")"
   ]
  },
  {
   "cell_type": "markdown",
   "id": "2b03c066666f0167",
   "metadata": {},
   "source": [
    "#### 4. Lasso Regression\n",
    "\n",
    "4.1 준비된 Data Frame을 이용하여 train test split을 수행하라. test data의 비율을 0.2로 지정, shuffle = False로 지정하고 분할하면 된다. random seed는 42로 지정한다"
   ]
  },
  {
   "cell_type": "markdown",
   "id": "6eb0058001dd46ae",
   "metadata": {},
   "source": [
    "4.2 Lasso Regression을 수행하라. paramter `alpha = 0.1`을 지정한다"
   ]
  },
  {
   "cell_type": "code",
   "execution_count": 9,
   "id": "2a3a4a5021cd6468",
   "metadata": {
    "ExecuteTime": {
     "end_time": "2023-11-22T08:02:09.066406Z",
     "start_time": "2023-11-22T08:02:08.992243Z"
    }
   },
   "outputs": [
    {
     "data": {
      "text/html": [
       "<style>#sk-container-id-2 {color: black;}#sk-container-id-2 pre{padding: 0;}#sk-container-id-2 div.sk-toggleable {background-color: white;}#sk-container-id-2 label.sk-toggleable__label {cursor: pointer;display: block;width: 100%;margin-bottom: 0;padding: 0.3em;box-sizing: border-box;text-align: center;}#sk-container-id-2 label.sk-toggleable__label-arrow:before {content: \"▸\";float: left;margin-right: 0.25em;color: #696969;}#sk-container-id-2 label.sk-toggleable__label-arrow:hover:before {color: black;}#sk-container-id-2 div.sk-estimator:hover label.sk-toggleable__label-arrow:before {color: black;}#sk-container-id-2 div.sk-toggleable__content {max-height: 0;max-width: 0;overflow: hidden;text-align: left;background-color: #f0f8ff;}#sk-container-id-2 div.sk-toggleable__content pre {margin: 0.2em;color: black;border-radius: 0.25em;background-color: #f0f8ff;}#sk-container-id-2 input.sk-toggleable__control:checked~div.sk-toggleable__content {max-height: 200px;max-width: 100%;overflow: auto;}#sk-container-id-2 input.sk-toggleable__control:checked~label.sk-toggleable__label-arrow:before {content: \"▾\";}#sk-container-id-2 div.sk-estimator input.sk-toggleable__control:checked~label.sk-toggleable__label {background-color: #d4ebff;}#sk-container-id-2 div.sk-label input.sk-toggleable__control:checked~label.sk-toggleable__label {background-color: #d4ebff;}#sk-container-id-2 input.sk-hidden--visually {border: 0;clip: rect(1px 1px 1px 1px);clip: rect(1px, 1px, 1px, 1px);height: 1px;margin: -1px;overflow: hidden;padding: 0;position: absolute;width: 1px;}#sk-container-id-2 div.sk-estimator {font-family: monospace;background-color: #f0f8ff;border: 1px dotted black;border-radius: 0.25em;box-sizing: border-box;margin-bottom: 0.5em;}#sk-container-id-2 div.sk-estimator:hover {background-color: #d4ebff;}#sk-container-id-2 div.sk-parallel-item::after {content: \"\";width: 100%;border-bottom: 1px solid gray;flex-grow: 1;}#sk-container-id-2 div.sk-label:hover label.sk-toggleable__label {background-color: #d4ebff;}#sk-container-id-2 div.sk-serial::before {content: \"\";position: absolute;border-left: 1px solid gray;box-sizing: border-box;top: 0;bottom: 0;left: 50%;z-index: 0;}#sk-container-id-2 div.sk-serial {display: flex;flex-direction: column;align-items: center;background-color: white;padding-right: 0.2em;padding-left: 0.2em;position: relative;}#sk-container-id-2 div.sk-item {position: relative;z-index: 1;}#sk-container-id-2 div.sk-parallel {display: flex;align-items: stretch;justify-content: center;background-color: white;position: relative;}#sk-container-id-2 div.sk-item::before, #sk-container-id-2 div.sk-parallel-item::before {content: \"\";position: absolute;border-left: 1px solid gray;box-sizing: border-box;top: 0;bottom: 0;left: 50%;z-index: -1;}#sk-container-id-2 div.sk-parallel-item {display: flex;flex-direction: column;z-index: 1;position: relative;background-color: white;}#sk-container-id-2 div.sk-parallel-item:first-child::after {align-self: flex-end;width: 50%;}#sk-container-id-2 div.sk-parallel-item:last-child::after {align-self: flex-start;width: 50%;}#sk-container-id-2 div.sk-parallel-item:only-child::after {width: 0;}#sk-container-id-2 div.sk-dashed-wrapped {border: 1px dashed gray;margin: 0 0.4em 0.5em 0.4em;box-sizing: border-box;padding-bottom: 0.4em;background-color: white;}#sk-container-id-2 div.sk-label label {font-family: monospace;font-weight: bold;display: inline-block;line-height: 1.2em;}#sk-container-id-2 div.sk-label-container {text-align: center;}#sk-container-id-2 div.sk-container {/* jupyter's `normalize.less` sets `[hidden] { display: none; }` but bootstrap.min.css set `[hidden] { display: none !important; }` so we also need the `!important` here to be able to override the default hidden behavior on the sphinx rendered scikit-learn.org. See: https://github.com/scikit-learn/scikit-learn/issues/21755 */display: inline-block !important;position: relative;}#sk-container-id-2 div.sk-text-repr-fallback {display: none;}</style><div id=\"sk-container-id-2\" class=\"sk-top-container\"><div class=\"sk-text-repr-fallback\"><pre>Lasso(alpha=0.1, random_state=42)</pre><b>In a Jupyter environment, please rerun this cell to show the HTML representation or trust the notebook. <br />On GitHub, the HTML representation is unable to render, please try loading this page with nbviewer.org.</b></div><div class=\"sk-container\" hidden><div class=\"sk-item\"><div class=\"sk-estimator sk-toggleable\"><input class=\"sk-toggleable__control sk-hidden--visually\" id=\"sk-estimator-id-2\" type=\"checkbox\" checked><label for=\"sk-estimator-id-2\" class=\"sk-toggleable__label sk-toggleable__label-arrow\">Lasso</label><div class=\"sk-toggleable__content\"><pre>Lasso(alpha=0.1, random_state=42)</pre></div></div></div></div></div>"
      ],
      "text/plain": [
       "Lasso(alpha=0.1, random_state=42)"
      ]
     },
     "execution_count": 9,
     "metadata": {},
     "output_type": "execute_result"
    }
   ],
   "source": [
    "from sklearn.linear_model import Lasso\n",
    "\n",
    "lasso = Lasso(random_state = 42, alpha = 0.1)\n",
    "lasso.fit(X, y)"
   ]
  },
  {
   "cell_type": "markdown",
   "id": "ddde6c0799d3968",
   "metadata": {},
   "source": [
    "4.3 적합화된 모형에서 coef_ 속성을 사용해 coefficient를 확인하라. 어떤 결과가 보이는가?"
   ]
  },
  {
   "cell_type": "code",
   "execution_count": 10,
   "id": "46e86fd8dc0d7c0b",
   "metadata": {
    "ExecuteTime": {
     "end_time": "2023-11-22T08:02:09.066708Z",
     "start_time": "2023-11-22T08:02:09.005860Z"
    }
   },
   "outputs": [
    {
     "name": "stdout",
     "output_type": "stream",
     "text": [
      "[0. 0. 0. 0. 0. 0. 0. 0. 0. 0. 0. 0. 0. 0. 0. 0. 0. 0. 0. 0. 0. 0.]\n"
     ]
    }
   ],
   "source": [
    "print(lasso.coef_)"
   ]
  },
  {
   "cell_type": "code",
   "execution_count": 11,
   "id": "7ebe46f99e9925d7",
   "metadata": {
    "ExecuteTime": {
     "end_time": "2023-11-22T08:02:09.228869Z",
     "start_time": "2023-11-22T08:02:09.012262Z"
    }
   },
   "outputs": [
    {
     "data": {
      "text/plain": [
       "Text(0.5, 1.0, 'HAR model with Lasso Regression')"
      ]
     },
     "execution_count": 11,
     "metadata": {},
     "output_type": "execute_result"
    },
    {
     "data": {
      "image/png": "[encoded data removed]",
      "text/plain": [
       "<Figure size 1000x400 with 1 Axes>"
      ]
     },
     "metadata": {},
     "output_type": "display_data"
    }
   ],
   "source": [
    "plt.figure(figsize = (10, 4))\n",
    "plt.bar(X_train.columns, lasso.coef_, color = 'darkorange', width = 0.5, alpha = 0.6)\n",
    "plt.grid(False)\n",
    "plt.axhline(0, color = 'gray', alpha = 0.5)\n",
    "plt.title('HAR model with Lasso Regression', fontsize = 12, fontfamily = 'Serif')"
   ]
  },
  {
   "cell_type": "code",
   "execution_count": 12,
   "id": "1a4326427c60227",
   "metadata": {
    "ExecuteTime": {
     "end_time": "2023-11-22T08:02:09.243582Z",
     "start_time": "2023-11-22T08:02:09.230238Z"
    }
   },
   "outputs": [
    {
     "name": "stdout",
     "output_type": "stream",
     "text": [
      "Lasso Regression - MSE: 2.1388408233113824e-08, R-squared: -0.12330919314301214\n"
     ]
    }
   ],
   "source": [
    "y_pred_lasso = lasso.predict(X_test)\n",
    "mse_lasso = mean_squared_error(y_test, y_pred_lasso)\n",
    "r2_lasso = r2_score(y_test, y_pred_lasso)\n",
    "\n",
    "print(f\"Lasso Regression - MSE: {mse_lasso}, R-squared: {r2_lasso}\")"
   ]
  },
  {
   "cell_type": "markdown",
   "id": "b0c836f80195c5e6",
   "metadata": {},
   "source": [
    "#### 5. Elastic Net Regression\n",
    "\n",
    "5.1 준비된 Data Frame을 이용하여 train test split을 수행하라. test data의 비율을 0.2로 지정, shuffle = False로 지정하고 분할하면 된다. random seed는 42로 지정한다"
   ]
  },
  {
   "cell_type": "markdown",
   "id": "bed6873e862ac6b7",
   "metadata": {},
   "source": [
    "5.2 Elastic Net Regression을 수행하라. paramter `alpha = 0.1`, `l1_ratio = 0.5`를 지정한다"
   ]
  },
  {
   "cell_type": "code",
   "execution_count": 13,
   "id": "47ae8b54e3e98e89",
   "metadata": {
    "ExecuteTime": {
     "end_time": "2023-11-22T08:02:09.273200Z",
     "start_time": "2023-11-22T08:02:09.244536Z"
    }
   },
   "outputs": [
    {
     "data": {
      "text/html": [
       "<style>#sk-container-id-3 {color: black;}#sk-container-id-3 pre{padding: 0;}#sk-container-id-3 div.sk-toggleable {background-color: white;}#sk-container-id-3 label.sk-toggleable__label {cursor: pointer;display: block;width: 100%;margin-bottom: 0;padding: 0.3em;box-sizing: border-box;text-align: center;}#sk-container-id-3 label.sk-toggleable__label-arrow:before {content: \"▸\";float: left;margin-right: 0.25em;color: #696969;}#sk-container-id-3 label.sk-toggleable__label-arrow:hover:before {color: black;}#sk-container-id-3 div.sk-estimator:hover label.sk-toggleable__label-arrow:before {color: black;}#sk-container-id-3 div.sk-toggleable__content {max-height: 0;max-width: 0;overflow: hidden;text-align: left;background-color: #f0f8ff;}#sk-container-id-3 div.sk-toggleable__content pre {margin: 0.2em;color: black;border-radius: 0.25em;background-color: #f0f8ff;}#sk-container-id-3 input.sk-toggleable__control:checked~div.sk-toggleable__content {max-height: 200px;max-width: 100%;overflow: auto;}#sk-container-id-3 input.sk-toggleable__control:checked~label.sk-toggleable__label-arrow:before {content: \"▾\";}#sk-container-id-3 div.sk-estimator input.sk-toggleable__control:checked~label.sk-toggleable__label {background-color: #d4ebff;}#sk-container-id-3 div.sk-label input.sk-toggleable__control:checked~label.sk-toggleable__label {background-color: #d4ebff;}#sk-container-id-3 input.sk-hidden--visually {border: 0;clip: rect(1px 1px 1px 1px);clip: rect(1px, 1px, 1px, 1px);height: 1px;margin: -1px;overflow: hidden;padding: 0;position: absolute;width: 1px;}#sk-container-id-3 div.sk-estimator {font-family: monospace;background-color: #f0f8ff;border: 1px dotted black;border-radius: 0.25em;box-sizing: border-box;margin-bottom: 0.5em;}#sk-container-id-3 div.sk-estimator:hover {background-color: #d4ebff;}#sk-container-id-3 div.sk-parallel-item::after {content: \"\";width: 100%;border-bottom: 1px solid gray;flex-grow: 1;}#sk-container-id-3 div.sk-label:hover label.sk-toggleable__label {background-color: #d4ebff;}#sk-container-id-3 div.sk-serial::before {content: \"\";position: absolute;border-left: 1px solid gray;box-sizing: border-box;top: 0;bottom: 0;left: 50%;z-index: 0;}#sk-container-id-3 div.sk-serial {display: flex;flex-direction: column;align-items: center;background-color: white;padding-right: 0.2em;padding-left: 0.2em;position: relative;}#sk-container-id-3 div.sk-item {position: relative;z-index: 1;}#sk-container-id-3 div.sk-parallel {display: flex;align-items: stretch;justify-content: center;background-color: white;position: relative;}#sk-container-id-3 div.sk-item::before, #sk-container-id-3 div.sk-parallel-item::before {content: \"\";position: absolute;border-left: 1px solid gray;box-sizing: border-box;top: 0;bottom: 0;left: 50%;z-index: -1;}#sk-container-id-3 div.sk-parallel-item {display: flex;flex-direction: column;z-index: 1;position: relative;background-color: white;}#sk-container-id-3 div.sk-parallel-item:first-child::after {align-self: flex-end;width: 50%;}#sk-container-id-3 div.sk-parallel-item:last-child::after {align-self: flex-start;width: 50%;}#sk-container-id-3 div.sk-parallel-item:only-child::after {width: 0;}#sk-container-id-3 div.sk-dashed-wrapped {border: 1px dashed gray;margin: 0 0.4em 0.5em 0.4em;box-sizing: border-box;padding-bottom: 0.4em;background-color: white;}#sk-container-id-3 div.sk-label label {font-family: monospace;font-weight: bold;display: inline-block;line-height: 1.2em;}#sk-container-id-3 div.sk-label-container {text-align: center;}#sk-container-id-3 div.sk-container {/* jupyter's `normalize.less` sets `[hidden] { display: none; }` but bootstrap.min.css set `[hidden] { display: none !important; }` so we also need the `!important` here to be able to override the default hidden behavior on the sphinx rendered scikit-learn.org. See: https://github.com/scikit-learn/scikit-learn/issues/21755 */display: inline-block !important;position: relative;}#sk-container-id-3 div.sk-text-repr-fallback {display: none;}</style><div id=\"sk-container-id-3\" class=\"sk-top-container\"><div class=\"sk-text-repr-fallback\"><pre>ElasticNet(alpha=0.1)</pre><b>In a Jupyter environment, please rerun this cell to show the HTML representation or trust the notebook. <br />On GitHub, the HTML representation is unable to render, please try loading this page with nbviewer.org.</b></div><div class=\"sk-container\" hidden><div class=\"sk-item\"><div class=\"sk-estimator sk-toggleable\"><input class=\"sk-toggleable__control sk-hidden--visually\" id=\"sk-estimator-id-3\" type=\"checkbox\" checked><label for=\"sk-estimator-id-3\" class=\"sk-toggleable__label sk-toggleable__label-arrow\">ElasticNet</label><div class=\"sk-toggleable__content\"><pre>ElasticNet(alpha=0.1)</pre></div></div></div></div></div>"
      ],
      "text/plain": [
       "ElasticNet(alpha=0.1)"
      ]
     },
     "execution_count": 13,
     "metadata": {},
     "output_type": "execute_result"
    }
   ],
   "source": [
    "from sklearn.linear_model import ElasticNet\n",
    "\n",
    "elastic_net = ElasticNet(alpha = 0.1, l1_ratio = 0.5)\n",
    "elastic_net.fit(X_train, y_train)"
   ]
  },
  {
   "cell_type": "code",
   "execution_count": 14,
   "id": "442edb724639f4c",
   "metadata": {
    "ExecuteTime": {
     "end_time": "2023-11-22T08:02:09.485392Z",
     "start_time": "2023-11-22T08:02:09.262051Z"
    }
   },
   "outputs": [
    {
     "data": {
      "text/plain": [
       "Text(0.5, 1.0, 'HAR model with Elastic Net Regression')"
      ]
     },
     "execution_count": 14,
     "metadata": {},
     "output_type": "execute_result"
    },
    {
     "data": {
      "image/png": "[encoded data removed]",
      "text/plain": [
       "<Figure size 1000x400 with 1 Axes>"
      ]
     },
     "metadata": {},
     "output_type": "display_data"
    }
   ],
   "source": [
    "plt.figure(figsize = (10, 4))\n",
    "plt.bar(X_train.columns, elastic_net.coef_, color = 'darkorange', width = 0.5, alpha = 0.6)\n",
    "plt.grid(False)\n",
    "plt.axhline(0, color = 'gray', alpha = 0.5)\n",
    "plt.title('HAR model with Elastic Net Regression', fontsize = 12, fontfamily = 'Serif')"
   ]
  },
  {
   "cell_type": "markdown",
   "id": "82dafdfe2b0927a2",
   "metadata": {},
   "source": [
    "5.3 적합화된 모형에서 coef_ 속성을 사용해 coefficient를 확인하라. 어떤 결과가 보이는가?"
   ]
  },
  {
   "cell_type": "markdown",
   "id": "e133729b9321b380",
   "metadata": {},
   "source": [
    "### 6. 결과의 비교\n",
    "\n",
    "3, 4, 5번에서 수행한 Regression 의 coefficient를 확인하여, 모형별로 어떤 차이가 있는지 확인한다. KOSPI 시장에서는 HAR모형이 추정되는가?"
   ]
  },
  {
   "cell_type": "markdown",
   "id": "c6798e5226cf455a",
   "metadata": {},
   "source": [
    "적어도 KOSPI에서는 HAR model이 통하지 않는다. Lasso, Elastic Net에서는 유의하지 않는 변수를 0으로 만들어 버리는 반면, Ridge Regression에서는 완전히 없애지는 않는다"
   ]
  }
 ],
 "metadata": {
  "kernelspec": {
   "display_name": "Python 3 (ipykernel)",
   "language": "python",
   "name": "python3"
  },
  "language_info": {
   "codemirror_mode": {
    "name": "ipython",
    "version": 3
   },
   "file_extension": ".py",
   "mimetype": "text/x-python",
   "name": "python",
   "nbconvert_exporter": "python",
   "pygments_lexer": "ipython3",
   "version": "3.11.4"
  }
 },
 "nbformat": 4,
 "nbformat_minor": 5
}
