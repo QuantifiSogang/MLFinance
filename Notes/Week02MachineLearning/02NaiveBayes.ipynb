{
 "cells": [
  {
   "metadata": {},
   "cell_type": "markdown",
   "source": [
    "## Naive Bayes\n",
    "\n",
    "모형의 이름에서 볼 수 있듯이 굉장히 Naive한 모형이다. discrete, continuous한 feature들 모두 사용이 가능하며, sklearn에는 다음과 같은 모형이 존재한다\n",
    "\n",
    "**Discrete Naive Bayes Algorithms**\n",
    "\n",
    "- `sklearn.naive_bayes.BernoulliNB` : 이진(0 또는 1) 값을 갖는 특성에 적합하다. 텍스트 분류에서 단어의 출현 여부를 이진 특성으로 다룰 때 유용하다고 한다\n",
    "- `sklearn.naive_bayes.MultinomialNB` : 주로 텍스트 분류 작업에 사용된다. 이 모델은 특성이 다항 분포를 따른다고 가정한다\n",
    "- `sklearn.naive_bayes.ComplementNB` : 데이터의 분포가 불균형할 때 좋다\n",
    "- `sklearn.naive_bayes.CategoricalNB` : Categorical Distribution을 가정한다. 성능에 대해서는 그리 많이 알려져 있지 않다\n",
    "\n",
    "**Continuous Naive Bayes Algorithm**\n",
    "\n",
    "- `sklearn.naive_bayes.GaussianNB` : 연속적인 값에서 Naive Bayes Classification이 가능하다\n",
    "\n",
    "그 중 Gaussian Naive Bayes 모형은 feature가 연속적인 경우에 사용되며, 패턴 인식에 큰 장점을 보인다. 무엇보다도, 연산 속도가 타 분류 모형에 비해 굉장히 빠르다는 것이 큰 장점이다\n",
    "\n",
    "```\n",
    "sklearn.naive_bayes.GaussianNB(*, priors=None, var_smoothing=1e-09)\n",
    "```\n",
    "\n",
    "단 데이터의 특성이 지수 분포족에 따를 때에만 성능이 좋고, feature간에 조건부독립성이 성립하지 않는다면 분류 결과가 치우쳐질 가능성이 높다"
   ],
   "id": "bad24404ccd44831"
  },
  {
   "cell_type": "code",
   "execution_count": null,
   "id": "initial_id",
   "metadata": {
    "collapsed": true
   },
   "outputs": [],
   "source": [
    ""
   ]
  }
 ],
 "metadata": {
  "kernelspec": {
   "display_name": "Python 3",
   "language": "python",
   "name": "python3"
  },
  "language_info": {
   "codemirror_mode": {
    "name": "ipython",
    "version": 2
   },
   "file_extension": ".py",
   "mimetype": "text/x-python",
   "name": "python",
   "nbconvert_exporter": "python",
   "pygments_lexer": "ipython2",
   "version": "2.7.6"
  }
 },
 "nbformat": 4,
 "nbformat_minor": 5
}
