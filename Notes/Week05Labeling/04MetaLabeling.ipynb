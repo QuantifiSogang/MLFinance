{
 "cells": [
  {
   "cell_type": "markdown",
   "source": [
    "### Meta Labeling\n",
    "\n",
    "베팅(매도 또는 매수)의 방향을 설정하는 모델을 이미 갖고 있는 상황을 가정해 보자. 이 경우에는 베팅의 크기만 알면 되는데, 베팅이 없을 가능성도 있다. 이는 현업에서 항상 겪는 상황이기도 하다. 우리는 대개 매수할 것인지 매도할 것인지를 알고 있으므로, 남은 문제는 얼마를 집행할 것인지를 결정하는 것이다. 단지 머신러닝 알고리즘이 매수 매도 등 베팅의 방향을 학습한 후 적절한 베팅 크기가 무엇인지 쉽게 알려 주기를 원하지 않는다. 아마도 이 문제에 관한 어떠한 책이나 논문이 나오지 않았다는 것에 이미 익숙해져 버렸을 수 있다\n",
    "\n",
    "다행히 이 문제를 여기서 해결해 볼 수 있다. Lopez de Prado는 이 문제를 Meta Labeling이라 부르는데 그 이유는 1차 외생 모델을 어떻게 사용할지 학습하는 부수적인 머신러닝 모델을 구축하고자 하기 때문이다"
   ],
   "metadata": {
    "collapsed": false
   },
   "id": "c283bd6525f2238e"
  },
  {
   "cell_type": "markdown",
   "source": [
    "아래의 과정은 Triple Barrier Method에서 구축한 방법과 동일한 과정이다."
   ],
   "metadata": {
    "collapsed": false
   },
   "id": "900d751ff7708020"
  },
  {
   "cell_type": "code",
   "id": "initial_id",
   "metadata": {
    "collapsed": true,
    "ExecuteTime": {
     "end_time": "2024-04-27T14:28:46.210396Z",
     "start_time": "2024-04-27T14:28:42.648601Z"
    }
   },
   "source": [
    "import yfinance as yf\n",
    "import numpy as np\n",
    "import pandas as pd\n",
    "import matplotlib.pyplot as plt\n",
    "from FinancialMachineLearning.labeling.labeling import *\n",
    "from FinancialMachineLearning.features.volatility import daily_volatility\n",
    "\n",
    "start_date = '2000-01-01'\n",
    "end_date = '2024-04-27'\n",
    "ticker = 'AAPL'\n",
    "data = yf.download(\n",
    "    ticker, \n",
    "    start = start_date, \n",
    "    end = end_date\n",
    ")"
   ],
   "outputs": [
    {
     "name": "stderr",
     "output_type": "stream",
     "text": [
      "[*********************100%%**********************]  1 of 1 completed\n"
     ]
    }
   ],
   "execution_count": 1
  },
  {
   "cell_type": "code",
   "source": [
    "vertical_barrier = add_vertical_barrier(\n",
    "    data.index, \n",
    "    data['Close'], \n",
    "    num_days = 7 # expariation limit\n",
    ")\n",
    "vertical_barrier.head()"
   ],
   "metadata": {
    "collapsed": false,
    "ExecuteTime": {
     "end_time": "2024-04-27T14:28:46.219619Z",
     "start_time": "2024-04-27T14:28:46.211833Z"
    }
   },
   "id": "a29818a962b3278c",
   "outputs": [
    {
     "data": {
      "text/plain": [
       "Date\n",
       "2000-01-03   2000-01-10\n",
       "2000-01-04   2000-01-11\n",
       "2000-01-05   2000-01-12\n",
       "2000-01-06   2000-01-13\n",
       "2000-01-07   2000-01-14\n",
       "Name: Date, dtype: datetime64[ns]"
      ]
     },
     "execution_count": 2,
     "metadata": {},
     "output_type": "execute_result"
    }
   ],
   "execution_count": 2
  },
  {
   "cell_type": "code",
   "source": [
    "volatility = daily_volatility(\n",
    "    data['Close'], \n",
    "    lookback = 60 # moving average span\n",
    ")"
   ],
   "metadata": {
    "collapsed": false,
    "ExecuteTime": {
     "end_time": "2024-04-27T14:28:46.228970Z",
     "start_time": "2024-04-27T14:28:46.221474Z"
    }
   },
   "id": "71a9366a21b67ff2",
   "outputs": [],
   "execution_count": 3
  },
  {
   "cell_type": "code",
   "source": [
    "triple_barrier_events = get_events(\n",
    "    close = data['Close'],\n",
    "    t_events = data.index[2:],\n",
    "    pt_sl = [2, 1], # profit taking 2, stopping loss 1\n",
    "    target = volatility, # dynamic threshold\n",
    "    min_ret = 0.01, # minimum position return\n",
    "    num_threads = 1, # number of multi-thread \n",
    "    vertical_barrier_times = vertical_barrier, # add vertical barrier\n",
    "    side_prediction = None # betting side prediction (primary model)\n",
    ")\n",
    "triple_barrier_events.head()"
   ],
   "metadata": {
    "collapsed": false,
    "ExecuteTime": {
     "end_time": "2024-04-27T14:28:50.841725Z",
     "start_time": "2024-04-27T14:28:46.229899Z"
    }
   },
   "id": "73a1f1c02600b49a",
   "outputs": [
    {
     "data": {
      "text/plain": [
       "                   t1      trgt  pt  sl\n",
       "Date                                   \n",
       "2000-01-07 2000-01-11  0.016797   2   1\n",
       "2000-01-10 2000-01-12  0.026415   2   1\n",
       "2000-01-11 2000-01-12  0.024043   2   1\n",
       "2000-01-12 2000-01-13  0.031168   2   1\n",
       "2000-01-13 2000-01-19  0.050703   2   1"
      ],
      "text/html": [
       "<div>\n",
       "<style scoped>\n",
       "    .dataframe tbody tr th:only-of-type {\n",
       "        vertical-align: middle;\n",
       "    }\n",
       "\n",
       "    .dataframe tbody tr th {\n",
       "        vertical-align: top;\n",
       "    }\n",
       "\n",
       "    .dataframe thead th {\n",
       "        text-align: right;\n",
       "    }\n",
       "</style>\n",
       "<table border=\"1\" class=\"dataframe\">\n",
       "  <thead>\n",
       "    <tr style=\"text-align: right;\">\n",
       "      <th></th>\n",
       "      <th>t1</th>\n",
       "      <th>trgt</th>\n",
       "      <th>pt</th>\n",
       "      <th>sl</th>\n",
       "    </tr>\n",
       "    <tr>\n",
       "      <th>Date</th>\n",
       "      <th></th>\n",
       "      <th></th>\n",
       "      <th></th>\n",
       "      <th></th>\n",
       "    </tr>\n",
       "  </thead>\n",
       "  <tbody>\n",
       "    <tr>\n",
       "      <th>2000-01-07</th>\n",
       "      <td>2000-01-11</td>\n",
       "      <td>0.016797</td>\n",
       "      <td>2</td>\n",
       "      <td>1</td>\n",
       "    </tr>\n",
       "    <tr>\n",
       "      <th>2000-01-10</th>\n",
       "      <td>2000-01-12</td>\n",
       "      <td>0.026415</td>\n",
       "      <td>2</td>\n",
       "      <td>1</td>\n",
       "    </tr>\n",
       "    <tr>\n",
       "      <th>2000-01-11</th>\n",
       "      <td>2000-01-12</td>\n",
       "      <td>0.024043</td>\n",
       "      <td>2</td>\n",
       "      <td>1</td>\n",
       "    </tr>\n",
       "    <tr>\n",
       "      <th>2000-01-12</th>\n",
       "      <td>2000-01-13</td>\n",
       "      <td>0.031168</td>\n",
       "      <td>2</td>\n",
       "      <td>1</td>\n",
       "    </tr>\n",
       "    <tr>\n",
       "      <th>2000-01-13</th>\n",
       "      <td>2000-01-19</td>\n",
       "      <td>0.050703</td>\n",
       "      <td>2</td>\n",
       "      <td>1</td>\n",
       "    </tr>\n",
       "  </tbody>\n",
       "</table>\n",
       "</div>"
      ]
     },
     "execution_count": 4,
     "metadata": {},
     "output_type": "execute_result"
    }
   ],
   "execution_count": 4
  },
  {
   "cell_type": "code",
   "source": [
    "labels = meta_labeling(\n",
    "    triple_barrier_events, \n",
    "    data['Close']\n",
    ")"
   ],
   "metadata": {
    "collapsed": false,
    "ExecuteTime": {
     "end_time": "2024-04-27T14:28:51.219366Z",
     "start_time": "2024-04-27T14:28:50.842680Z"
    }
   },
   "id": "dc5c8b403f594c82",
   "outputs": [],
   "execution_count": 5
  },
  {
   "cell_type": "code",
   "source": [
    "labels.head()"
   ],
   "metadata": {
    "collapsed": false,
    "ExecuteTime": {
     "end_time": "2024-04-27T14:28:51.225952Z",
     "start_time": "2024-04-27T14:28:51.220378Z"
    }
   },
   "id": "528377cb76b8da53",
   "outputs": [
    {
     "data": {
      "text/plain": [
       "                 ret      trgt  bin\n",
       "Date                               \n",
       "2000-01-07 -0.067839  0.016797   -1\n",
       "2000-01-10 -0.108056  0.026415   -1\n",
       "2000-01-11 -0.059973  0.024043   -1\n",
       "2000-01-12  0.109677  0.031168    1\n",
       "2000-01-13  0.101422  0.050703    0"
      ],
      "text/html": [
       "<div>\n",
       "<style scoped>\n",
       "    .dataframe tbody tr th:only-of-type {\n",
       "        vertical-align: middle;\n",
       "    }\n",
       "\n",
       "    .dataframe tbody tr th {\n",
       "        vertical-align: top;\n",
       "    }\n",
       "\n",
       "    .dataframe thead th {\n",
       "        text-align: right;\n",
       "    }\n",
       "</style>\n",
       "<table border=\"1\" class=\"dataframe\">\n",
       "  <thead>\n",
       "    <tr style=\"text-align: right;\">\n",
       "      <th></th>\n",
       "      <th>ret</th>\n",
       "      <th>trgt</th>\n",
       "      <th>bin</th>\n",
       "    </tr>\n",
       "    <tr>\n",
       "      <th>Date</th>\n",
       "      <th></th>\n",
       "      <th></th>\n",
       "      <th></th>\n",
       "    </tr>\n",
       "  </thead>\n",
       "  <tbody>\n",
       "    <tr>\n",
       "      <th>2000-01-07</th>\n",
       "      <td>-0.067839</td>\n",
       "      <td>0.016797</td>\n",
       "      <td>-1</td>\n",
       "    </tr>\n",
       "    <tr>\n",
       "      <th>2000-01-10</th>\n",
       "      <td>-0.108056</td>\n",
       "      <td>0.026415</td>\n",
       "      <td>-1</td>\n",
       "    </tr>\n",
       "    <tr>\n",
       "      <th>2000-01-11</th>\n",
       "      <td>-0.059973</td>\n",
       "      <td>0.024043</td>\n",
       "      <td>-1</td>\n",
       "    </tr>\n",
       "    <tr>\n",
       "      <th>2000-01-12</th>\n",
       "      <td>0.109677</td>\n",
       "      <td>0.031168</td>\n",
       "      <td>1</td>\n",
       "    </tr>\n",
       "    <tr>\n",
       "      <th>2000-01-13</th>\n",
       "      <td>0.101422</td>\n",
       "      <td>0.050703</td>\n",
       "      <td>0</td>\n",
       "    </tr>\n",
       "  </tbody>\n",
       "</table>\n",
       "</div>"
      ]
     },
     "execution_count": 6,
     "metadata": {},
     "output_type": "execute_result"
    }
   ],
   "execution_count": 6
  },
  {
   "cell_type": "code",
   "source": [
    "triple_barrier_events['side'] = labels['bin']\n",
    "triple_barrier_events.head()"
   ],
   "metadata": {
    "collapsed": false,
    "ExecuteTime": {
     "end_time": "2024-04-27T14:28:51.236377Z",
     "start_time": "2024-04-27T14:28:51.227273Z"
    }
   },
   "id": "2572e3d1e7224314",
   "outputs": [
    {
     "data": {
      "text/plain": [
       "                   t1      trgt  pt  sl  side\n",
       "Date                                         \n",
       "2000-01-07 2000-01-11  0.016797   2   1  -1.0\n",
       "2000-01-10 2000-01-12  0.026415   2   1  -1.0\n",
       "2000-01-11 2000-01-12  0.024043   2   1  -1.0\n",
       "2000-01-12 2000-01-13  0.031168   2   1   1.0\n",
       "2000-01-13 2000-01-19  0.050703   2   1   0.0"
      ],
      "text/html": [
       "<div>\n",
       "<style scoped>\n",
       "    .dataframe tbody tr th:only-of-type {\n",
       "        vertical-align: middle;\n",
       "    }\n",
       "\n",
       "    .dataframe tbody tr th {\n",
       "        vertical-align: top;\n",
       "    }\n",
       "\n",
       "    .dataframe thead th {\n",
       "        text-align: right;\n",
       "    }\n",
       "</style>\n",
       "<table border=\"1\" class=\"dataframe\">\n",
       "  <thead>\n",
       "    <tr style=\"text-align: right;\">\n",
       "      <th></th>\n",
       "      <th>t1</th>\n",
       "      <th>trgt</th>\n",
       "      <th>pt</th>\n",
       "      <th>sl</th>\n",
       "      <th>side</th>\n",
       "    </tr>\n",
       "    <tr>\n",
       "      <th>Date</th>\n",
       "      <th></th>\n",
       "      <th></th>\n",
       "      <th></th>\n",
       "      <th></th>\n",
       "      <th></th>\n",
       "    </tr>\n",
       "  </thead>\n",
       "  <tbody>\n",
       "    <tr>\n",
       "      <th>2000-01-07</th>\n",
       "      <td>2000-01-11</td>\n",
       "      <td>0.016797</td>\n",
       "      <td>2</td>\n",
       "      <td>1</td>\n",
       "      <td>-1.0</td>\n",
       "    </tr>\n",
       "    <tr>\n",
       "      <th>2000-01-10</th>\n",
       "      <td>2000-01-12</td>\n",
       "      <td>0.026415</td>\n",
       "      <td>2</td>\n",
       "      <td>1</td>\n",
       "      <td>-1.0</td>\n",
       "    </tr>\n",
       "    <tr>\n",
       "      <th>2000-01-11</th>\n",
       "      <td>2000-01-12</td>\n",
       "      <td>0.024043</td>\n",
       "      <td>2</td>\n",
       "      <td>1</td>\n",
       "      <td>-1.0</td>\n",
       "    </tr>\n",
       "    <tr>\n",
       "      <th>2000-01-12</th>\n",
       "      <td>2000-01-13</td>\n",
       "      <td>0.031168</td>\n",
       "      <td>2</td>\n",
       "      <td>1</td>\n",
       "      <td>1.0</td>\n",
       "    </tr>\n",
       "    <tr>\n",
       "      <th>2000-01-13</th>\n",
       "      <td>2000-01-19</td>\n",
       "      <td>0.050703</td>\n",
       "      <td>2</td>\n",
       "      <td>1</td>\n",
       "      <td>0.0</td>\n",
       "    </tr>\n",
       "  </tbody>\n",
       "</table>\n",
       "</div>"
      ]
     },
     "execution_count": 7,
     "metadata": {},
     "output_type": "execute_result"
    }
   ],
   "execution_count": 7
  },
  {
   "cell_type": "code",
   "source": [
    "meta_labels = meta_labeling(\n",
    "    triple_barrier_events, # with side labels\n",
    "    data['Close']\n",
    ")\n",
    "meta_labels.head()"
   ],
   "metadata": {
    "collapsed": false,
    "ExecuteTime": {
     "end_time": "2024-04-27T14:28:51.615395Z",
     "start_time": "2024-04-27T14:28:51.237430Z"
    }
   },
   "id": "2d2b8e613727232f",
   "outputs": [
    {
     "data": {
      "text/plain": [
       "                 ret      trgt  bin  side\n",
       "Date                                     \n",
       "2000-01-07  0.072776  0.016797    1  -1.0\n",
       "2000-01-10  0.121147  0.026415    1  -1.0\n",
       "2000-01-11  0.063799  0.024043    1  -1.0\n",
       "2000-01-12  0.109677  0.031168    1   1.0\n",
       "2000-01-13  0.000000  0.050703    0   0.0"
      ],
      "text/html": [
       "<div>\n",
       "<style scoped>\n",
       "    .dataframe tbody tr th:only-of-type {\n",
       "        vertical-align: middle;\n",
       "    }\n",
       "\n",
       "    .dataframe tbody tr th {\n",
       "        vertical-align: top;\n",
       "    }\n",
       "\n",
       "    .dataframe thead th {\n",
       "        text-align: right;\n",
       "    }\n",
       "</style>\n",
       "<table border=\"1\" class=\"dataframe\">\n",
       "  <thead>\n",
       "    <tr style=\"text-align: right;\">\n",
       "      <th></th>\n",
       "      <th>ret</th>\n",
       "      <th>trgt</th>\n",
       "      <th>bin</th>\n",
       "      <th>side</th>\n",
       "    </tr>\n",
       "    <tr>\n",
       "      <th>Date</th>\n",
       "      <th></th>\n",
       "      <th></th>\n",
       "      <th></th>\n",
       "      <th></th>\n",
       "    </tr>\n",
       "  </thead>\n",
       "  <tbody>\n",
       "    <tr>\n",
       "      <th>2000-01-07</th>\n",
       "      <td>0.072776</td>\n",
       "      <td>0.016797</td>\n",
       "      <td>1</td>\n",
       "      <td>-1.0</td>\n",
       "    </tr>\n",
       "    <tr>\n",
       "      <th>2000-01-10</th>\n",
       "      <td>0.121147</td>\n",
       "      <td>0.026415</td>\n",
       "      <td>1</td>\n",
       "      <td>-1.0</td>\n",
       "    </tr>\n",
       "    <tr>\n",
       "      <th>2000-01-11</th>\n",
       "      <td>0.063799</td>\n",
       "      <td>0.024043</td>\n",
       "      <td>1</td>\n",
       "      <td>-1.0</td>\n",
       "    </tr>\n",
       "    <tr>\n",
       "      <th>2000-01-12</th>\n",
       "      <td>0.109677</td>\n",
       "      <td>0.031168</td>\n",
       "      <td>1</td>\n",
       "      <td>1.0</td>\n",
       "    </tr>\n",
       "    <tr>\n",
       "      <th>2000-01-13</th>\n",
       "      <td>0.000000</td>\n",
       "      <td>0.050703</td>\n",
       "      <td>0</td>\n",
       "      <td>0.0</td>\n",
       "    </tr>\n",
       "  </tbody>\n",
       "</table>\n",
       "</div>"
      ]
     },
     "execution_count": 8,
     "metadata": {},
     "output_type": "execute_result"
    }
   ],
   "execution_count": 8
  },
  {
   "cell_type": "markdown",
   "source": [
    "여기서 생성된 `meta_labels['bin']`이 가능한 값은 {-1, 0, 1}과 반대로 {0, 1}이다. Machine Learning 알고리즘은 오직 베팅을 하느냐, 하지 않느냐만 결정하고자 학습된다. 예측 label이 1이라면 2차 모델의 확률을 사용해 베팅의 크기를 알아내는데 포지션의 side(매수 혹은 매도인지)는 이미 primary model에 의해 결정되어 있다"
   ],
   "metadata": {
    "collapsed": false
   },
   "id": "80cb983902f33e11"
  },
  {
   "metadata": {
    "ExecuteTime": {
     "end_time": "2024-04-27T14:32:40.866379Z",
     "start_time": "2024-04-27T14:32:40.316471Z"
    }
   },
   "cell_type": "code",
   "source": [
    "fig, ax = plt.subplots(figsize = (8, 5))\n",
    "for idx in meta_labels[meta_labels['bin'] == 1]['2023':].index :\n",
    "    ax.axvspan(\n",
    "        idx, \n",
    "        triple_barrier_events.loc[idx]['t1'], \n",
    "        color = 'lightgray', \n",
    "        alpha = 0.3\n",
    "    )\n",
    "ax.scatter(\n",
    "    meta_labels[meta_labels['bin'] == 1]['2023':].index,\n",
    "    data.loc[meta_labels[meta_labels['bin'] == 1].index]['2023':]['Adj Close'],\n",
    "    marker = '*',\n",
    "    color = 'red',\n",
    "    s = 10,\n",
    "    label = 'meta label'\n",
    ")\n",
    "ax.plot(\n",
    "    data['2023':]['Adj Close'],\n",
    "    alpha = 0.5,\n",
    "    color = 'gray',\n",
    "    lw = 1,\n",
    "    label = 'prices',\n",
    "    ls = '-.'\n",
    ")\n",
    "for spine in ax.spines.values():\n",
    "    spine.set_visible(False)\n",
    "ax.grid(False)\n",
    "ax.yaxis.grid(True, ls = ':', alpha = 0.5) \n",
    "\n",
    "plt.xticks(rotation = 45)\n",
    "ax.legend()\n",
    "plt.title('Triple barrier method | label : 1 | ticker : AAPL')\n",
    "plt.show()"
   ],
   "id": "fd81658dcf50078f",
   "outputs": [
    {
     "data": {
      "text/plain": [
       "<Figure size 800x500 with 1 Axes>"
      ],
      "image/png": "[encoded data removed]"
     },
     "metadata": {},
     "output_type": "display_data"
    }
   ],
   "execution_count": 12
  },
  {
   "cell_type": "markdown",
   "source": [
    "### How to use Meta Labeling\n",
    "\n",
    "binary classification 문제는 1종 오류(false positive)와 2종 오류(false negative) 간의 trade-off이다. 대개 binary classifier의 참 양성률을 올리다 보면 거짓 양성률이 증가한다. 분류 모형의 ROC(Receiver Operating Curve)는 true positive rate가 증가해 발생하는 비용을 측정하는데, 높은 false positive rate를 수용하는 관점에서 측정한다\n",
    "\n",
    "아래의 그림은 이른바 Confusion matrix를 시각화한 것이다. 관측값 집합 중에서 조건에 부합하는 아이템과 조건에 부합하지 않는 아이템이 있다. binary classifier는 특정 아이템이 조건을 보이는지를 예측하는 것으로(타원), TP 영역은 True positive를 포함하고, TN 영역은 True negative를 포함한다. 이는 두 종류의 오류인 False positive와 False negative를 야기한다. **precision**은 TP영역과 타원 영역간의 비율이고, **recall**은 TP영역과 왼쪽 사각형 영역 간의 비율이다. 분류 문제에 있어서 이런 개념의 recall rate는 가설 검증에 있어서 검증력과 유사하다. **accuracy**는 TP와 TN 영역의 합을 전체 아이템으로 나눈 것이다. \n",
    "\n",
    "대개 FP영역을 감소시키면 FN영역이 증가하는데, 그 이유는 일반적으로 높은 정밀도는 더 적은 수의 예측을 의미하고 이는 **recall rate**을 낮추기 때문이다. 한편, 분류기 전체의 효율성을 극대화시키는 precision과 recall사이의 조합도 존재한다. **f1-score**는 분류기의 효율성을 측정하는데 precision과 recall 사이의 조화 평균을 사용해 측정한다.\n",
    "\n"
   ],
   "metadata": {
    "collapsed": false
   },
   "id": "9fcd390cf31948c8"
  }
 ],
 "metadata": {
  "kernelspec": {
   "display_name": "Python 3",
   "language": "python",
   "name": "python3"
  },
  "language_info": {
   "codemirror_mode": {
    "name": "ipython",
    "version": 2
   },
   "file_extension": ".py",
   "mimetype": "text/x-python",
   "name": "python",
   "nbconvert_exporter": "python",
   "pygments_lexer": "ipython2",
   "version": "2.7.6"
  }
 },
 "nbformat": 4,
 "nbformat_minor": 5
}
