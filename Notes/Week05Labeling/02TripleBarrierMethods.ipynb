{
 "cells": [
  {
   "cell_type": "markdown",
   "source": [
    "### Triple Barrier Methods\n",
    "\n",
    "여기서는 학계 논문에서 보지 못한 대체 labeling 기법을 소개한다. 독자들이 투자 전문가라면 이 방법이 더 합리적이라는 것에 공감하리라 생각한다. 저자 Lopez de Prado는 이를 Triple Barrier라 부르는데, 세 가지 배리어 중 최초로 도달한 배리어에 따라 관측값을 labeling하기 때문이다. 첫째, 2개의 수평 배리어와 1개의 수직 배리어를 설정한다. 두 수평 배리어는 이익 실현과 손절 한도에 의해 정의되는데, 추정 변동성에 대한 동적 함수다. 세 번째 배리어는 포지션을 취한 후 지나간 바의 개수에 의해 정의된다(만기 한도). 상단 배리어에 먼저 도달하면 관측값을 1로 labeling하고, 하단 배리어에 먼저 도달하면 -1로 labeling한다. 수직 배리어에 먼저 도달하면 두 가지 선택을 할 수 있다. 바로 손익 부호로 하거나 0으로 정하는 것이다. 한도 내에서의 이익이나 손실을 실현하는 문제이므로 저자의 경우 전자를 선호하지만, 각자의 문제에 대해 0에 대한 labeling이 더 잘 작동하는지 확인하면 좋다."
   ],
   "metadata": {
    "collapsed": false
   },
   "id": "4d4130e552ed7827"
  },
  {
   "cell_type": "code",
   "execution_count": 31,
   "id": "initial_id",
   "metadata": {
    "collapsed": true,
    "ExecuteTime": {
     "end_time": "2024-04-06T17:55:15.711389Z",
     "start_time": "2024-04-06T17:55:14.238827Z"
    }
   },
   "outputs": [
    {
     "name": "stderr",
     "output_type": "stream",
     "text": [
      "[*********************100%%**********************]  1 of 1 completed\n"
     ]
    }
   ],
   "source": [
    "import yfinance as yf\n",
    "import numpy as np\n",
    "import pandas as pd\n",
    "import matplotlib.pyplot as plt\n",
    "\n",
    "start_date = '2000-01-01'\n",
    "end_date = '2024-04-06'\n",
    "ticker = 'AAPL'\n",
    "data = yf.download(\n",
    "    ticker, \n",
    "    start = start_date, \n",
    "    end = end_date\n",
    ")"
   ]
  },
  {
   "cell_type": "code",
   "outputs": [],
   "source": [
    "from FinancialMachineLearning.filter.filter import cusum_filter\n",
    "\n",
    "cusum_events = cusum_filter(\n",
    "    data['Close'], \n",
    "    threshold = data['Close'].diff().mean() * 3, \n",
    "    time_stamps = False\n",
    ")"
   ],
   "metadata": {
    "collapsed": false,
    "ExecuteTime": {
     "end_time": "2024-04-06T17:55:16.305310Z",
     "start_time": "2024-04-06T17:55:16.131976Z"
    }
   },
   "id": "8f0f8ca287f394eb",
   "execution_count": 32
  },
  {
   "cell_type": "code",
   "outputs": [],
   "source": [
    "cusum_events = pd.DatetimeIndex(cusum_events)"
   ],
   "metadata": {
    "collapsed": false,
    "ExecuteTime": {
     "end_time": "2024-04-06T17:55:16.516630Z",
     "start_time": "2024-04-06T17:55:16.502592Z"
    }
   },
   "id": "6d7875c1dd46761",
   "execution_count": 33
  },
  {
   "cell_type": "code",
   "outputs": [
    {
     "data": {
      "text/plain": "2000-01-04   2000-01-11\n2000-01-11   2000-01-18\n2000-01-13   2000-01-20\n2000-01-19   2000-01-26\n2000-01-28   2000-02-04\nName: Date, dtype: datetime64[ns]"
     },
     "execution_count": 34,
     "metadata": {},
     "output_type": "execute_result"
    }
   ],
   "source": [
    "from FinancialMachineLearning.labeling.labeling import *\n",
    "vertical_barrier = add_vertical_barrier(\n",
    "    cusum_events, \n",
    "    data['Close'], \n",
    "    num_days = 7 # expariation limit\n",
    ")\n",
    "vertical_barrier.head()"
   ],
   "metadata": {
    "collapsed": false,
    "ExecuteTime": {
     "end_time": "2024-04-06T17:55:16.958844Z",
     "start_time": "2024-04-06T17:55:16.952051Z"
    }
   },
   "id": "11eddbb0f82d5aea",
   "execution_count": 34
  },
  {
   "cell_type": "code",
   "outputs": [],
   "source": [
    "from FinancialMachineLearning.features.volatility import daily_volatility\n",
    "\n",
    "volatility = daily_volatility(data['Close'], lookback = 60)"
   ],
   "metadata": {
    "collapsed": false,
    "ExecuteTime": {
     "end_time": "2024-04-06T17:55:17.577943Z",
     "start_time": "2024-04-06T17:55:17.566179Z"
    }
   },
   "id": "431693d4e43f5ec0",
   "execution_count": 35
  },
  {
   "cell_type": "code",
   "outputs": [
    {
     "data": {
      "text/plain": "                   t1      trgt  pt  sl\n2000-01-11 2000-01-12  0.024043   2   1\n2000-01-13 2000-01-19  0.050703   2   1\n2000-01-19 2000-01-26  0.081573   2   1\n2000-01-28 2000-02-04  0.069135   2   1\n2000-02-07 2000-02-14  0.063289   2   1",
      "text/html": "<div>\n<style scoped>\n    .dataframe tbody tr th:only-of-type {\n        vertical-align: middle;\n    }\n\n    .dataframe tbody tr th {\n        vertical-align: top;\n    }\n\n    .dataframe thead th {\n        text-align: right;\n    }\n</style>\n<table border=\"1\" class=\"dataframe\">\n  <thead>\n    <tr style=\"text-align: right;\">\n      <th></th>\n      <th>t1</th>\n      <th>trgt</th>\n      <th>pt</th>\n      <th>sl</th>\n    </tr>\n  </thead>\n  <tbody>\n    <tr>\n      <th>2000-01-11</th>\n      <td>2000-01-12</td>\n      <td>0.024043</td>\n      <td>2</td>\n      <td>1</td>\n    </tr>\n    <tr>\n      <th>2000-01-13</th>\n      <td>2000-01-19</td>\n      <td>0.050703</td>\n      <td>2</td>\n      <td>1</td>\n    </tr>\n    <tr>\n      <th>2000-01-19</th>\n      <td>2000-01-26</td>\n      <td>0.081573</td>\n      <td>2</td>\n      <td>1</td>\n    </tr>\n    <tr>\n      <th>2000-01-28</th>\n      <td>2000-02-04</td>\n      <td>0.069135</td>\n      <td>2</td>\n      <td>1</td>\n    </tr>\n    <tr>\n      <th>2000-02-07</th>\n      <td>2000-02-14</td>\n      <td>0.063289</td>\n      <td>2</td>\n      <td>1</td>\n    </tr>\n  </tbody>\n</table>\n</div>"
     },
     "execution_count": 46,
     "metadata": {},
     "output_type": "execute_result"
    }
   ],
   "source": [
    "triple_barrier_events = get_events(\n",
    "    close = data['Close'],\n",
    "    t_events = cusum_events[1:],\n",
    "    pt_sl = [2, 1], # profit taking 2, stopping loss 1\n",
    "    target = volatility, # dynamic threshold\n",
    "    min_ret = 0.01, # minimum position return\n",
    "    num_threads = 1, # number of multi-thread \n",
    "    vertical_barrier_times = vertical_barrier, # add vertical barrier\n",
    "    side_prediction = None # betting side prediction (primary model)\n",
    ")\n",
    "triple_barrier_events.head()"
   ],
   "metadata": {
    "collapsed": false,
    "ExecuteTime": {
     "end_time": "2024-04-06T18:05:16.057642Z",
     "start_time": "2024-04-06T18:05:13.205471Z"
    }
   },
   "id": "3f587c9fd4a1efb0",
   "execution_count": 46
  },
  {
   "cell_type": "code",
   "outputs": [],
   "source": [
    "labels = meta_labeling(\n",
    "    triple_barrier_events, \n",
    "    data['Close']\n",
    ")"
   ],
   "metadata": {
    "collapsed": false,
    "ExecuteTime": {
     "end_time": "2024-04-06T17:58:38.431862Z",
     "start_time": "2024-04-06T17:58:38.135072Z"
    }
   },
   "id": "8e85e912fc84e11",
   "execution_count": 40
  },
  {
   "cell_type": "code",
   "outputs": [
    {
     "data": {
      "text/plain": "                 ret      trgt  bin\n2000-01-11 -0.059973  0.024043   -1\n2000-01-13  0.101422  0.050703    0\n2000-01-19  0.034017  0.081573    0\n2000-01-28  0.062731  0.069135    0\n2000-02-07  0.015342  0.063289    0",
      "text/html": "<div>\n<style scoped>\n    .dataframe tbody tr th:only-of-type {\n        vertical-align: middle;\n    }\n\n    .dataframe tbody tr th {\n        vertical-align: top;\n    }\n\n    .dataframe thead th {\n        text-align: right;\n    }\n</style>\n<table border=\"1\" class=\"dataframe\">\n  <thead>\n    <tr style=\"text-align: right;\">\n      <th></th>\n      <th>ret</th>\n      <th>trgt</th>\n      <th>bin</th>\n    </tr>\n  </thead>\n  <tbody>\n    <tr>\n      <th>2000-01-11</th>\n      <td>-0.059973</td>\n      <td>0.024043</td>\n      <td>-1</td>\n    </tr>\n    <tr>\n      <th>2000-01-13</th>\n      <td>0.101422</td>\n      <td>0.050703</td>\n      <td>0</td>\n    </tr>\n    <tr>\n      <th>2000-01-19</th>\n      <td>0.034017</td>\n      <td>0.081573</td>\n      <td>0</td>\n    </tr>\n    <tr>\n      <th>2000-01-28</th>\n      <td>0.062731</td>\n      <td>0.069135</td>\n      <td>0</td>\n    </tr>\n    <tr>\n      <th>2000-02-07</th>\n      <td>0.015342</td>\n      <td>0.063289</td>\n      <td>0</td>\n    </tr>\n  </tbody>\n</table>\n</div>"
     },
     "execution_count": 42,
     "metadata": {},
     "output_type": "execute_result"
    }
   ],
   "source": [
    "labels.head()"
   ],
   "metadata": {
    "collapsed": false,
    "ExecuteTime": {
     "end_time": "2024-04-06T17:59:06.892360Z",
     "start_time": "2024-04-06T17:59:06.881560Z"
    }
   },
   "id": "64198d51d5f4a11c",
   "execution_count": 42
  },
  {
   "cell_type": "code",
   "outputs": [
    {
     "data": {
      "text/plain": " 0    2194\n-1     818\n 1     540\nName: bin, dtype: int64"
     },
     "execution_count": 44,
     "metadata": {},
     "output_type": "execute_result"
    }
   ],
   "source": [
    "labels['bin'].value_counts()"
   ],
   "metadata": {
    "collapsed": false,
    "ExecuteTime": {
     "end_time": "2024-04-06T17:59:35.515101Z",
     "start_time": "2024-04-06T17:59:35.500837Z"
    }
   },
   "id": "81956f2b4de5772f",
   "execution_count": 44
  }
 ],
 "metadata": {
  "kernelspec": {
   "display_name": "Python 3",
   "language": "python",
   "name": "python3"
  },
  "language_info": {
   "codemirror_mode": {
    "name": "ipython",
    "version": 2
   },
   "file_extension": ".py",
   "mimetype": "text/x-python",
   "name": "python",
   "nbconvert_exporter": "python",
   "pygments_lexer": "ipython2",
   "version": "2.7.6"
  }
 },
 "nbformat": 4,
 "nbformat_minor": 5
}
