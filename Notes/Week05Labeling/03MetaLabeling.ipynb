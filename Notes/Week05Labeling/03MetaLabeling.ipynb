{
 "cells": [
  {
   "cell_type": "markdown",
   "source": [
    "### Meta Labeling\n",
    "\n",
    "베팅(매도 또는 매수)의 방향을 설정하는 모델을 이미 갖고 있는 상황을 가정해 보자. 이 경우에는 베팅의 크기만 알면 되는데, 베팅이 없을 가능성도 있다. 이는 현업에서 항상 겪는 상황이기도 하다. 우리는 대개 매수할 것인지 매도할 것인지를 알고 있으므로, 남은 문제는 얼마를 집행할 것인지를 결정하는 것이다. 단지 머신러닝 알고리즘이 매수 매도 등 베팅의 방향을 학습한 후 적절한 베팅 크기가 무엇인지 쉽게 알려 주기를 원하지 않는다. 아마도 이 문제에 관한 어떠한 책이나 논문이 나오지 않았다는 것에 이미 익숙해져 버렸을 수 있다\n",
    "\n",
    "다행히 이 문제를 여기서 해결해 볼 수 있다. Lopez de Prado는 이 문제를 Meta Labeling이라 부르는데 그 이유는 1차 외생 모델을 어떻게 사용할지 학습하는 부수적인 머신러닝 모델을 구축하고자 하기 때문이다"
   ],
   "metadata": {
    "collapsed": false
   },
   "id": "c283bd6525f2238e"
  },
  {
   "cell_type": "markdown",
   "source": [
    "아래의 과정은 Triple Barrier Method에서 구축한 방법과 동일한 과정이다."
   ],
   "metadata": {
    "collapsed": false
   },
   "id": "900d751ff7708020"
  },
  {
   "cell_type": "code",
   "execution_count": 19,
   "id": "initial_id",
   "metadata": {
    "collapsed": true,
    "ExecuteTime": {
     "end_time": "2024-04-07T14:45:43.686666Z",
     "start_time": "2024-04-07T14:45:43.438059Z"
    }
   },
   "outputs": [
    {
     "name": "stderr",
     "output_type": "stream",
     "text": [
      "[*********************100%%**********************]  1 of 1 completed\n"
     ]
    }
   ],
   "source": [
    "import yfinance as yf\n",
    "import numpy as np\n",
    "import pandas as pd\n",
    "import matplotlib.pyplot as plt\n",
    "from FinancialMachineLearning.filter.filter import cusum_filter\n",
    "from FinancialMachineLearning.labeling.labeling import *\n",
    "from FinancialMachineLearning.features.volatility import daily_volatility\n",
    "\n",
    "start_date = '2000-01-01'\n",
    "end_date = '2024-04-06'\n",
    "ticker = 'AAPL'\n",
    "data = yf.download(\n",
    "    ticker, \n",
    "    start = start_date, \n",
    "    end = end_date\n",
    ")"
   ]
  },
  {
   "cell_type": "code",
   "outputs": [],
   "source": [
    "cusum_events = cusum_filter(\n",
    "    data['Close'], \n",
    "    threshold = data['Close'].diff().mean() * 3, \n",
    "    time_stamps = False\n",
    ")\n",
    "\n",
    "cusum_events = pd.DatetimeIndex(cusum_events)"
   ],
   "metadata": {
    "collapsed": false,
    "ExecuteTime": {
     "end_time": "2024-04-07T14:22:11.638965Z",
     "start_time": "2024-04-07T14:22:11.251978Z"
    }
   },
   "id": "27e395c8e18ba55d",
   "execution_count": 2
  },
  {
   "cell_type": "code",
   "outputs": [
    {
     "data": {
      "text/plain": "2000-01-04   2000-01-11\n2000-01-11   2000-01-18\n2000-01-13   2000-01-20\n2000-01-19   2000-01-26\n2000-01-28   2000-02-04\nName: Date, dtype: datetime64[ns]"
     },
     "execution_count": 3,
     "metadata": {},
     "output_type": "execute_result"
    }
   ],
   "source": [
    "vertical_barrier = add_vertical_barrier(\n",
    "    cusum_events, \n",
    "    data['Close'], \n",
    "    num_days = 7 # expariation limit\n",
    ")\n",
    "vertical_barrier.head()"
   ],
   "metadata": {
    "collapsed": false,
    "ExecuteTime": {
     "end_time": "2024-04-07T14:22:23.135493Z",
     "start_time": "2024-04-07T14:22:23.112349Z"
    }
   },
   "id": "a29818a962b3278c",
   "execution_count": 3
  },
  {
   "cell_type": "code",
   "outputs": [],
   "source": [
    "volatility = daily_volatility(\n",
    "    data['Close'], \n",
    "    lookback = 60 # moving average span\n",
    ")"
   ],
   "metadata": {
    "collapsed": false,
    "ExecuteTime": {
     "end_time": "2024-04-07T14:22:55.607170Z",
     "start_time": "2024-04-07T14:22:55.575565Z"
    }
   },
   "id": "71a9366a21b67ff2",
   "execution_count": 4
  },
  {
   "cell_type": "code",
   "outputs": [
    {
     "data": {
      "text/plain": "                   t1      trgt  pt  sl\n2000-01-11 2000-01-12  0.024043   2   1\n2000-01-13 2000-01-19  0.050703   2   1\n2000-01-19 2000-01-26  0.081573   2   1\n2000-01-28 2000-02-04  0.069135   2   1\n2000-02-07 2000-02-14  0.063289   2   1",
      "text/html": "<div>\n<style scoped>\n    .dataframe tbody tr th:only-of-type {\n        vertical-align: middle;\n    }\n\n    .dataframe tbody tr th {\n        vertical-align: top;\n    }\n\n    .dataframe thead th {\n        text-align: right;\n    }\n</style>\n<table border=\"1\" class=\"dataframe\">\n  <thead>\n    <tr style=\"text-align: right;\">\n      <th></th>\n      <th>t1</th>\n      <th>trgt</th>\n      <th>pt</th>\n      <th>sl</th>\n    </tr>\n  </thead>\n  <tbody>\n    <tr>\n      <th>2000-01-11</th>\n      <td>2000-01-12</td>\n      <td>0.024043</td>\n      <td>2</td>\n      <td>1</td>\n    </tr>\n    <tr>\n      <th>2000-01-13</th>\n      <td>2000-01-19</td>\n      <td>0.050703</td>\n      <td>2</td>\n      <td>1</td>\n    </tr>\n    <tr>\n      <th>2000-01-19</th>\n      <td>2000-01-26</td>\n      <td>0.081573</td>\n      <td>2</td>\n      <td>1</td>\n    </tr>\n    <tr>\n      <th>2000-01-28</th>\n      <td>2000-02-04</td>\n      <td>0.069135</td>\n      <td>2</td>\n      <td>1</td>\n    </tr>\n    <tr>\n      <th>2000-02-07</th>\n      <td>2000-02-14</td>\n      <td>0.063289</td>\n      <td>2</td>\n      <td>1</td>\n    </tr>\n  </tbody>\n</table>\n</div>"
     },
     "execution_count": 5,
     "metadata": {},
     "output_type": "execute_result"
    }
   ],
   "source": [
    "triple_barrier_events = get_events(\n",
    "    close = data['Close'],\n",
    "    t_events = cusum_events[1:],\n",
    "    pt_sl = [2, 1], # profit taking 2, stopping loss 1\n",
    "    target = volatility, # dynamic threshold\n",
    "    min_ret = 0.01, # minimum position return\n",
    "    num_threads = 1, # number of multi-thread \n",
    "    vertical_barrier_times = vertical_barrier, # add vertical barrier\n",
    "    side_prediction = None # betting side prediction (primary model)\n",
    ")\n",
    "triple_barrier_events.head()"
   ],
   "metadata": {
    "collapsed": false,
    "ExecuteTime": {
     "end_time": "2024-04-07T14:23:06.522623Z",
     "start_time": "2024-04-07T14:23:03.662478Z"
    }
   },
   "id": "73a1f1c02600b49a",
   "execution_count": 5
  },
  {
   "cell_type": "code",
   "outputs": [],
   "source": [
    "labels = meta_labeling(\n",
    "    triple_barrier_events, \n",
    "    data['Close']\n",
    ")"
   ],
   "metadata": {
    "collapsed": false,
    "ExecuteTime": {
     "end_time": "2024-04-07T14:27:57.328508Z",
     "start_time": "2024-04-07T14:27:57.061427Z"
    }
   },
   "id": "dc5c8b403f594c82",
   "execution_count": 6
  },
  {
   "cell_type": "code",
   "outputs": [
    {
     "data": {
      "text/plain": "                 ret      trgt  bin\n2000-01-11 -0.059973  0.024043   -1\n2000-01-13  0.101422  0.050703    0\n2000-01-19  0.034017  0.081573    0\n2000-01-28  0.062731  0.069135    0\n2000-02-07  0.015342  0.063289    0",
      "text/html": "<div>\n<style scoped>\n    .dataframe tbody tr th:only-of-type {\n        vertical-align: middle;\n    }\n\n    .dataframe tbody tr th {\n        vertical-align: top;\n    }\n\n    .dataframe thead th {\n        text-align: right;\n    }\n</style>\n<table border=\"1\" class=\"dataframe\">\n  <thead>\n    <tr style=\"text-align: right;\">\n      <th></th>\n      <th>ret</th>\n      <th>trgt</th>\n      <th>bin</th>\n    </tr>\n  </thead>\n  <tbody>\n    <tr>\n      <th>2000-01-11</th>\n      <td>-0.059973</td>\n      <td>0.024043</td>\n      <td>-1</td>\n    </tr>\n    <tr>\n      <th>2000-01-13</th>\n      <td>0.101422</td>\n      <td>0.050703</td>\n      <td>0</td>\n    </tr>\n    <tr>\n      <th>2000-01-19</th>\n      <td>0.034017</td>\n      <td>0.081573</td>\n      <td>0</td>\n    </tr>\n    <tr>\n      <th>2000-01-28</th>\n      <td>0.062731</td>\n      <td>0.069135</td>\n      <td>0</td>\n    </tr>\n    <tr>\n      <th>2000-02-07</th>\n      <td>0.015342</td>\n      <td>0.063289</td>\n      <td>0</td>\n    </tr>\n  </tbody>\n</table>\n</div>"
     },
     "execution_count": 8,
     "metadata": {},
     "output_type": "execute_result"
    }
   ],
   "source": [
    "labels.head()"
   ],
   "metadata": {
    "collapsed": false,
    "ExecuteTime": {
     "end_time": "2024-04-07T14:28:55.502916Z",
     "start_time": "2024-04-07T14:28:55.468606Z"
    }
   },
   "id": "528377cb76b8da53",
   "execution_count": 8
  },
  {
   "cell_type": "code",
   "outputs": [
    {
     "data": {
      "text/plain": "                   t1      trgt  pt  sl  side\n2000-01-11 2000-01-12  0.024043   2   1  -1.0\n2000-01-13 2000-01-19  0.050703   2   1   0.0\n2000-01-19 2000-01-26  0.081573   2   1   0.0\n2000-01-28 2000-02-04  0.069135   2   1   0.0\n2000-02-07 2000-02-14  0.063289   2   1   0.0",
      "text/html": "<div>\n<style scoped>\n    .dataframe tbody tr th:only-of-type {\n        vertical-align: middle;\n    }\n\n    .dataframe tbody tr th {\n        vertical-align: top;\n    }\n\n    .dataframe thead th {\n        text-align: right;\n    }\n</style>\n<table border=\"1\" class=\"dataframe\">\n  <thead>\n    <tr style=\"text-align: right;\">\n      <th></th>\n      <th>t1</th>\n      <th>trgt</th>\n      <th>pt</th>\n      <th>sl</th>\n      <th>side</th>\n    </tr>\n  </thead>\n  <tbody>\n    <tr>\n      <th>2000-01-11</th>\n      <td>2000-01-12</td>\n      <td>0.024043</td>\n      <td>2</td>\n      <td>1</td>\n      <td>-1.0</td>\n    </tr>\n    <tr>\n      <th>2000-01-13</th>\n      <td>2000-01-19</td>\n      <td>0.050703</td>\n      <td>2</td>\n      <td>1</td>\n      <td>0.0</td>\n    </tr>\n    <tr>\n      <th>2000-01-19</th>\n      <td>2000-01-26</td>\n      <td>0.081573</td>\n      <td>2</td>\n      <td>1</td>\n      <td>0.0</td>\n    </tr>\n    <tr>\n      <th>2000-01-28</th>\n      <td>2000-02-04</td>\n      <td>0.069135</td>\n      <td>2</td>\n      <td>1</td>\n      <td>0.0</td>\n    </tr>\n    <tr>\n      <th>2000-02-07</th>\n      <td>2000-02-14</td>\n      <td>0.063289</td>\n      <td>2</td>\n      <td>1</td>\n      <td>0.0</td>\n    </tr>\n  </tbody>\n</table>\n</div>"
     },
     "execution_count": 17,
     "metadata": {},
     "output_type": "execute_result"
    }
   ],
   "source": [
    "triple_barrier_events['side'] = labels['bin']\n",
    "triple_barrier_events.head()"
   ],
   "metadata": {
    "collapsed": false,
    "ExecuteTime": {
     "end_time": "2024-04-07T14:33:31.928991Z",
     "start_time": "2024-04-07T14:33:31.903669Z"
    }
   },
   "id": "2572e3d1e7224314",
   "execution_count": 17
  },
  {
   "cell_type": "code",
   "outputs": [
    {
     "data": {
      "text/plain": "                 ret      trgt  bin  side\n2000-01-11  0.063799  0.024043    1  -1.0\n2000-01-13  0.000000  0.050703    0   0.0\n2000-01-19  0.000000  0.081573    0   0.0\n2000-01-28  0.000000  0.069135    0   0.0\n2000-02-07  0.000000  0.063289    0   0.0",
      "text/html": "<div>\n<style scoped>\n    .dataframe tbody tr th:only-of-type {\n        vertical-align: middle;\n    }\n\n    .dataframe tbody tr th {\n        vertical-align: top;\n    }\n\n    .dataframe thead th {\n        text-align: right;\n    }\n</style>\n<table border=\"1\" class=\"dataframe\">\n  <thead>\n    <tr style=\"text-align: right;\">\n      <th></th>\n      <th>ret</th>\n      <th>trgt</th>\n      <th>bin</th>\n      <th>side</th>\n    </tr>\n  </thead>\n  <tbody>\n    <tr>\n      <th>2000-01-11</th>\n      <td>0.063799</td>\n      <td>0.024043</td>\n      <td>1</td>\n      <td>-1.0</td>\n    </tr>\n    <tr>\n      <th>2000-01-13</th>\n      <td>0.000000</td>\n      <td>0.050703</td>\n      <td>0</td>\n      <td>0.0</td>\n    </tr>\n    <tr>\n      <th>2000-01-19</th>\n      <td>0.000000</td>\n      <td>0.081573</td>\n      <td>0</td>\n      <td>0.0</td>\n    </tr>\n    <tr>\n      <th>2000-01-28</th>\n      <td>0.000000</td>\n      <td>0.069135</td>\n      <td>0</td>\n      <td>0.0</td>\n    </tr>\n    <tr>\n      <th>2000-02-07</th>\n      <td>0.000000</td>\n      <td>0.063289</td>\n      <td>0</td>\n      <td>0.0</td>\n    </tr>\n  </tbody>\n</table>\n</div>"
     },
     "execution_count": 18,
     "metadata": {},
     "output_type": "execute_result"
    }
   ],
   "source": [
    "meta_labels = meta_labeling(\n",
    "    triple_barrier_events, # with side labels\n",
    "    data['Close']\n",
    ")\n",
    "meta_labels.head()"
   ],
   "metadata": {
    "collapsed": false,
    "ExecuteTime": {
     "end_time": "2024-04-07T14:33:36.003979Z",
     "start_time": "2024-04-07T14:33:35.754854Z"
    }
   },
   "id": "2d2b8e613727232f",
   "execution_count": 18
  },
  {
   "cell_type": "markdown",
   "source": [
    "여기서 생성된 `meta_labels['bin']`이 가능한 값은 {-1, 0, 1}과 반대로 {0, 1}이다. Machine Learning 알고리즘은 오직 베팅을 하느냐, 하지 않느냐만 결정하고자 학습된다. 예측 label이 1이라면 2차 모델의 확률을 사용해 베팅의 크기를 알아내는데 포지션의 side(매수 혹은 매도인지)는 이미 primary model에 의해 결정되어 있다"
   ],
   "metadata": {
    "collapsed": false
   },
   "id": "80cb983902f33e11"
  },
  {
   "cell_type": "markdown",
   "source": [
    "### How to use Meta Labeling"
   ],
   "metadata": {
    "collapsed": false
   },
   "id": "9fcd390cf31948c8"
  }
 ],
 "metadata": {
  "kernelspec": {
   "display_name": "Python 3",
   "language": "python",
   "name": "python3"
  },
  "language_info": {
   "codemirror_mode": {
    "name": "ipython",
    "version": 2
   },
   "file_extension": ".py",
   "mimetype": "text/x-python",
   "name": "python",
   "nbconvert_exporter": "python",
   "pygments_lexer": "ipython2",
   "version": "2.7.6"
  }
 },
 "nbformat": 4,
 "nbformat_minor": 5
}
