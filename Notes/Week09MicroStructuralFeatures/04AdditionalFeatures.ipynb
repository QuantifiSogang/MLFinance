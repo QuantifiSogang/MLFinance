{
 "cells": [
  {
   "metadata": {},
   "cell_type": "markdown",
   "source": "### Additional Features from Microstructural Datasets",
   "id": "11c79594f5d3aab2"
  },
  {
   "metadata": {},
   "cell_type": "markdown",
   "source": [
    "#### Distribution of Order Sizes\n",
    "\n",
    "Easly 등은 주문 크기당 주문 빈도수를 연구해 유독 반올림된 크기의 거래가 비정상적으로 빈번하다는 사실을 발견했다. 예를 들어서, 거래 빈도는 거래 크기의 함수로 빠르게 감소하는데 반올림된 거래 크기인 $\\{5, 10, 20, 25, 50, 100, 200, \\dots \\}$은 예외였다. "
   ],
   "id": "2ed00d2a6037fcb7"
  },
  {
   "metadata": {},
   "cell_type": "markdown",
   "source": [
    "**Data Structure**\n",
    "\n",
    "LOBSTER에서 제공하는 Sample Order Book data는 다음과 같이 구성되어 있다\n",
    "\n",
    "|Ask Price 1|Ask Size 1|Bid Price 1|Bid Size 1|Ask Price 2|Ask Size 2|Bid Price 2|Bid Size 2| $\\cdots$ |\n",
    "|:---:|:---:|:---:|:---:|:---:|:---:|:---:|:---:|:--------:|\n",
    "|$\\vdots$|$\\vdots$|$\\vdots$|$\\vdots$|$\\vdots$|$\\vdots$|$\\vdots$|$\\vdots$| $\\vdots$ |\n",
    "|5859400|200|5853300|18|5859800|200|5853200|18| $\\cdots$ |\n",
    "|5859400|200|5853300|18|5859800|200|5853200|18| $\\cdots$ |\n",
    "|$\\vdots$|$\\vdots$|$\\vdots$|$\\vdots$|$\\vdots$|$\\vdots$|$\\vdots$|$\\vdots$| $\\vdots$ |"
   ],
   "id": "40b1046f9f1c9d5f"
  },
  {
   "metadata": {
    "ExecuteTime": {
     "end_time": "2024-05-30T15:46:49.479713Z",
     "start_time": "2024-05-30T15:46:48.229899Z"
    }
   },
   "cell_type": "code",
   "source": [
    "import pandas as pd\n",
    "import numpy as np\n",
    "\n",
    "aapl_order_book = pd.read_csv('../../Data/AAPL_order_book.csv')"
   ],
   "id": "f644f5b586351f47",
   "outputs": [],
   "execution_count": 4
  },
  {
   "metadata": {
    "ExecuteTime": {
     "end_time": "2024-05-31T16:20:46.551569Z",
     "start_time": "2024-05-31T16:20:46.163400Z"
    }
   },
   "cell_type": "code",
   "source": [
    "import seaborn as sns\n",
    "\n",
    "sns.histplot(aapl_order_book.iloc[:,[(2*i+1) for i in range(1, 100, 2)]].iloc[0])\n",
    "sns.histplot(aapl_order_book.iloc[:,[(2*i+1) for i in range(2, 100, 2)]].iloc[0])"
   ],
   "id": "b5a6afb6380b42a7",
   "outputs": [
    {
     "data": {
      "text/plain": [
       "<Axes: xlabel='0', ylabel='Count'>"
      ]
     },
     "execution_count": 14,
     "metadata": {},
     "output_type": "execute_result"
    },
    {
     "data": {
      "text/plain": [
       "<Figure size 640x480 with 1 Axes>"
      ],
      "image/png": "[encoded data removed]"
     },
     "metadata": {},
     "output_type": "display_data"
    }
   ],
   "execution_count": 14
  },
  {
   "metadata": {},
   "cell_type": "markdown",
   "source": "#### Cancellation Rates, Limit Orders, Market Orders",
   "id": "b2544da77770ca1e"
  },
  {
   "metadata": {},
   "cell_type": "markdown",
   "source": "#### Time-Weighted Average Price Execution Algorithms",
   "id": "f45df518eb110104"
  },
  {
   "metadata": {},
   "cell_type": "markdown",
   "source": "#### Option Markets",
   "id": "e0530afe54b86d16"
  },
  {
   "metadata": {},
   "cell_type": "markdown",
   "source": "#### Serial Correlation of Signed Order Flow",
   "id": "ae483c2b3d83992c"
  },
  {
   "cell_type": "code",
   "execution_count": null,
   "id": "initial_id",
   "metadata": {
    "collapsed": true
   },
   "outputs": [],
   "source": [
    ""
   ]
  }
 ],
 "metadata": {
  "kernelspec": {
   "display_name": "Python 3",
   "language": "python",
   "name": "python3"
  },
  "language_info": {
   "codemirror_mode": {
    "name": "ipython",
    "version": 2
   },
   "file_extension": ".py",
   "mimetype": "text/x-python",
   "name": "python",
   "nbconvert_exporter": "python",
   "pygments_lexer": "ipython2",
   "version": "2.7.6"
  }
 },
 "nbformat": 4,
 "nbformat_minor": 5
}
