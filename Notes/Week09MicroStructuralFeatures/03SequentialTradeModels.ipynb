{
 "cells": [
  {
   "metadata": {},
   "cell_type": "markdown",
   "source": "## Third Generation : Sequential Trade Models",
   "id": "71ed8eb5ede2ca27"
  },
  {
   "metadata": {},
   "cell_type": "markdown",
   "source": [
    "### Probaility of Informed Trading models\n",
    "\n",
    "이슬리 등은 거래 데이터를 사용해 개별 증권의 정보 기반 거래 확률을 계산한다. 해당 미시 구조 모델은 거래를 시장 조성자와 포지션을 취하는 거래자 간에 여러 번의 거래 주기에 걸쳐 반복되는 게임으로 봤다\n",
    "\n",
    "증권의 $S$, 현재 가격을 $S_0$로 표기하자. 특정 양의 새로운 정보가 가격 $S$에 포함되면 $S$는 $S_B$ 또는 $S_G$가 된다. 분석 중인 시간 프레임 내에 새로운 정보가 도달할 확률은 $\\alpha$이거, 그 뉴스가 나쁜 뉴스일 확률은 $\\delta$, 뉴스가 좋은 뉴스일 확률은 $(1-\\delta)$이다. 이 저자들은 시점 $t$에서의 증권 가격 기대값은 다음과 같이 계산할 수 있다는 것을 증명했다\n",
    "\n",
    "$$E[S_t] = (1-\\alpha_t)S_0 + \\alpha_t [\\delta_tS_B+(1-\\delta_t)S_G]$$\n",
    "\n",
    "정보 기반 거래자들은 푸아송 분포를 따라 $\\mu$비율로 등장하고, 잡음 거래자들은 $\\epsilon$비율로 등장한다면 시장 조성자들은 정보 기반 거래자로부터의 손실을 피하고자 손익 분기 매수 호가 수준을 $B_t$로 설정한다\n",
    "\n",
    "$$E[B_t] = E[S_t] - \\frac{\\mu \\alpha_t \\delta_t}{\\epsilon + \\mu \\alpha_t \\delta_t}(E[S_t] - S_B)$$\n",
    "\n",
    "그리고 시각 $t$에서의 손익 분기 매도 호가 수준 $A_t$는 다음과 같다\n",
    "\n",
    "$$E[A_t] = E[S_t] + \\frac{\\mu \\alpha_t (1-\\delta_t)}{\\epsilon +\\mu \\alpha_t (1-\\delta_t)}(S_G - E[S_t])$$\n",
    "\n",
    "이에 따라 손익 분기 매매 호가 스프레드는 다음과 같이 결정된다\n",
    "\n",
    "$$E[A_t - B_t] = \\frac{\\mu \\alpha_t (1-\\delta_t)}{\\epsilon + \\mu \\alpha_t (1-\\delta_t)}(S_G - E[S_t]) + \\frac{\\mu \\alpha_t \\delta_t}{\\epsilon + \\mu\\alpha_t \\delta_t}(E[S_t] - S_B)$$\n",
    "\n",
    "$\\delta_t = \\frac{1}{2}$인 경우에 다음을 얻게 된다\n",
    "\n",
    "$$\\delta_t = \\frac{1}{2} \\Rightarrow E[A_t - B_t] = \\frac{\\alpha_t \\mu}{\\alpha_t \\mu + 2\\epsilon}(S_G - S_B)$$\n",
    "\n",
    "이 식은 시장 조성자들이 유동성을 공급하는 가격의 범위를 결정하는 주요한 요인이 다음과 같다는 것을 말해 준다\n",
    "\n",
    "$$\\mathrm{PIN}_t = \\frac{\\alpha_t \\mu}{\\alpha_t \\mu + 2\\epsilon}$$\n",
    "\n",
    "첨자 $t$는 확률 $\\alpha$와 $\\delta$가 그 시점에서 추정됐음을 표시한다. $\\mathrm{PIN}_t$값을 결정하려면 네 가지 관측 불가능한 parameter, 즉 $\\{\\alpha, \\delta, \\mu, \\epsilon\\}$ 모두 추정해야 한다. Maximum likelihood Estimation 방법은 세 가지 푸아송 분포의 혼합을 적합화 한다\n",
    "\n",
    "$$P[V^B, V^S] = (1-\\alpha) P[V^B, \\epsilon] P[V^S, \\epsilon] + \\alpha (\\delta P[V^B, \\epsilon] P[V^S, \\mu + \\epsilon] + (1-\\delta)P[V^B, \\mu+\\epsilon]P[V^S,\\epsilon])$$"
   ],
   "id": "24e0ec333547ab8e"
  },
  {
   "cell_type": "code",
   "execution_count": null,
   "id": "initial_id",
   "metadata": {
    "collapsed": true
   },
   "outputs": [],
   "source": [
    ""
   ]
  },
  {
   "metadata": {},
   "cell_type": "markdown",
   "source": "### Volume-Synchronized Probability of Informed Trading",
   "id": "c810898c919fc709"
  },
  {
   "metadata": {},
   "cell_type": "code",
   "outputs": [],
   "execution_count": null,
   "source": "",
   "id": "f665e8a8cbf95af0"
  }
 ],
 "metadata": {
  "kernelspec": {
   "display_name": "Python 3",
   "language": "python",
   "name": "python3"
  },
  "language_info": {
   "codemirror_mode": {
    "name": "ipython",
    "version": 2
   },
   "file_extension": ".py",
   "mimetype": "text/x-python",
   "name": "python",
   "nbconvert_exporter": "python",
   "pygments_lexer": "ipython2",
   "version": "2.7.6"
  }
 },
 "nbformat": 4,
 "nbformat_minor": 5
}
