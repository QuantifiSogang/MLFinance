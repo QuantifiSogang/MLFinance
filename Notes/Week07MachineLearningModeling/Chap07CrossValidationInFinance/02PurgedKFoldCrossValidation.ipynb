{
 "cells": [
  {
   "metadata": {},
   "cell_type": "markdown",
   "source": [
    "### Purged K-Fold Cross Validation\n",
    "\n",
    "정보 누출을 감소시키는 방법 중 하나는 훈련 데이터셋에서 현재 테스트세트와 레이블이 중첩된 모든 관측값을 제거하는 것이다. Prado 교수는 이 절차를 Purging이라고 불렀다. 게다가 금융데이터는 대부분 시계열적이므로 자기상관을 보이는 시계열을 종종 포함한다. 테스트셋에 있는 관측값을 즉시 따르는 훈련셋 관측값을 제거해야 한다. 저자인 Prado교수는 이것을 Embargo process라고 부른다"
   ],
   "id": "2edea9b42a979819"
  },
  {
   "cell_type": "code",
   "id": "initial_id",
   "metadata": {
    "collapsed": true,
    "ExecuteTime": {
     "end_time": "2024-05-18T16:41:22.495762Z",
     "start_time": "2024-05-18T16:41:20.264779Z"
    }
   },
   "source": [
    "import numpy as np\n",
    "import pandas as pd\n",
    "from FinancialMachineLearning.labeling.labeling import *\n",
    "\n",
    "triple_barrier_event = pd.read_parquet('../../../Data/AAPL_triple_barrier_events.parquet')\n",
    "avg_uniqueness = pd.read_parquet('../../../Data/AAPL_avg_unique.parquet')\n",
    "feature_matrix = pd.read_parquet('../../../Data/AAPL_feature_matrix.parquet')\n",
    "\n",
    "labels = meta_labeling(\n",
    "    triple_barrier_event, \n",
    "    feature_matrix['Close']\n",
    ")\n",
    "\n",
    "triple_barrier_event['side'] = labels['bin']\n",
    "meta_labels = meta_labeling(\n",
    "    triple_barrier_event, # with side labels\n",
    "    feature_matrix['Close']\n",
    ")"
   ],
   "outputs": [],
   "execution_count": 1
  },
  {
   "metadata": {
    "ExecuteTime": {
     "end_time": "2024-05-18T16:41:22.551035Z",
     "start_time": "2024-05-18T16:41:22.500859Z"
    }
   },
   "cell_type": "code",
   "source": [
    "feature_matrix['side'] = triple_barrier_event['side'].copy()\n",
    "feature_matrix['label'] = meta_labels['bin'].copy()\n",
    "feature_matrix.drop(['Open','High','Low','Close','Adj Close','Volume'], axis = 1, inplace = True)\n",
    "feature_matrix.dropna(inplace = True)\n",
    "matrix = feature_matrix[feature_matrix['side'] != 0]\n",
    "\n",
    "X = matrix.drop(['side','label'], axis = 1)\n",
    "y = matrix['label']\n",
    "\n",
    "X_train, X_test = X.loc[:'2019'], X.loc['2020':]\n",
    "y_train, y_test = y.loc[:'2019'], y.loc['2020':]"
   ],
   "id": "d2034e4022eb6811",
   "outputs": [],
   "execution_count": 2
  },
  {
   "metadata": {
    "ExecuteTime": {
     "end_time": "2024-05-18T16:41:23.122075Z",
     "start_time": "2024-05-18T16:41:22.553927Z"
    }
   },
   "cell_type": "code",
   "source": [
    "from sklearn.ensemble import RandomForestClassifier\n",
    "from FinancialMachineLearning.sample_weights.bootstrapping import *\n",
    "\n",
    "class SequentialRandomForestClassifier(RandomForestClassifier):\n",
    "    def _generate_sample_indices(self, random_state, n_samples):\n",
    "        \"\"\"Generate bootstrap sample indices with sequential bootstrap method.\"\"\"\n",
    "        random_instance = random_state  # get the RandomState instance\n",
    "        \n",
    "        ind_mat = get_indicator_matrix(\n",
    "            triple_barrier_event.index.to_series(),\n",
    "            triple_barrier_event['t1']\n",
    "        )\n",
    "        \n",
    "        sample_indices = seq_bootstrap(ind_mat, n_samples)\n",
    "        \n",
    "        return sample_indices"
   ],
   "id": "9bc7c6629851123f",
   "outputs": [],
   "execution_count": 3
  },
  {
   "metadata": {
    "ExecuteTime": {
     "end_time": "2024-05-18T16:41:24.084155Z",
     "start_time": "2024-05-18T16:41:23.124103Z"
    }
   },
   "cell_type": "code",
   "source": [
    "forest = SequentialRandomForestClassifier(\n",
    "    criterion = 'entropy',\n",
    "    class_weight = 'balanced_subsample',\n",
    "    random_state = 42,\n",
    "    n_estimators = 100,\n",
    "    max_features = 3, # early stopping\n",
    "    min_weight_fraction_leaf = 0.05, # early stopping\n",
    "    oob_score = True\n",
    ")\n",
    "\n",
    "forest_fit = forest.fit(\n",
    "    X = X_train, \n",
    "    y = y_train, \n",
    "    sample_weight = avg_uniqueness.loc[X_train.index].to_numpy().reshape(1, -1)[0]\n",
    ")"
   ],
   "id": "a61c50bfffdbebe9",
   "outputs": [],
   "execution_count": 4
  },
  {
   "metadata": {},
   "cell_type": "markdown",
   "source": [
    "#### Purging the Training Set\n",
    "\n",
    "label이 $Y_j$인 테스트 관측값이 정보 집합 $\\Phi_j$에 근거해 결정됐다고 가정해 보자. 정보의 누출 형태를 방지하고자 정보 집합 $\\Phi_i$에 근거해서 label $Y_i$를 결정한 모든 관측값을 훈련 데이터에서 제거해서 $\\Phi_i \\cap \\Phi_j = \\emptyset$이 되게 한다. 즉, 테스트셋에 정보의 Concurrency가 존재하는 데이터를 훈련 데이터셋에서 삭제하는 과정이다.\n",
    "\n",
    "특별히 $Y_i$와 $Y_j$가 공존할 때에는 언제나 양쪽 label이 적어도 하나의 공통 무작위 추출에 달려 있다는 관점에서 두 관측값 $i$와 $j$ 사이에 정보의 중첩이 있다고 결정한다. 예를 들어서, 닫힌 구간 $t \\in [t_{j,0}, t_{j,1}], Y_j = f\\left[ [t_{j,0}, t_{j,1}]\\right]$에서 관측값의 함수인 label $Y_j$를 고려해 보자. 예를 들어서, triple barrier labeling의 관점에서는 label이 인덱스가 $t_{j,0}$와 $t_{j,1}$ 사이의 가격 바 수익률의 부호, 즉 $\\mathrm{sgn}[r_{t_{j, 0}, t_{j, 1}}]$이다. label $Y_i = f\\left[ [t_{i,0}, t_{i,1}]\\right]$은 다음 세 가지 충분 조건 중 하나가 만족되면 $Y_j$와 중첩된다\n",
    "\n",
    "1. $t_{j,0} \\leq t_{i,0} \\leq t_{j,1}$\n",
    "2. $t_{j,0} \\leq t_{i,1} \\leq t_{j,1}$\n",
    "3. $t_{i,0} \\leq t_{j,0} \\leq t_{j,1} \\leq t_{i,1}$\n",
    "\n",
    "아래의 코드는 훈련 데이터셋에서 관측값 제거를 구현한다. 처음과 마지막 테스트 관측값 사이에서는 훈련 관측값이 발생하지 않는다는 관점에서 테스트셋이 연속이면 제거는 가속화될 수 있다."
   ],
   "id": "996a9f0b1151354"
  },
  {
   "metadata": {
    "ExecuteTime": {
     "end_time": "2024-05-18T16:41:24.114560Z",
     "start_time": "2024-05-18T16:41:24.090473Z"
    }
   },
   "cell_type": "code",
   "source": [
    "from FinancialMachineLearning.cross_validation.cross_validation import get_train_times, get_embargo_times\n",
    "\n",
    "train_times, test_times = triple_barrier_event.loc[:'2019'], triple_barrier_event.loc['2019':]"
   ],
   "id": "8bb8761f95da3879",
   "outputs": [],
   "execution_count": 5
  },
  {
   "metadata": {
    "ExecuteTime": {
     "end_time": "2024-05-18T16:41:25.506218Z",
     "start_time": "2024-05-18T16:41:24.116336Z"
    }
   },
   "cell_type": "code",
   "source": "train_times = get_train_times(train_times['t1'], test_times['t1'])",
   "id": "e6b3d859de4a6ff3",
   "outputs": [],
   "execution_count": 6
  },
  {
   "metadata": {
    "ExecuteTime": {
     "end_time": "2024-05-18T16:41:25.517381Z",
     "start_time": "2024-05-18T16:41:25.508238Z"
    }
   },
   "cell_type": "code",
   "source": "train_times.head()",
   "id": "6bd0ffd5d873d070",
   "outputs": [
    {
     "data": {
      "text/plain": [
       "Date\n",
       "2000-01-07   2000-01-11\n",
       "2000-01-10   2000-01-12\n",
       "2000-01-11   2000-01-12\n",
       "2000-01-12   2000-01-13\n",
       "2000-01-13   2000-01-19\n",
       "Name: t1, dtype: datetime64[ns]"
      ]
     },
     "execution_count": 7,
     "metadata": {},
     "output_type": "execute_result"
    }
   ],
   "execution_count": 7
  },
  {
   "metadata": {},
   "cell_type": "markdown",
   "source": [
    "누출이 발생하면 단순히 $k \\rightarrow T$로 증가시키는 것만으로도 성과 개선이 일어난다. 여기서 $T$는 바의 개수다. 그 이유는 테스트 분할 개수가 많을수록 훈련셋의 중첩된 개수가 많아지기 때문이다. 많은 경우 제거만으로 누수를 막을 수 있다. $k$를 증가시킬수록 모델을 더 자주 조율하게 되므로 성능은 더 향상된다. 그러나 특정 값 $k^*$이상으로는 성능이 더 이상 향상되지 않는데, 이는 백테스트가 누출로부터 혜택을 얻지 못함을 의미한다. 아래의 그림은 K-fold cross validation의 한 부분을 그린 것이다. 테스트셋은 2개의 훈련 데이터셋에 둘러싸여 있기 때문에, 누출을 막기 위해서는 두 개의 제거해야 할 중첩 구간이 생성된다\n",
    "\n",
    "![concurrency](./images/concurrency.png)"
   ],
   "id": "d2dcf9845db51712"
  },
  {
   "metadata": {},
   "cell_type": "markdown",
   "source": [
    "#### Embargo\n",
    "\n",
    "제거로도 정보 누출을 방지하지 못하는 경우에는 모든 테스트셋 다음의 훈련 관측값에게 embargo를 설정할 수 있다. 훈련 label $Y_i = f\\left[ [t_{i,0}, t_{i,1}]\\right]$은 $t_{i,1} < t_{j,0}$에서 테스트 시간 $t_{j,0}$에 있었던 정보를 포함하기 때문에 Embargo는 테스트셋 이전의 훈련 관측값에 대해 조치를 취하는 것이 아니다. 달리 말하면 여기서는 오직 테스트 직후 $t_{j,1} \\leq t_{i,0} \\leq t_{j,1} + h$에 발생하는 train label $Y_i = f\\left[ [t_{i,0}, t_{i,1}]\\right]$만 고려하기 때문이다.\n",
    "\n",
    "이 embargo 기간 $h$는 제거 이전에 $Y_i = f\\left[ [t_{j,0}, t_{j,1} + h]\\right]$로 설정하면 구현할 수 있다. $k \\rightarrow T$로 증가시켜도 테스트 성능이 무한정 향상되지 않는다는 것을 확인 가능한 바와 같이 작은 값 $h \\approx 0.01T$는 대개 모든 정보 누출을 방지하기에 충분하다. 아래의 그림은 테스트 셋 직후에 훈련 관측값에 엠바고를 설정하는 것을 보여 준다.\n",
    "\n",
    "![embargo](./images/embargo.png)\n",
    "\n",
    "아래의 코드는 앞서 설명한 embargo process에 대해서 보여준다."
   ],
   "id": "b8c0bbf48ee66d0a"
  },
  {
   "metadata": {
    "ExecuteTime": {
     "end_time": "2024-05-18T16:41:25.523583Z",
     "start_time": "2024-05-18T16:41:25.518356Z"
    }
   },
   "cell_type": "code",
   "source": [
    "mbrg = get_embargo_times(\n",
    "    times = test_times.index, \n",
    "    pct_embargo = 0.01\n",
    ")"
   ],
   "id": "28f515c4bccec51",
   "outputs": [],
   "execution_count": 8
  },
  {
   "metadata": {
    "ExecuteTime": {
     "end_time": "2024-05-18T16:41:25.528684Z",
     "start_time": "2024-05-18T16:41:25.524690Z"
    }
   },
   "cell_type": "code",
   "source": "mbrg.head()",
   "id": "916d15f44de46851",
   "outputs": [
    {
     "data": {
      "text/plain": [
       "Date\n",
       "2019-01-02   2019-01-22\n",
       "2019-01-03   2019-01-23\n",
       "2019-01-04   2019-01-24\n",
       "2019-01-07   2019-01-25\n",
       "2019-01-08   2019-01-28\n",
       "dtype: datetime64[ns]"
      ]
     },
     "execution_count": 9,
     "metadata": {},
     "output_type": "execute_result"
    }
   ],
   "execution_count": 9
  },
  {
   "metadata": {},
   "cell_type": "markdown",
   "source": [
    "#### Purged K Fold Class\n",
    "\n",
    "앞서 레이블이 중첩상태일 때 훈련 테스트 데이터 분할을 어떻게 생성할지 알아보았다. 모델 개발의 특서한 맥락에서 제거와 embargo 개념을 소개했다. 일반적으로 Hyper parameter fitting이나 Backtesting, 성과 평가 등에 관계없이 Train / Test data split을 생성할 때마다 중첩된 훈련 관측값을 제거하고 Embargo 해야 한다. 아래의 코드는 `scikit-learn`의 K Fold 클래스를 확장해 테스트 정보가 훈련셋으로 누출될 가능성을 막는 과정이다"
   ],
   "id": "fa63d16909b79349"
  },
  {
   "metadata": {
    "ExecuteTime": {
     "end_time": "2024-05-18T16:41:25.540081Z",
     "start_time": "2024-05-18T16:41:25.534912Z"
    }
   },
   "cell_type": "code",
   "source": [
    "from FinancialMachineLearning.cross_validation.cross_validation import PurgedKFold\n",
    "\n",
    "purged_k_fold = PurgedKFold(\n",
    "    n_splits = 10,\n",
    "    samples_info_sets = triple_barrier_event['t1'].loc[X_train.index],\n",
    "    pct_embargo = 0.01\n",
    ")"
   ],
   "id": "b93327667c2e2b12",
   "outputs": [],
   "execution_count": 10
  },
  {
   "metadata": {},
   "cell_type": "markdown",
   "source": [
    "### Cross Validation\n",
    "\n",
    "`sklearn`의 cross validation 함수는 다음과 같은 버그가 존재한다고 알려져 있다.\n",
    "\n",
    "1. scoring function은 `sklearn`의 `pandas.Series`가 아니라 `numpy` 배열로 구현되어 있기 때문에 `classes_`를 알지 못한다.\n",
    "2. `cross_val_score`는 가중값을 `.fit()` method에 전달하지만 `log_loss`에는 전달하지 않으므로 다른 결과를 산출한다."
   ],
   "id": "b5359a1c49899ed5"
  },
  {
   "metadata": {
    "ExecuteTime": {
     "end_time": "2024-05-18T16:41:31.623723Z",
     "start_time": "2024-05-18T16:41:25.541059Z"
    }
   },
   "cell_type": "code",
   "source": [
    "from FinancialMachineLearning.cross_validation.cross_validation import cross_val_score\n",
    "from sklearn.metrics import log_loss\n",
    "\n",
    "cross_validation_score = cross_val_score(\n",
    "    classifier = forest,\n",
    "    X = X_train,\n",
    "    y = y_train,\n",
    "    sample_weight = avg_uniqueness.loc[X_train.index].to_numpy().reshape(1, -1)[0],\n",
    "    cv_gen = purged_k_fold,\n",
    "    scoring = log_loss\n",
    ")"
   ],
   "id": "8b09fdf9c0cdb925",
   "outputs": [],
   "execution_count": 11
  },
  {
   "metadata": {
    "ExecuteTime": {
     "end_time": "2024-05-18T16:41:31.630285Z",
     "start_time": "2024-05-18T16:41:31.625427Z"
    }
   },
   "cell_type": "code",
   "source": "cross_validation_score",
   "id": "fc910aadddcb3706",
   "outputs": [
    {
     "data": {
      "text/plain": [
       "array([-0.61606639, -0.57196965, -0.60610062, -0.5293604 , -0.58362231,\n",
       "       -0.50837912, -0.53492057, -0.4985293 , -0.51140731, -0.53649262])"
      ]
     },
     "execution_count": 12,
     "metadata": {},
     "output_type": "execute_result"
    }
   ],
   "execution_count": 12
  },
  {
   "metadata": {},
   "cell_type": "markdown",
   "source": "이런 버그가 있음을 인지하고, `sklearn`의 `cross_val_score`대신 위 함수를 사용하도록 하자",
   "id": "b76b24cb98ac119b"
  }
 ],
 "metadata": {
  "kernelspec": {
   "display_name": "Python 3",
   "language": "python",
   "name": "python3"
  },
  "language_info": {
   "codemirror_mode": {
    "name": "ipython",
    "version": 2
   },
   "file_extension": ".py",
   "mimetype": "text/x-python",
   "name": "python",
   "nbconvert_exporter": "python",
   "pygments_lexer": "ipython2",
   "version": "2.7.6"
  }
 },
 "nbformat": 4,
 "nbformat_minor": 5
}
