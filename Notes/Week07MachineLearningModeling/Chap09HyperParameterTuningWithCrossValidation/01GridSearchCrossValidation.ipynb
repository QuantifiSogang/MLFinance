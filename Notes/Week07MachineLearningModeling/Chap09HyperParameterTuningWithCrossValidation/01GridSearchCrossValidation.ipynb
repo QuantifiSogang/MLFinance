{
 "cells": [
  {
   "metadata": {},
   "cell_type": "markdown",
   "source": [
    "### Grid Search Cross Validation\n",
    "\n",
    "Grid Search Cross Validation은 사용자 정의 점수 함수에 따라 교차 검증 성과를 최대화하는 파라미터 조합을 완전 탐색을 통해 수행한다. 기저 데이터 구조에 대해 잘 모를 경우 가장 먼저 취할 수 있는 합리적인 방법이다. `scikit-learn`은 이 방법을 `GridSearchCV` 함수로 구현했는데 교차 검증 생성자를 인수로 받는다. Chapter 7에서 설명했던 이유로 `GridSearchCV`가 누출된 정보로 Machine Learning 추정기를 과적합하는 것을 방지하려면 `PurgedKFold` Class를 전달해야 한다."
   ],
   "id": "134ba2da0978567d"
  },
  {
   "cell_type": "code",
   "execution_count": null,
   "id": "initial_id",
   "metadata": {
    "collapsed": true
   },
   "outputs": [],
   "source": [
    ""
   ]
  }
 ],
 "metadata": {
  "kernelspec": {
   "display_name": "Python 3",
   "language": "python",
   "name": "python3"
  },
  "language_info": {
   "codemirror_mode": {
    "name": "ipython",
    "version": 2
   },
   "file_extension": ".py",
   "mimetype": "text/x-python",
   "name": "python",
   "nbconvert_exporter": "python",
   "pygments_lexer": "ipython2",
   "version": "2.7.6"
  }
 },
 "nbformat": 4,
 "nbformat_minor": 5
}
