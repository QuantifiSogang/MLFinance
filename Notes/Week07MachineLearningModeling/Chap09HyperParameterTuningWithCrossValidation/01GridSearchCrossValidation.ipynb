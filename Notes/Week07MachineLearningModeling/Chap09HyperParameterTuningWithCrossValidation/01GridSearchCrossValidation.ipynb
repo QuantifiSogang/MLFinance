{
 "cells": [
  {
   "metadata": {},
   "cell_type": "markdown",
   "source": [
    "### Grid Search Cross Validation\n",
    "\n",
    "Grid Search Cross Validation은 사용자 정의 점수 함수에 따라 교차 검증 성과를 최대화하는 파라미터 조합을 완전 탐색을 통해 수행한다. 기저 데이터 구조에 대해 잘 모를 경우 가장 먼저 취할 수 있는 합리적인 방법이다. `scikit-learn`은 이 방법을 `GridSearchCV` 함수로 구현했는데 교차 검증 생성자를 인수로 받는다. Chapter 7에서 설명했던 이유로 `GridSearchCV`가 누출된 정보로 Machine Learning 추정기를 과적합하는 것을 방지하려면 `PurgedKFold` Class를 전달해야 한다."
   ],
   "id": "134ba2da0978567d"
  },
  {
   "cell_type": "code",
   "id": "initial_id",
   "metadata": {
    "collapsed": true,
    "ExecuteTime": {
     "end_time": "2024-08-07T14:33:55.004883Z",
     "start_time": "2024-08-07T14:33:55.002271Z"
    }
   },
   "source": [
    "import numpy as np\n",
    "import pandas as pd\n",
    "import matplotlib.pyplot as plt\n",
    "import seaborn as sns"
   ],
   "outputs": [],
   "execution_count": 1
  },
  {
   "metadata": {
    "ExecuteTime": {
     "end_time": "2024-08-07T14:33:55.155922Z",
     "start_time": "2024-08-07T14:33:55.016498Z"
    }
   },
   "cell_type": "code",
   "source": [
    "def get_test_data(\n",
    "        n_features : int = 40,\n",
    "        n_informative : int = 10,\n",
    "        n_redundant : int = 10,\n",
    "        n_samples : int = 10000,\n",
    "        random_state : int = 42,\n",
    "        sigma_std : float = 0.0\n",
    ") : \n",
    "    from sklearn.datasets import make_classification\n",
    "    \n",
    "    np.random.seed(random_state)\n",
    "    \n",
    "    trnsX, cont = make_classification(\n",
    "        n_samples = n_samples,\n",
    "        n_features = n_features,\n",
    "        n_informative = n_informative,\n",
    "        n_redundant = n_redundant,\n",
    "        random_state = random_state,\n",
    "        shuffle = False\n",
    "    )\n",
    "    \n",
    "    df0_index = pd.date_range(start = pd.to_datetime('today') - pd.to_timedelta(n_samples, unit = 'd'), \n",
    "                              periods = n_samples, freq = 'B')\n",
    "\n",
    "    trnsX, cont = pd.DataFrame(trnsX, index = df0_index), pd.Series(cont, index=df0_index).to_frame('bin')\n",
    "\n",
    "    df0 = ['I_' + str(i) for i in range(n_informative)] + ['R_' + str(i) for i in range(n_redundant)]\n",
    "    df0 += ['N_' + str(i) for i in range(n_features - len(df0))]\n",
    "    \n",
    "    trnsX.columns = df0\n",
    "    cont['w'] = 1. / cont.shape[0]\n",
    "    cont['t1'] = pd.Series(cont.index, index = cont.index)\n",
    "    \n",
    "    return trnsX, cont\n",
    "\n",
    "testing = False\n",
    "n_samples = 1000\n",
    "n_splits = 3\n",
    "\n",
    "trnsX, cont = get_test_data(\n",
    "    n_features = 10,\n",
    "    n_informative = 5,\n",
    "    n_redundant = 0,\n",
    "    n_samples = n_samples,\n",
    ")"
   ],
   "id": "3cef4f348e24ff3c",
   "outputs": [],
   "execution_count": 2
  },
  {
   "metadata": {
    "ExecuteTime": {
     "end_time": "2024-08-07T14:33:55.163030Z",
     "start_time": "2024-08-07T14:33:55.156805Z"
    }
   },
   "cell_type": "code",
   "source": "cont",
   "id": "38a0e97862f851ea",
   "outputs": [
    {
     "data": {
      "text/plain": [
       "                            bin      w                         t1\n",
       "2021-11-11 23:33:55.150398    0  0.001 2021-11-11 23:33:55.150398\n",
       "2021-11-12 23:33:55.150398    0  0.001 2021-11-12 23:33:55.150398\n",
       "2021-11-15 23:33:55.150398    0  0.001 2021-11-15 23:33:55.150398\n",
       "2021-11-16 23:33:55.150398    0  0.001 2021-11-16 23:33:55.150398\n",
       "2021-11-17 23:33:55.150398    0  0.001 2021-11-17 23:33:55.150398\n",
       "...                         ...    ...                        ...\n",
       "2025-09-04 23:33:55.150398    1  0.001 2025-09-04 23:33:55.150398\n",
       "2025-09-05 23:33:55.150398    1  0.001 2025-09-05 23:33:55.150398\n",
       "2025-09-08 23:33:55.150398    1  0.001 2025-09-08 23:33:55.150398\n",
       "2025-09-09 23:33:55.150398    1  0.001 2025-09-09 23:33:55.150398\n",
       "2025-09-10 23:33:55.150398    1  0.001 2025-09-10 23:33:55.150398\n",
       "\n",
       "[1000 rows x 3 columns]"
      ],
      "text/html": [
       "<div>\n",
       "<style scoped>\n",
       "    .dataframe tbody tr th:only-of-type {\n",
       "        vertical-align: middle;\n",
       "    }\n",
       "\n",
       "    .dataframe tbody tr th {\n",
       "        vertical-align: top;\n",
       "    }\n",
       "\n",
       "    .dataframe thead th {\n",
       "        text-align: right;\n",
       "    }\n",
       "</style>\n",
       "<table border=\"1\" class=\"dataframe\">\n",
       "  <thead>\n",
       "    <tr style=\"text-align: right;\">\n",
       "      <th></th>\n",
       "      <th>bin</th>\n",
       "      <th>w</th>\n",
       "      <th>t1</th>\n",
       "    </tr>\n",
       "  </thead>\n",
       "  <tbody>\n",
       "    <tr>\n",
       "      <th>2021-11-11 23:33:55.150398</th>\n",
       "      <td>0</td>\n",
       "      <td>0.001</td>\n",
       "      <td>2021-11-11 23:33:55.150398</td>\n",
       "    </tr>\n",
       "    <tr>\n",
       "      <th>2021-11-12 23:33:55.150398</th>\n",
       "      <td>0</td>\n",
       "      <td>0.001</td>\n",
       "      <td>2021-11-12 23:33:55.150398</td>\n",
       "    </tr>\n",
       "    <tr>\n",
       "      <th>2021-11-15 23:33:55.150398</th>\n",
       "      <td>0</td>\n",
       "      <td>0.001</td>\n",
       "      <td>2021-11-15 23:33:55.150398</td>\n",
       "    </tr>\n",
       "    <tr>\n",
       "      <th>2021-11-16 23:33:55.150398</th>\n",
       "      <td>0</td>\n",
       "      <td>0.001</td>\n",
       "      <td>2021-11-16 23:33:55.150398</td>\n",
       "    </tr>\n",
       "    <tr>\n",
       "      <th>2021-11-17 23:33:55.150398</th>\n",
       "      <td>0</td>\n",
       "      <td>0.001</td>\n",
       "      <td>2021-11-17 23:33:55.150398</td>\n",
       "    </tr>\n",
       "    <tr>\n",
       "      <th>...</th>\n",
       "      <td>...</td>\n",
       "      <td>...</td>\n",
       "      <td>...</td>\n",
       "    </tr>\n",
       "    <tr>\n",
       "      <th>2025-09-04 23:33:55.150398</th>\n",
       "      <td>1</td>\n",
       "      <td>0.001</td>\n",
       "      <td>2025-09-04 23:33:55.150398</td>\n",
       "    </tr>\n",
       "    <tr>\n",
       "      <th>2025-09-05 23:33:55.150398</th>\n",
       "      <td>1</td>\n",
       "      <td>0.001</td>\n",
       "      <td>2025-09-05 23:33:55.150398</td>\n",
       "    </tr>\n",
       "    <tr>\n",
       "      <th>2025-09-08 23:33:55.150398</th>\n",
       "      <td>1</td>\n",
       "      <td>0.001</td>\n",
       "      <td>2025-09-08 23:33:55.150398</td>\n",
       "    </tr>\n",
       "    <tr>\n",
       "      <th>2025-09-09 23:33:55.150398</th>\n",
       "      <td>1</td>\n",
       "      <td>0.001</td>\n",
       "      <td>2025-09-09 23:33:55.150398</td>\n",
       "    </tr>\n",
       "    <tr>\n",
       "      <th>2025-09-10 23:33:55.150398</th>\n",
       "      <td>1</td>\n",
       "      <td>0.001</td>\n",
       "      <td>2025-09-10 23:33:55.150398</td>\n",
       "    </tr>\n",
       "  </tbody>\n",
       "</table>\n",
       "<p>1000 rows × 3 columns</p>\n",
       "</div>"
      ]
     },
     "execution_count": 3,
     "metadata": {},
     "output_type": "execute_result"
    }
   ],
   "execution_count": 3
  },
  {
   "metadata": {
    "ExecuteTime": {
     "end_time": "2024-08-07T14:37:38.757323Z",
     "start_time": "2024-08-07T14:37:38.753077Z"
    }
   },
   "cell_type": "code",
   "source": [
    "from sklearn.svm import SVC\n",
    "from sklearn.model_selection import GridSearchCV, RandomizedSearchCV\n",
    "from FinancialMachineLearning.cross_validation.cross_validation import PurgedKFold, clf_hyper_fit\n",
    "\n",
    "params_grid = {\n",
    "    'C' : [1e-2, 1e-1, 1, 10, 100],\n",
    "    'gamma' : [1e-2, 1e-1, 1, 10, 100]\n",
    "}\n",
    "\n",
    "pipe_classification = SVC(probability = True)\n",
    "\n",
    "inner_cv = PurgedKFold(\n",
    "    n_splits = n_splits,\n",
    "    samples_info_sets = cont.index.to_series()\n",
    ")\n",
    "\n",
    "grid_search = GridSearchCV(\n",
    "    estimator = pipe_classification,\n",
    "    param_grid = params_grid,\n",
    "    scoring = 'neg_log_loss',\n",
    "    cv = inner_cv,\n",
    "    n_jobs = 8,\n",
    "    return_train_score = True\n",
    ")"
   ],
   "id": "c7c4f8e035d165df",
   "outputs": [],
   "execution_count": 13
  },
  {
   "metadata": {
    "ExecuteTime": {
     "end_time": "2024-08-07T14:37:40.275549Z",
     "start_time": "2024-08-07T14:37:39.194764Z"
    }
   },
   "cell_type": "code",
   "source": [
    "grid_search = grid_search.fit(X = trnsX, y = cont['bin'])\n",
    "gs_result = pd.DataFrame(grid_search.cv_results_)"
   ],
   "id": "d1ccdb70977a374f",
   "outputs": [],
   "execution_count": 14
  },
  {
   "metadata": {
    "ExecuteTime": {
     "end_time": "2024-08-07T14:37:46.184850Z",
     "start_time": "2024-08-07T14:37:46.168472Z"
    }
   },
   "cell_type": "code",
   "source": [
    "best_estimator = grid_search.best_estimator_\n",
    "print(best_estimator)"
   ],
   "id": "eb28ad0bb5f8d25",
   "outputs": [
    {
     "name": "stdout",
     "output_type": "stream",
     "text": [
      "SVC(C=1, gamma=10, probability=True)\n"
     ]
    }
   ],
   "execution_count": 16
  },
  {
   "metadata": {
    "ExecuteTime": {
     "end_time": "2024-08-07T14:45:37.894920Z",
     "start_time": "2024-08-07T14:45:36.966811Z"
    }
   },
   "cell_type": "code",
   "source": [
    "from sklearn.ensemble import BaggingClassifier\n",
    "\n",
    "pipe_classification = BaggingClassifier()\n",
    "\n",
    "clf_hyper_fit(\n",
    "    feat = trnsX, \n",
    "    label = cont['bin'], \n",
    "    samples_info_sets = cont.index.to_series(),\n",
    "    pipe_clf = pipe_classification,\n",
    "    param_grid = params_grid,\n",
    "    cv = 3,\n",
    "    bagging = [0, 1],\n",
    "    random_search_iterator = 0,\n",
    "    n_jobs = 8,\n",
    "    pct_embargo = 0.01,\n",
    ")"
   ],
   "id": "939f5c0f77963ee9",
   "outputs": [
    {
     "ename": "AttributeError",
     "evalue": "'SVC' object has no attribute 'steps'",
     "output_type": "error",
     "traceback": [
      "\u001B[0;31m---------------------------------------------------------------------------\u001B[0m",
      "\u001B[0;31mAttributeError\u001B[0m                            Traceback (most recent call last)",
      "Cell \u001B[0;32mIn[18], line 1\u001B[0m\n\u001B[0;32m----> 1\u001B[0m clf_hyper_fit(\n\u001B[1;32m      2\u001B[0m     feat \u001B[38;5;241m=\u001B[39m trnsX, \n\u001B[1;32m      3\u001B[0m     label \u001B[38;5;241m=\u001B[39m cont[\u001B[38;5;124m'\u001B[39m\u001B[38;5;124mbin\u001B[39m\u001B[38;5;124m'\u001B[39m], \n\u001B[1;32m      4\u001B[0m     samples_info_sets \u001B[38;5;241m=\u001B[39m cont\u001B[38;5;241m.\u001B[39mindex\u001B[38;5;241m.\u001B[39mto_series(),\n\u001B[1;32m      5\u001B[0m     pipe_clf \u001B[38;5;241m=\u001B[39m pipe_classification,\n\u001B[1;32m      6\u001B[0m     param_grid \u001B[38;5;241m=\u001B[39m params_grid,\n\u001B[1;32m      7\u001B[0m     cv \u001B[38;5;241m=\u001B[39m \u001B[38;5;241m3\u001B[39m,\n\u001B[1;32m      8\u001B[0m     bagging \u001B[38;5;241m=\u001B[39m [\u001B[38;5;241m0\u001B[39m, \u001B[38;5;241m1\u001B[39m],\n\u001B[1;32m      9\u001B[0m     random_search_iterator \u001B[38;5;241m=\u001B[39m \u001B[38;5;241m0\u001B[39m,\n\u001B[1;32m     10\u001B[0m     n_jobs \u001B[38;5;241m=\u001B[39m \u001B[38;5;241m8\u001B[39m,\n\u001B[1;32m     11\u001B[0m     pct_embargo \u001B[38;5;241m=\u001B[39m \u001B[38;5;241m0.01\u001B[39m,\n\u001B[1;32m     12\u001B[0m )\n",
      "File \u001B[0;32m~/Desktop/Pycharm/MLFinance/FinancialMachineLearning/cross_validation/cross_validation.py:137\u001B[0m, in \u001B[0;36mclf_hyper_fit\u001B[0;34m(feat, label, samples_info_sets, pipe_clf, param_grid, cv, bagging, random_search_iterator, n_jobs, pct_embargo, **fit_params)\u001B[0m\n\u001B[1;32m    134\u001B[0m grid_search \u001B[38;5;241m=\u001B[39m grid_search\u001B[38;5;241m.\u001B[39mfit(feat, label, \u001B[38;5;241m*\u001B[39m\u001B[38;5;241m*\u001B[39mfit_params)\u001B[38;5;241m.\u001B[39mbest_estimator_\n\u001B[1;32m    136\u001B[0m \u001B[38;5;28;01mif\u001B[39;00m bagging[\u001B[38;5;241m1\u001B[39m] \u001B[38;5;241m>\u001B[39m \u001B[38;5;241m0\u001B[39m :\n\u001B[0;32m--> 137\u001B[0m     grid_search \u001B[38;5;241m=\u001B[39m BaggingClassifier(\n\u001B[1;32m    138\u001B[0m         estimator \u001B[38;5;241m=\u001B[39m SampledPipeline(grid_search\u001B[38;5;241m.\u001B[39msteps),\n\u001B[1;32m    139\u001B[0m         n_estimators \u001B[38;5;241m=\u001B[39m \u001B[38;5;28mint\u001B[39m(bagging[\u001B[38;5;241m0\u001B[39m]),\n\u001B[1;32m    140\u001B[0m         max_samples \u001B[38;5;241m=\u001B[39m \u001B[38;5;28mfloat\u001B[39m(bagging[\u001B[38;5;241m1\u001B[39m]),\n\u001B[1;32m    141\u001B[0m         max_features \u001B[38;5;241m=\u001B[39m \u001B[38;5;28mfloat\u001B[39m(bagging[\u001B[38;5;241m2\u001B[39m]),\n\u001B[1;32m    142\u001B[0m         n_jobs \u001B[38;5;241m=\u001B[39m n_jobs\n\u001B[1;32m    143\u001B[0m     )\n\u001B[1;32m    144\u001B[0m     grid_search \u001B[38;5;241m=\u001B[39m grid_search\u001B[38;5;241m.\u001B[39mfit(\n\u001B[1;32m    145\u001B[0m         feat, label,\n\u001B[1;32m    146\u001B[0m         sample_weight \u001B[38;5;241m=\u001B[39m fit_params[grid_search\u001B[38;5;241m.\u001B[39mbase_estimator\u001B[38;5;241m.\u001B[39msteps[\u001B[38;5;241m-\u001B[39m\u001B[38;5;241m1\u001B[39m][\u001B[38;5;241m0\u001B[39m]\u001B[38;5;241m+\u001B[39m\u001B[38;5;124m'\u001B[39m\u001B[38;5;124m sample_weight\u001B[39m\u001B[38;5;124m'\u001B[39m]\n\u001B[1;32m    147\u001B[0m     )\n\u001B[1;32m    148\u001B[0m     grid_search \u001B[38;5;241m=\u001B[39m Pipeline([(\u001B[38;5;124m'\u001B[39m\u001B[38;5;124mbag\u001B[39m\u001B[38;5;124m'\u001B[39m, grid_search)])\n",
      "\u001B[0;31mAttributeError\u001B[0m: 'SVC' object has no attribute 'steps'"
     ]
    }
   ],
   "execution_count": 18
  },
  {
   "metadata": {},
   "cell_type": "code",
   "outputs": [],
   "execution_count": null,
   "source": "",
   "id": "4a9f2aebd9f2e156"
  }
 ],
 "metadata": {
  "kernelspec": {
   "display_name": "Python 3",
   "language": "python",
   "name": "python3"
  },
  "language_info": {
   "codemirror_mode": {
    "name": "ipython",
    "version": 2
   },
   "file_extension": ".py",
   "mimetype": "text/x-python",
   "name": "python",
   "nbconvert_exporter": "python",
   "pygments_lexer": "ipython2",
   "version": "2.7.6"
  }
 },
 "nbformat": 4,
 "nbformat_minor": 5
}
