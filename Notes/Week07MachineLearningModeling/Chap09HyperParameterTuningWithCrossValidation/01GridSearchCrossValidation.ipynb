{
 "cells": [
  {
   "metadata": {},
   "cell_type": "markdown",
   "source": [
    "### Grid Search Cross Validation\n",
    "\n",
    "Grid Search Cross Validation은 사용자 정의 점수 함수에 따라 교차 검증 성과를 최대화하는 파라미터 조합을 완전 탐색을 통해 수행한다. 기저 데이터 구조에 대해 잘 모를 경우 가장 먼저 취할 수 있는 합리적인 방법이다. `scikit-learn`은 이 방법을 `GridSearchCV` 함수로 구현했는데 교차 검증 생성자를 인수로 받는다. Chapter 7에서 설명했던 이유로 `GridSearchCV`가 누출된 정보로 Machine Learning 추정기를 과적합하는 것을 방지하려면 `PurgedKFold` Class를 전달해야 한다."
   ],
   "id": "134ba2da0978567d"
  },
  {
   "cell_type": "code",
   "id": "initial_id",
   "metadata": {
    "collapsed": true,
    "ExecuteTime": {
     "end_time": "2024-08-09T14:17:26.504806Z",
     "start_time": "2024-08-09T14:17:26.503086Z"
    }
   },
   "source": [
    "import numpy as np\n",
    "import pandas as pd\n",
    "import matplotlib.pyplot as plt\n",
    "import seaborn as sns"
   ],
   "outputs": [],
   "execution_count": 1
  },
  {
   "metadata": {
    "ExecuteTime": {
     "end_time": "2024-08-09T14:17:26.634870Z",
     "start_time": "2024-08-09T14:17:26.505486Z"
    }
   },
   "cell_type": "code",
   "source": [
    "def get_test_data(\n",
    "        n_features : int = 40,\n",
    "        n_informative : int = 10,\n",
    "        n_redundant : int = 10,\n",
    "        n_samples : int = 10000,\n",
    "        random_state : int = 42,\n",
    "        sigma_std : float = 0.0\n",
    ") : \n",
    "    from sklearn.datasets import make_classification\n",
    "    \n",
    "    np.random.seed(random_state)\n",
    "    \n",
    "    trnsX, cont = make_classification(\n",
    "        n_samples = n_samples,\n",
    "        n_features = n_features,\n",
    "        n_informative = n_informative,\n",
    "        n_redundant = n_redundant,\n",
    "        random_state = random_state,\n",
    "        shuffle = False\n",
    "    )\n",
    "    \n",
    "    df0_index = pd.date_range(start = pd.to_datetime('today') - pd.to_timedelta(n_samples, unit = 'd'), \n",
    "                              periods = n_samples, freq = 'B')\n",
    "\n",
    "    trnsX, cont = pd.DataFrame(trnsX, index = df0_index), pd.Series(cont, index=df0_index).to_frame('bin')\n",
    "\n",
    "    df0 = ['I_' + str(i) for i in range(n_informative)] + ['R_' + str(i) for i in range(n_redundant)]\n",
    "    df0 += ['N_' + str(i) for i in range(n_features - len(df0))]\n",
    "    \n",
    "    trnsX.columns = df0\n",
    "    cont['w'] = 1. / cont.shape[0]\n",
    "    cont['t1'] = pd.Series(cont.index, index = cont.index)\n",
    "    \n",
    "    return trnsX, cont\n",
    "\n",
    "testing = False\n",
    "n_samples = 1000\n",
    "n_splits = 3\n",
    "\n",
    "trnsX, cont = get_test_data(\n",
    "    n_features = 20,\n",
    "    n_informative = 10,\n",
    "    n_redundant = 5,\n",
    "    n_samples = n_samples,\n",
    ")"
   ],
   "id": "3cef4f348e24ff3c",
   "outputs": [],
   "execution_count": 2
  },
  {
   "metadata": {
    "ExecuteTime": {
     "end_time": "2024-08-09T14:17:26.641326Z",
     "start_time": "2024-08-09T14:17:26.635553Z"
    }
   },
   "cell_type": "code",
   "source": "cont.head()",
   "id": "38a0e97862f851ea",
   "outputs": [
    {
     "data": {
      "text/plain": [
       "                            bin      w                         t1\n",
       "2021-11-15 23:17:26.629275    0  0.001 2021-11-15 23:17:26.629275\n",
       "2021-11-16 23:17:26.629275    0  0.001 2021-11-16 23:17:26.629275\n",
       "2021-11-17 23:17:26.629275    0  0.001 2021-11-17 23:17:26.629275\n",
       "2021-11-18 23:17:26.629275    0  0.001 2021-11-18 23:17:26.629275\n",
       "2021-11-19 23:17:26.629275    0  0.001 2021-11-19 23:17:26.629275"
      ],
      "text/html": [
       "<div>\n",
       "<style scoped>\n",
       "    .dataframe tbody tr th:only-of-type {\n",
       "        vertical-align: middle;\n",
       "    }\n",
       "\n",
       "    .dataframe tbody tr th {\n",
       "        vertical-align: top;\n",
       "    }\n",
       "\n",
       "    .dataframe thead th {\n",
       "        text-align: right;\n",
       "    }\n",
       "</style>\n",
       "<table border=\"1\" class=\"dataframe\">\n",
       "  <thead>\n",
       "    <tr style=\"text-align: right;\">\n",
       "      <th></th>\n",
       "      <th>bin</th>\n",
       "      <th>w</th>\n",
       "      <th>t1</th>\n",
       "    </tr>\n",
       "  </thead>\n",
       "  <tbody>\n",
       "    <tr>\n",
       "      <th>2021-11-15 23:17:26.629275</th>\n",
       "      <td>0</td>\n",
       "      <td>0.001</td>\n",
       "      <td>2021-11-15 23:17:26.629275</td>\n",
       "    </tr>\n",
       "    <tr>\n",
       "      <th>2021-11-16 23:17:26.629275</th>\n",
       "      <td>0</td>\n",
       "      <td>0.001</td>\n",
       "      <td>2021-11-16 23:17:26.629275</td>\n",
       "    </tr>\n",
       "    <tr>\n",
       "      <th>2021-11-17 23:17:26.629275</th>\n",
       "      <td>0</td>\n",
       "      <td>0.001</td>\n",
       "      <td>2021-11-17 23:17:26.629275</td>\n",
       "    </tr>\n",
       "    <tr>\n",
       "      <th>2021-11-18 23:17:26.629275</th>\n",
       "      <td>0</td>\n",
       "      <td>0.001</td>\n",
       "      <td>2021-11-18 23:17:26.629275</td>\n",
       "    </tr>\n",
       "    <tr>\n",
       "      <th>2021-11-19 23:17:26.629275</th>\n",
       "      <td>0</td>\n",
       "      <td>0.001</td>\n",
       "      <td>2021-11-19 23:17:26.629275</td>\n",
       "    </tr>\n",
       "  </tbody>\n",
       "</table>\n",
       "</div>"
      ]
     },
     "execution_count": 3,
     "metadata": {},
     "output_type": "execute_result"
    }
   ],
   "execution_count": 3
  },
  {
   "metadata": {
    "ExecuteTime": {
     "end_time": "2024-08-09T14:17:26.771595Z",
     "start_time": "2024-08-09T14:17:26.643908Z"
    }
   },
   "cell_type": "code",
   "source": [
    "from sklearn.svm import SVC\n",
    "from FinancialMachineLearning.cross_validation.cross_validation import clf_hyper_fit\n",
    "from sklearn.model_selection import train_test_split\n",
    "\n",
    "X_train, X_test, y_train, y_test = train_test_split(\n",
    "    trnsX, \n",
    "    cont, \n",
    "    test_size = 0.3, \n",
    "    shuffle = False\n",
    ")"
   ],
   "id": "c7c4f8e035d165df",
   "outputs": [],
   "execution_count": 4
  },
  {
   "metadata": {
    "ExecuteTime": {
     "end_time": "2024-08-09T14:17:26.775400Z",
     "start_time": "2024-08-09T14:17:26.772417Z"
    }
   },
   "cell_type": "code",
   "source": [
    "from sklearn.ensemble import BaggingClassifier\n",
    "from FinancialMachineLearning.cross_validation.cross_validation import FMLPipeline\n",
    "\n",
    "base_estimator = SVC(\n",
    "    random_state = 42, \n",
    "    probability = True\n",
    ")\n",
    "\n",
    "pipe_clf = FMLPipeline(\n",
    "    [\n",
    "        (\n",
    "            'clf', \n",
    "            BaggingClassifier(\n",
    "                estimator = base_estimator, \n",
    "                random_state = 42\n",
    "            )\n",
    "        )\n",
    "    ]\n",
    ")\n",
    "\n",
    "param_grid = {\n",
    "    'clf__n_estimators': [10, 50, 100],\n",
    "    'clf__max_samples': [0.5, 0.7, 1.0],\n",
    "    'clf__max_features': [0.5, 0.7, 1.0],\n",
    "    'clf__estimator__C': [0.1, 1, 10],\n",
    "    'clf__estimator__kernel': ['linear', 'rbf'],\n",
    "}"
   ],
   "id": "939f5c0f77963ee9",
   "outputs": [],
   "execution_count": 5
  },
  {
   "metadata": {
    "ExecuteTime": {
     "end_time": "2024-08-09T14:18:27.931686Z",
     "start_time": "2024-08-09T14:17:26.775990Z"
    }
   },
   "cell_type": "code",
   "source": [
    "samples_info_sets = y_train['t1']\n",
    "\n",
    "fitted_model = clf_hyper_fit(\n",
    "    feat = X_train,\n",
    "    label = y_train['bin'],\n",
    "    samples_info_sets = samples_info_sets,\n",
    "    pipe_clf = pipe_clf,\n",
    "    param_grid = param_grid,\n",
    "    cv = 3, \n",
    "    bagging = [0, None, 1],\n",
    "    random_search_iterator = 0,\n",
    "    n_jobs = 8,\n",
    "    pct_embargo = 0.01\n",
    ")"
   ],
   "id": "7c027b71ebe4a497",
   "outputs": [],
   "execution_count": 6
  },
  {
   "metadata": {
    "ExecuteTime": {
     "end_time": "2024-08-09T14:18:27.939666Z",
     "start_time": "2024-08-09T14:18:27.932849Z"
    }
   },
   "cell_type": "code",
   "source": "fitted_model",
   "id": "4a9f2aebd9f2e156",
   "outputs": [
    {
     "data": {
      "text/plain": [
       "FMLPipeline(steps=[('clf',\n",
       "                    BaggingClassifier(estimator=SVC(C=10, probability=True,\n",
       "                                                    random_state=42),\n",
       "                                      n_estimators=50, random_state=42))])"
      ],
      "text/html": [
       "<style>#sk-container-id-1 {color: black;background-color: white;}#sk-container-id-1 pre{padding: 0;}#sk-container-id-1 div.sk-toggleable {background-color: white;}#sk-container-id-1 label.sk-toggleable__label {cursor: pointer;display: block;width: 100%;margin-bottom: 0;padding: 0.3em;box-sizing: border-box;text-align: center;}#sk-container-id-1 label.sk-toggleable__label-arrow:before {content: \"▸\";float: left;margin-right: 0.25em;color: #696969;}#sk-container-id-1 label.sk-toggleable__label-arrow:hover:before {color: black;}#sk-container-id-1 div.sk-estimator:hover label.sk-toggleable__label-arrow:before {color: black;}#sk-container-id-1 div.sk-toggleable__content {max-height: 0;max-width: 0;overflow: hidden;text-align: left;background-color: #f0f8ff;}#sk-container-id-1 div.sk-toggleable__content pre {margin: 0.2em;color: black;border-radius: 0.25em;background-color: #f0f8ff;}#sk-container-id-1 input.sk-toggleable__control:checked~div.sk-toggleable__content {max-height: 200px;max-width: 100%;overflow: auto;}#sk-container-id-1 input.sk-toggleable__control:checked~label.sk-toggleable__label-arrow:before {content: \"▾\";}#sk-container-id-1 div.sk-estimator input.sk-toggleable__control:checked~label.sk-toggleable__label {background-color: #d4ebff;}#sk-container-id-1 div.sk-label input.sk-toggleable__control:checked~label.sk-toggleable__label {background-color: #d4ebff;}#sk-container-id-1 input.sk-hidden--visually {border: 0;clip: rect(1px 1px 1px 1px);clip: rect(1px, 1px, 1px, 1px);height: 1px;margin: -1px;overflow: hidden;padding: 0;position: absolute;width: 1px;}#sk-container-id-1 div.sk-estimator {font-family: monospace;background-color: #f0f8ff;border: 1px dotted black;border-radius: 0.25em;box-sizing: border-box;margin-bottom: 0.5em;}#sk-container-id-1 div.sk-estimator:hover {background-color: #d4ebff;}#sk-container-id-1 div.sk-parallel-item::after {content: \"\";width: 100%;border-bottom: 1px solid gray;flex-grow: 1;}#sk-container-id-1 div.sk-label:hover label.sk-toggleable__label {background-color: #d4ebff;}#sk-container-id-1 div.sk-serial::before {content: \"\";position: absolute;border-left: 1px solid gray;box-sizing: border-box;top: 0;bottom: 0;left: 50%;z-index: 0;}#sk-container-id-1 div.sk-serial {display: flex;flex-direction: column;align-items: center;background-color: white;padding-right: 0.2em;padding-left: 0.2em;position: relative;}#sk-container-id-1 div.sk-item {position: relative;z-index: 1;}#sk-container-id-1 div.sk-parallel {display: flex;align-items: stretch;justify-content: center;background-color: white;position: relative;}#sk-container-id-1 div.sk-item::before, #sk-container-id-1 div.sk-parallel-item::before {content: \"\";position: absolute;border-left: 1px solid gray;box-sizing: border-box;top: 0;bottom: 0;left: 50%;z-index: -1;}#sk-container-id-1 div.sk-parallel-item {display: flex;flex-direction: column;z-index: 1;position: relative;background-color: white;}#sk-container-id-1 div.sk-parallel-item:first-child::after {align-self: flex-end;width: 50%;}#sk-container-id-1 div.sk-parallel-item:last-child::after {align-self: flex-start;width: 50%;}#sk-container-id-1 div.sk-parallel-item:only-child::after {width: 0;}#sk-container-id-1 div.sk-dashed-wrapped {border: 1px dashed gray;margin: 0 0.4em 0.5em 0.4em;box-sizing: border-box;padding-bottom: 0.4em;background-color: white;}#sk-container-id-1 div.sk-label label {font-family: monospace;font-weight: bold;display: inline-block;line-height: 1.2em;}#sk-container-id-1 div.sk-label-container {text-align: center;}#sk-container-id-1 div.sk-container {/* jupyter's `normalize.less` sets `[hidden] { display: none; }` but bootstrap.min.css set `[hidden] { display: none !important; }` so we also need the `!important` here to be able to override the default hidden behavior on the sphinx rendered scikit-learn.org. See: https://github.com/scikit-learn/scikit-learn/issues/21755 */display: inline-block !important;position: relative;}#sk-container-id-1 div.sk-text-repr-fallback {display: none;}</style><div id=\"sk-container-id-1\" class=\"sk-top-container\"><div class=\"sk-text-repr-fallback\"><pre>FMLPipeline(steps=[(&#x27;clf&#x27;,\n",
       "                    BaggingClassifier(estimator=SVC(C=10, probability=True,\n",
       "                                                    random_state=42),\n",
       "                                      n_estimators=50, random_state=42))])</pre><b>In a Jupyter environment, please rerun this cell to show the HTML representation or trust the notebook. <br />On GitHub, the HTML representation is unable to render, please try loading this page with nbviewer.org.</b></div><div class=\"sk-container\" hidden><div class=\"sk-item sk-dashed-wrapped\"><div class=\"sk-label-container\"><div class=\"sk-label sk-toggleable\"><input class=\"sk-toggleable__control sk-hidden--visually\" id=\"sk-estimator-id-1\" type=\"checkbox\" ><label for=\"sk-estimator-id-1\" class=\"sk-toggleable__label sk-toggleable__label-arrow\">FMLPipeline</label><div class=\"sk-toggleable__content\"><pre>FMLPipeline(steps=[(&#x27;clf&#x27;,\n",
       "                    BaggingClassifier(estimator=SVC(C=10, probability=True,\n",
       "                                                    random_state=42),\n",
       "                                      n_estimators=50, random_state=42))])</pre></div></div></div><div class=\"sk-serial\"><div class=\"sk-item sk-dashed-wrapped\"><div class=\"sk-label-container\"><div class=\"sk-label sk-toggleable\"><input class=\"sk-toggleable__control sk-hidden--visually\" id=\"sk-estimator-id-2\" type=\"checkbox\" ><label for=\"sk-estimator-id-2\" class=\"sk-toggleable__label sk-toggleable__label-arrow\">clf: BaggingClassifier</label><div class=\"sk-toggleable__content\"><pre>BaggingClassifier(estimator=SVC(C=10, probability=True, random_state=42),\n",
       "                  n_estimators=50, random_state=42)</pre></div></div></div><div class=\"sk-parallel\"><div class=\"sk-parallel-item\"><div class=\"sk-item\"><div class=\"sk-label-container\"><div class=\"sk-label sk-toggleable\"><input class=\"sk-toggleable__control sk-hidden--visually\" id=\"sk-estimator-id-3\" type=\"checkbox\" ><label for=\"sk-estimator-id-3\" class=\"sk-toggleable__label sk-toggleable__label-arrow\">estimator: SVC</label><div class=\"sk-toggleable__content\"><pre>SVC(C=10, probability=True, random_state=42)</pre></div></div></div><div class=\"sk-serial\"><div class=\"sk-item\"><div class=\"sk-estimator sk-toggleable\"><input class=\"sk-toggleable__control sk-hidden--visually\" id=\"sk-estimator-id-4\" type=\"checkbox\" ><label for=\"sk-estimator-id-4\" class=\"sk-toggleable__label sk-toggleable__label-arrow\">SVC</label><div class=\"sk-toggleable__content\"><pre>SVC(C=10, probability=True, random_state=42)</pre></div></div></div></div></div></div></div></div></div></div></div></div>"
      ]
     },
     "execution_count": 7,
     "metadata": {},
     "output_type": "execute_result"
    }
   ],
   "execution_count": 7
  },
  {
   "metadata": {
    "ExecuteTime": {
     "end_time": "2024-08-09T14:18:28.081318Z",
     "start_time": "2024-08-09T14:18:27.940331Z"
    }
   },
   "cell_type": "code",
   "source": [
    "y_pred = pd.Series(\n",
    "    fitted_model.predict(X_test),\n",
    "    index = y_test.index\n",
    ")\n",
    "y_proba = pd.DataFrame(\n",
    "    fitted_model.predict_proba(X_test),\n",
    "    index = y_test.index,\n",
    "    columns = [0, 1]\n",
    ")"
   ],
   "id": "d9905f92fd553142",
   "outputs": [],
   "execution_count": 8
  },
  {
   "metadata": {
    "ExecuteTime": {
     "end_time": "2024-08-09T14:18:28.087127Z",
     "start_time": "2024-08-09T14:18:28.081926Z"
    }
   },
   "cell_type": "code",
   "source": [
    "from sklearn.metrics import classification_report\n",
    "\n",
    "print(classification_report(y_test['bin'], y_pred))"
   ],
   "id": "53d4b27163231ea0",
   "outputs": [
    {
     "name": "stdout",
     "output_type": "stream",
     "text": [
      "              precision    recall  f1-score   support\n",
      "\n",
      "           0       0.26      1.00      0.41        50\n",
      "           1       1.00      0.42      0.59       250\n",
      "\n",
      "    accuracy                           0.51       300\n",
      "   macro avg       0.63      0.71      0.50       300\n",
      "weighted avg       0.88      0.51      0.56       300\n",
      "\n"
     ]
    }
   ],
   "execution_count": 9
  },
  {
   "metadata": {
    "ExecuteTime": {
     "end_time": "2024-08-09T14:18:28.195249Z",
     "start_time": "2024-08-09T14:18:28.087836Z"
    }
   },
   "cell_type": "code",
   "source": [
    "from sklearn.metrics import roc_curve\n",
    "\n",
    "fpr, tpr, thres = roc_curve(y_test['bin'], y_proba[1])\n",
    "\n",
    "fig, ax = plt.subplots(figsize = (6, 4))\n",
    "ax.plot(fpr, tpr, label = 'Classification Hyper fit', lw = 1)\n",
    "ax.plot(\n",
    "    [0, 1], \n",
    "    [0, 1], \n",
    "    ls = ':', \n",
    "    color = 'lightgray', \n",
    "    alpha = 0.75, \n",
    "    lw = 1\n",
    ")\n",
    "for spine in ax.spines.values():\n",
    "    spine.set_visible(False)\n",
    "ax.grid(False)\n",
    "ax.yaxis.grid(True, ls = ':', alpha = 0.5) \n",
    "ax.legend()\n",
    "plt.title('Receiver Operating Characteristic')\n",
    "plt.show()"
   ],
   "id": "e40dcd556b60aa5e",
   "outputs": [
    {
     "data": {
      "text/plain": [
       "<Figure size 600x400 with 1 Axes>"
      ],
      "image/png": "[encoded data removed]"
     },
     "metadata": {},
     "output_type": "display_data"
    }
   ],
   "execution_count": 10
  }
 ],
 "metadata": {
  "kernelspec": {
   "display_name": "Python 3",
   "language": "python",
   "name": "python3"
  },
  "language_info": {
   "codemirror_mode": {
    "name": "ipython",
    "version": 2
   },
   "file_extension": ".py",
   "mimetype": "text/x-python",
   "name": "python",
   "nbconvert_exporter": "python",
   "pygments_lexer": "ipython2",
   "version": "2.7.6"
  }
 },
 "nbformat": 4,
 "nbformat_minor": 5
}
