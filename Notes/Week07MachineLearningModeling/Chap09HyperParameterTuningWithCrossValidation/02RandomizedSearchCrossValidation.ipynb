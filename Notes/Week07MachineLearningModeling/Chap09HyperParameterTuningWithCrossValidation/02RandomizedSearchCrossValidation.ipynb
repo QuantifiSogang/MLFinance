{
 "cells": [
  {
   "metadata": {},
   "cell_type": "markdown",
   "source": [
    "### Randomized Search Cross Validation\n",
    "\n",
    "많은 수의 parameter를 가진 Machine Learning Algorithm의 경우, Grid Search Cross Validation은 감당할 수 없는 계산량이 소요된다. 이 경우에 좋은 통계적 성질을 가진 대안은 각 parameter를 분포로부터 추출하는 것이다. 이 방법에는 두 가지 장점이 있다. 첫째, 문제이 차원에 상관없이 검색하고자 하는 조합의 개수를 통제할 수 있다. 둘째, 상대적으로 성과와 무관한 parameter를 가지고 있더라도 `GridSearchCV`의 경우처럼 검색 시간이 크게 늘지 않는다. 아래의 코드는 `RandomizedSearchCV`에 sample weights를 고려하도록 설계된 것이다."
   ],
   "id": "4a3ae0b38fc119d5"
  },
  {
   "cell_type": "code",
   "id": "initial_id",
   "metadata": {
    "collapsed": true,
    "ExecuteTime": {
     "end_time": "2024-08-09T14:19:22.485524Z",
     "start_time": "2024-08-09T14:19:22.483748Z"
    }
   },
   "source": [
    "import numpy as np\n",
    "import pandas as pd\n",
    "import matplotlib.pyplot as plt\n",
    "import seaborn as sns"
   ],
   "outputs": [],
   "execution_count": 1
  },
  {
   "metadata": {
    "ExecuteTime": {
     "end_time": "2024-08-09T14:19:22.591614Z",
     "start_time": "2024-08-09T14:19:22.487376Z"
    }
   },
   "cell_type": "code",
   "source": [
    "def get_test_data(\n",
    "        n_features : int = 40,\n",
    "        n_informative : int = 10,\n",
    "        n_redundant : int = 10,\n",
    "        n_samples : int = 10000,\n",
    "        random_state : int = 42,\n",
    "        sigma_std : float = 0.0\n",
    ") : \n",
    "    from sklearn.datasets import make_classification\n",
    "    \n",
    "    np.random.seed(random_state)\n",
    "    \n",
    "    trnsX, cont = make_classification(\n",
    "        n_samples = n_samples,\n",
    "        n_features = n_features,\n",
    "        n_informative = n_informative,\n",
    "        n_redundant = n_redundant,\n",
    "        random_state = random_state,\n",
    "        shuffle = False\n",
    "    )\n",
    "    \n",
    "    df0_index = pd.date_range(start = pd.to_datetime('today') - pd.to_timedelta(n_samples, unit = 'd'), \n",
    "                              periods = n_samples, freq = 'B')\n",
    "\n",
    "    trnsX, cont = pd.DataFrame(trnsX, index = df0_index), pd.Series(cont, index=df0_index).to_frame('bin')\n",
    "\n",
    "    df0 = ['I_' + str(i) for i in range(n_informative)] + ['R_' + str(i) for i in range(n_redundant)]\n",
    "    df0 += ['N_' + str(i) for i in range(n_features - len(df0))]\n",
    "    \n",
    "    trnsX.columns = df0\n",
    "    cont['w'] = 1. / cont.shape[0]\n",
    "    cont['t1'] = pd.Series(cont.index, index = cont.index)\n",
    "    \n",
    "    return trnsX, cont\n",
    "\n",
    "testing = False\n",
    "n_samples = 1000\n",
    "n_splits = 3\n",
    "\n",
    "trnsX, cont = get_test_data(\n",
    "    n_features = 20,\n",
    "    n_informative = 10,\n",
    "    n_redundant = 5,\n",
    "    n_samples = n_samples,\n",
    ")"
   ],
   "id": "642e91b138950738",
   "outputs": [],
   "execution_count": 2
  },
  {
   "metadata": {
    "ExecuteTime": {
     "end_time": "2024-08-09T14:19:22.597954Z",
     "start_time": "2024-08-09T14:19:22.592478Z"
    }
   },
   "cell_type": "code",
   "source": "cont.head()",
   "id": "41d6b93618e60613",
   "outputs": [
    {
     "data": {
      "text/plain": [
       "                            bin      w                         t1\n",
       "2021-11-15 23:19:22.586201    0  0.001 2021-11-15 23:19:22.586201\n",
       "2021-11-16 23:19:22.586201    0  0.001 2021-11-16 23:19:22.586201\n",
       "2021-11-17 23:19:22.586201    0  0.001 2021-11-17 23:19:22.586201\n",
       "2021-11-18 23:19:22.586201    0  0.001 2021-11-18 23:19:22.586201\n",
       "2021-11-19 23:19:22.586201    0  0.001 2021-11-19 23:19:22.586201"
      ],
      "text/html": [
       "<div>\n",
       "<style scoped>\n",
       "    .dataframe tbody tr th:only-of-type {\n",
       "        vertical-align: middle;\n",
       "    }\n",
       "\n",
       "    .dataframe tbody tr th {\n",
       "        vertical-align: top;\n",
       "    }\n",
       "\n",
       "    .dataframe thead th {\n",
       "        text-align: right;\n",
       "    }\n",
       "</style>\n",
       "<table border=\"1\" class=\"dataframe\">\n",
       "  <thead>\n",
       "    <tr style=\"text-align: right;\">\n",
       "      <th></th>\n",
       "      <th>bin</th>\n",
       "      <th>w</th>\n",
       "      <th>t1</th>\n",
       "    </tr>\n",
       "  </thead>\n",
       "  <tbody>\n",
       "    <tr>\n",
       "      <th>2021-11-15 23:19:22.586201</th>\n",
       "      <td>0</td>\n",
       "      <td>0.001</td>\n",
       "      <td>2021-11-15 23:19:22.586201</td>\n",
       "    </tr>\n",
       "    <tr>\n",
       "      <th>2021-11-16 23:19:22.586201</th>\n",
       "      <td>0</td>\n",
       "      <td>0.001</td>\n",
       "      <td>2021-11-16 23:19:22.586201</td>\n",
       "    </tr>\n",
       "    <tr>\n",
       "      <th>2021-11-17 23:19:22.586201</th>\n",
       "      <td>0</td>\n",
       "      <td>0.001</td>\n",
       "      <td>2021-11-17 23:19:22.586201</td>\n",
       "    </tr>\n",
       "    <tr>\n",
       "      <th>2021-11-18 23:19:22.586201</th>\n",
       "      <td>0</td>\n",
       "      <td>0.001</td>\n",
       "      <td>2021-11-18 23:19:22.586201</td>\n",
       "    </tr>\n",
       "    <tr>\n",
       "      <th>2021-11-19 23:19:22.586201</th>\n",
       "      <td>0</td>\n",
       "      <td>0.001</td>\n",
       "      <td>2021-11-19 23:19:22.586201</td>\n",
       "    </tr>\n",
       "  </tbody>\n",
       "</table>\n",
       "</div>"
      ]
     },
     "execution_count": 3,
     "metadata": {},
     "output_type": "execute_result"
    }
   ],
   "execution_count": 3
  },
  {
   "metadata": {
    "ExecuteTime": {
     "end_time": "2024-08-09T14:19:22.716615Z",
     "start_time": "2024-08-09T14:19:22.598645Z"
    }
   },
   "cell_type": "code",
   "source": [
    "from sklearn.svm import SVC\n",
    "from FinancialMachineLearning.cross_validation.cross_validation import clf_hyper_fit\n",
    "from sklearn.model_selection import train_test_split\n",
    "\n",
    "X_train, X_test, y_train, y_test = train_test_split(\n",
    "    trnsX, \n",
    "    cont, \n",
    "    test_size = 0.3, \n",
    "    shuffle = False\n",
    ")"
   ],
   "id": "704f4e38e76b6220",
   "outputs": [],
   "execution_count": 4
  },
  {
   "metadata": {
    "ExecuteTime": {
     "end_time": "2024-08-09T14:19:22.721224Z",
     "start_time": "2024-08-09T14:19:22.718001Z"
    }
   },
   "cell_type": "code",
   "source": [
    "from sklearn.ensemble import BaggingClassifier\n",
    "from FinancialMachineLearning.cross_validation.cross_validation import FMLPipeline\n",
    "\n",
    "base_estimator = SVC(\n",
    "    random_state = 42, \n",
    "    probability = True\n",
    ")\n",
    "\n",
    "pipe_clf = FMLPipeline(\n",
    "    [\n",
    "        (\n",
    "            'clf', \n",
    "            BaggingClassifier(\n",
    "                estimator = base_estimator, \n",
    "                random_state = 42\n",
    "            )\n",
    "        )\n",
    "    ]\n",
    ")\n",
    "\n",
    "param_grid = {\n",
    "    'clf__n_estimators': [10, 50, 100],\n",
    "    'clf__max_samples': [0.5, 0.7, 1.0],\n",
    "    'clf__max_features': [0.5, 0.7, 1.0],\n",
    "    'clf__estimator__C': [0.1, 1, 10],\n",
    "    'clf__estimator__kernel': ['linear', 'rbf'],\n",
    "}"
   ],
   "id": "394c0aed53e0bf36",
   "outputs": [],
   "execution_count": 5
  },
  {
   "metadata": {
    "ExecuteTime": {
     "end_time": "2024-08-09T14:19:23.800276Z",
     "start_time": "2024-08-09T14:19:22.721984Z"
    }
   },
   "cell_type": "code",
   "source": [
    "samples_info_sets = y_train['t1']\n",
    "\n",
    "fitted_model = clf_hyper_fit(\n",
    "    feat = X_train,\n",
    "    label = y_train['bin'],\n",
    "    samples_info_sets = samples_info_sets,\n",
    "    pipe_clf = pipe_clf,\n",
    "    param_grid = param_grid,\n",
    "    cv = 3, \n",
    "    bagging = [0, None, 1],\n",
    "    random_search_iterator = 1,\n",
    "    n_jobs = 8,\n",
    "    pct_embargo = 0.01\n",
    ")"
   ],
   "id": "97e5516d15207051",
   "outputs": [],
   "execution_count": 6
  },
  {
   "metadata": {
    "ExecuteTime": {
     "end_time": "2024-08-09T14:19:23.807743Z",
     "start_time": "2024-08-09T14:19:23.801231Z"
    }
   },
   "cell_type": "code",
   "source": "fitted_model",
   "id": "7dae6952e86931d5",
   "outputs": [
    {
     "data": {
      "text/plain": [
       "FMLPipeline(steps=[('clf',\n",
       "                    BaggingClassifier(estimator=SVC(C=1, probability=True,\n",
       "                                                    random_state=42),\n",
       "                                      max_samples=0.7, random_state=42))])"
      ],
      "text/html": [
       "<style>#sk-container-id-1 {color: black;background-color: white;}#sk-container-id-1 pre{padding: 0;}#sk-container-id-1 div.sk-toggleable {background-color: white;}#sk-container-id-1 label.sk-toggleable__label {cursor: pointer;display: block;width: 100%;margin-bottom: 0;padding: 0.3em;box-sizing: border-box;text-align: center;}#sk-container-id-1 label.sk-toggleable__label-arrow:before {content: \"▸\";float: left;margin-right: 0.25em;color: #696969;}#sk-container-id-1 label.sk-toggleable__label-arrow:hover:before {color: black;}#sk-container-id-1 div.sk-estimator:hover label.sk-toggleable__label-arrow:before {color: black;}#sk-container-id-1 div.sk-toggleable__content {max-height: 0;max-width: 0;overflow: hidden;text-align: left;background-color: #f0f8ff;}#sk-container-id-1 div.sk-toggleable__content pre {margin: 0.2em;color: black;border-radius: 0.25em;background-color: #f0f8ff;}#sk-container-id-1 input.sk-toggleable__control:checked~div.sk-toggleable__content {max-height: 200px;max-width: 100%;overflow: auto;}#sk-container-id-1 input.sk-toggleable__control:checked~label.sk-toggleable__label-arrow:before {content: \"▾\";}#sk-container-id-1 div.sk-estimator input.sk-toggleable__control:checked~label.sk-toggleable__label {background-color: #d4ebff;}#sk-container-id-1 div.sk-label input.sk-toggleable__control:checked~label.sk-toggleable__label {background-color: #d4ebff;}#sk-container-id-1 input.sk-hidden--visually {border: 0;clip: rect(1px 1px 1px 1px);clip: rect(1px, 1px, 1px, 1px);height: 1px;margin: -1px;overflow: hidden;padding: 0;position: absolute;width: 1px;}#sk-container-id-1 div.sk-estimator {font-family: monospace;background-color: #f0f8ff;border: 1px dotted black;border-radius: 0.25em;box-sizing: border-box;margin-bottom: 0.5em;}#sk-container-id-1 div.sk-estimator:hover {background-color: #d4ebff;}#sk-container-id-1 div.sk-parallel-item::after {content: \"\";width: 100%;border-bottom: 1px solid gray;flex-grow: 1;}#sk-container-id-1 div.sk-label:hover label.sk-toggleable__label {background-color: #d4ebff;}#sk-container-id-1 div.sk-serial::before {content: \"\";position: absolute;border-left: 1px solid gray;box-sizing: border-box;top: 0;bottom: 0;left: 50%;z-index: 0;}#sk-container-id-1 div.sk-serial {display: flex;flex-direction: column;align-items: center;background-color: white;padding-right: 0.2em;padding-left: 0.2em;position: relative;}#sk-container-id-1 div.sk-item {position: relative;z-index: 1;}#sk-container-id-1 div.sk-parallel {display: flex;align-items: stretch;justify-content: center;background-color: white;position: relative;}#sk-container-id-1 div.sk-item::before, #sk-container-id-1 div.sk-parallel-item::before {content: \"\";position: absolute;border-left: 1px solid gray;box-sizing: border-box;top: 0;bottom: 0;left: 50%;z-index: -1;}#sk-container-id-1 div.sk-parallel-item {display: flex;flex-direction: column;z-index: 1;position: relative;background-color: white;}#sk-container-id-1 div.sk-parallel-item:first-child::after {align-self: flex-end;width: 50%;}#sk-container-id-1 div.sk-parallel-item:last-child::after {align-self: flex-start;width: 50%;}#sk-container-id-1 div.sk-parallel-item:only-child::after {width: 0;}#sk-container-id-1 div.sk-dashed-wrapped {border: 1px dashed gray;margin: 0 0.4em 0.5em 0.4em;box-sizing: border-box;padding-bottom: 0.4em;background-color: white;}#sk-container-id-1 div.sk-label label {font-family: monospace;font-weight: bold;display: inline-block;line-height: 1.2em;}#sk-container-id-1 div.sk-label-container {text-align: center;}#sk-container-id-1 div.sk-container {/* jupyter's `normalize.less` sets `[hidden] { display: none; }` but bootstrap.min.css set `[hidden] { display: none !important; }` so we also need the `!important` here to be able to override the default hidden behavior on the sphinx rendered scikit-learn.org. See: https://github.com/scikit-learn/scikit-learn/issues/21755 */display: inline-block !important;position: relative;}#sk-container-id-1 div.sk-text-repr-fallback {display: none;}</style><div id=\"sk-container-id-1\" class=\"sk-top-container\"><div class=\"sk-text-repr-fallback\"><pre>FMLPipeline(steps=[(&#x27;clf&#x27;,\n",
       "                    BaggingClassifier(estimator=SVC(C=1, probability=True,\n",
       "                                                    random_state=42),\n",
       "                                      max_samples=0.7, random_state=42))])</pre><b>In a Jupyter environment, please rerun this cell to show the HTML representation or trust the notebook. <br />On GitHub, the HTML representation is unable to render, please try loading this page with nbviewer.org.</b></div><div class=\"sk-container\" hidden><div class=\"sk-item sk-dashed-wrapped\"><div class=\"sk-label-container\"><div class=\"sk-label sk-toggleable\"><input class=\"sk-toggleable__control sk-hidden--visually\" id=\"sk-estimator-id-1\" type=\"checkbox\" ><label for=\"sk-estimator-id-1\" class=\"sk-toggleable__label sk-toggleable__label-arrow\">FMLPipeline</label><div class=\"sk-toggleable__content\"><pre>FMLPipeline(steps=[(&#x27;clf&#x27;,\n",
       "                    BaggingClassifier(estimator=SVC(C=1, probability=True,\n",
       "                                                    random_state=42),\n",
       "                                      max_samples=0.7, random_state=42))])</pre></div></div></div><div class=\"sk-serial\"><div class=\"sk-item sk-dashed-wrapped\"><div class=\"sk-label-container\"><div class=\"sk-label sk-toggleable\"><input class=\"sk-toggleable__control sk-hidden--visually\" id=\"sk-estimator-id-2\" type=\"checkbox\" ><label for=\"sk-estimator-id-2\" class=\"sk-toggleable__label sk-toggleable__label-arrow\">clf: BaggingClassifier</label><div class=\"sk-toggleable__content\"><pre>BaggingClassifier(estimator=SVC(C=1, probability=True, random_state=42),\n",
       "                  max_samples=0.7, random_state=42)</pre></div></div></div><div class=\"sk-parallel\"><div class=\"sk-parallel-item\"><div class=\"sk-item\"><div class=\"sk-label-container\"><div class=\"sk-label sk-toggleable\"><input class=\"sk-toggleable__control sk-hidden--visually\" id=\"sk-estimator-id-3\" type=\"checkbox\" ><label for=\"sk-estimator-id-3\" class=\"sk-toggleable__label sk-toggleable__label-arrow\">estimator: SVC</label><div class=\"sk-toggleable__content\"><pre>SVC(C=1, probability=True, random_state=42)</pre></div></div></div><div class=\"sk-serial\"><div class=\"sk-item\"><div class=\"sk-estimator sk-toggleable\"><input class=\"sk-toggleable__control sk-hidden--visually\" id=\"sk-estimator-id-4\" type=\"checkbox\" ><label for=\"sk-estimator-id-4\" class=\"sk-toggleable__label sk-toggleable__label-arrow\">SVC</label><div class=\"sk-toggleable__content\"><pre>SVC(C=1, probability=True, random_state=42)</pre></div></div></div></div></div></div></div></div></div></div></div></div>"
      ]
     },
     "execution_count": 7,
     "metadata": {},
     "output_type": "execute_result"
    }
   ],
   "execution_count": 7
  },
  {
   "metadata": {
    "ExecuteTime": {
     "end_time": "2024-08-09T14:19:23.841891Z",
     "start_time": "2024-08-09T14:19:23.808444Z"
    }
   },
   "cell_type": "code",
   "source": [
    "y_pred = pd.Series(\n",
    "    fitted_model.predict(X_test),\n",
    "    index = y_test.index\n",
    ")\n",
    "y_proba = pd.DataFrame(\n",
    "    fitted_model.predict_proba(X_test),\n",
    "    index = y_test.index,\n",
    "    columns = [0, 1]\n",
    ")"
   ],
   "id": "7831f3250447cd01",
   "outputs": [],
   "execution_count": 8
  },
  {
   "metadata": {
    "ExecuteTime": {
     "end_time": "2024-08-09T14:19:23.848184Z",
     "start_time": "2024-08-09T14:19:23.842661Z"
    }
   },
   "cell_type": "code",
   "source": [
    "from sklearn.metrics import classification_report\n",
    "\n",
    "print(classification_report(y_test['bin'], y_pred))"
   ],
   "id": "f1af52cee11b901f",
   "outputs": [
    {
     "name": "stdout",
     "output_type": "stream",
     "text": [
      "              precision    recall  f1-score   support\n",
      "\n",
      "           0       0.23      1.00      0.38        50\n",
      "           1       1.00      0.35      0.52       250\n",
      "\n",
      "    accuracy                           0.46       300\n",
      "   macro avg       0.62      0.67      0.45       300\n",
      "weighted avg       0.87      0.46      0.49       300\n",
      "\n"
     ]
    }
   ],
   "execution_count": 9
  },
  {
   "metadata": {
    "ExecuteTime": {
     "end_time": "2024-08-09T14:19:23.939929Z",
     "start_time": "2024-08-09T14:19:23.848948Z"
    }
   },
   "cell_type": "code",
   "source": [
    "from sklearn.metrics import roc_curve\n",
    "\n",
    "fpr, tpr, thres = roc_curve(y_test['bin'], y_proba[1])\n",
    "\n",
    "fig, ax = plt.subplots(figsize = (6, 4))\n",
    "ax.plot(fpr, tpr, label = 'Classification Hyper fit', lw = 1)\n",
    "ax.plot(\n",
    "    [0, 1], \n",
    "    [0, 1], \n",
    "    ls = ':', \n",
    "    color = 'lightgray', \n",
    "    alpha = 0.75, \n",
    "    lw = 1\n",
    ")\n",
    "for spine in ax.spines.values():\n",
    "    spine.set_visible(False)\n",
    "ax.grid(False)\n",
    "ax.yaxis.grid(True, ls = ':', alpha = 0.5) \n",
    "ax.legend()\n",
    "plt.title('Receiver Operating Characteristic')\n",
    "plt.show()"
   ],
   "id": "1a34254b5d3743a7",
   "outputs": [
    {
     "data": {
      "text/plain": [
       "<Figure size 600x400 with 1 Axes>"
      ],
      "image/png": "[encoded data removed]"
     },
     "metadata": {},
     "output_type": "display_data"
    }
   ],
   "execution_count": 10
  },
  {
   "metadata": {},
   "cell_type": "markdown",
   "source": [
    "#### 1. Log Uniform Distribution\n",
    "\n",
    "일부 머신러닝 알고리즘은 흔히 음수가 아닌 Hyper Parameter만 허용한다. 이는 일부 아주 유명한 parameter에도 해당되는데, 예를 들어 `SVC` 분류기의 C나 RBF 커널의 `gamma`와 같은 경우이다. 0에서부터 적당히 큰 수, 예컨대 100정도 되는 사이에 균등 분포의 랜덤 수를 발생시킬 수 있다. 이 경우 99%의 발생된 수가 1보다 더 클 것으로 예상된다. 함수의 반응이 선형이 아닌 parameter의 실현 가능 영역을 탐색하는 데 가장 좋은 방법이 되지 못할 수 있다. 예를 들어, `SVC`에 있어 C의 반응은 0.01에서 1 사이의 증가나 1부터 100사이의 증가와 비슷할 수 있다. 그러므로, $U(0, 100)$ 분포로부터 C를 추출하는 것은 비효율적일 수 있다. 이런 경우에는 추출의 log 값이 균등한 분포로부터 값을 추출하는 것이 좀 더 효율적이다. Prado 교수는 이를 'Log Uniform Distribution'이라고 부르는데, 문헌 어디에도 해당하는 용어를 찾을 수 없다. 이제 이를 적절히 정의할 필요가 있다.\n",
    "\n",
    "Random variable $x$는 오로지 $\\log(x) \\sim U[\\log(a), \\log(b)]$일 경우에만 $a > 0$와 $b > a$사이에서 로그 균등 분포를 따른다. 이 분포는 다음의 누적 분포 함수를 가진다.\n",
    "\n",
    "$$F[x] = \n",
    "\\begin{cases}\n",
    "\\frac{\\log(x) - \\log(a)}{\\log(b) - \\log(a)} &\\text{ for } a \\leq x \\leq b \\\\\n",
    "0 &\\text{ for } x \\leq a \\\\\n",
    "1 &\\text{ for } x \\leq b\n",
    "\\end{cases}\n",
    "$$\n",
    "\n",
    "이로부터 확률 분포 함수를 도출할 수 있다.\n",
    "\n",
    "$$\n",
    "f[x] = \n",
    "\\begin{cases}\n",
    "\\frac{1}{x\\log \\left[\\frac{b}{a} \\right]} &\\text{ for } a \\leq x \\leq b \\\\\n",
    "0 &\\text{ for } x \\leq a \\\\\n",
    "0 &\\text{ for } x \\leq b\n",
    "\\end{cases}\n",
    "$$\n",
    "\n",
    "CDF는 로그의 및과는 무관하다는 점에 주목하자. 모든 $c$에 대해 $\\frac{\\log(x) - \\log(a)}{\\log(b) - \\log(a)} = \\frac{\\log_c(x) - \\log_c(a)}{\\log_c(b) - \\log_c(a)}$이므로 랜덤 변수는 $c$의 함수가 아니다. 아래의 코드는 $[a, b] = [0.001, 1000]$일 때 랜덤 변수를 `scipy.stats`에서 구현한다. 그러므로 $\\log(x) \\sim U[\\log(0.001), \\log(1000)]$이다. 아래의 그림은 log scale에서의 표본의 균등성을 보여 준다."
   ],
   "id": "8785b5a61c4d9779"
  },
  {
   "metadata": {
    "ExecuteTime": {
     "end_time": "2024-08-09T14:19:24.385924Z",
     "start_time": "2024-08-09T14:19:23.944731Z"
    }
   },
   "cell_type": "code",
   "source": [
    "from scipy.stats import rv_continuous, kstest\n",
    "from FinancialMachineLearning.cross_validation.cross_validation import log_uniform\n",
    "\n",
    "a, b, size = 1e-3, 1e3, 1000\n",
    "vals = log_uniform(a = a, b = b).rvs(size = size)\n",
    "print(kstest(\n",
    "    rvs = np.log(vals), \n",
    "    cdf = 'uniform', \n",
    "    args = (np.log(a), np.log(b / a)), \n",
    "    N = size\n",
    "))\n",
    "print(pd.Series(vals).describe())"
   ],
   "id": "bf073458ecff9150",
   "outputs": [
    {
     "name": "stdout",
     "output_type": "stream",
     "text": [
      "KstestResult(statistic=0.0286421921595143, pvalue=0.3777532646024503, statistic_location=-2.477919687873558, statistic_sign=-1)\n",
      "count    1000.000000\n",
      "mean       72.928889\n",
      "std       179.628058\n",
      "min         0.001007\n",
      "25%         0.039642\n",
      "50%         1.181274\n",
      "75%        26.806219\n",
      "max       969.265847\n",
      "dtype: float64\n"
     ]
    }
   ],
   "execution_count": 11
  },
  {
   "metadata": {
    "ExecuteTime": {
     "end_time": "2024-08-09T14:19:24.511060Z",
     "start_time": "2024-08-09T14:19:24.386531Z"
    }
   },
   "cell_type": "code",
   "source": [
    "plt.figure(figsize=(10, 5))\n",
    "\n",
    "plt.subplot(121)\n",
    "pd.Series(np.log(vals)).hist(\n",
    "    edgecolor = 'none',\n",
    "    alpha = 0.65\n",
    ")\n",
    "plt.grid(False)\n",
    "plt.title('Log Uniform Distribution (Log scale)')\n",
    "\n",
    "plt.subplot(122)\n",
    "pd.Series(vals).hist(\n",
    "    edgecolor = 'none',\n",
    "    alpha = 0.65\n",
    ")\n",
    "plt.grid(False)\n",
    "plt.title('Log Uniform Distribution')\n",
    "\n",
    "plt.show()"
   ],
   "id": "2647830c4287fdde",
   "outputs": [
    {
     "data": {
      "text/plain": [
       "<Figure size 1000x500 with 2 Axes>"
      ],
      "image/png": "[encoded data removed]"
     },
     "metadata": {},
     "output_type": "display_data"
    }
   ],
   "execution_count": 12
  },
  {
   "metadata": {},
   "cell_type": "markdown",
   "source": "### Scoring and Hyper-Parameter Tuning",
   "id": "d0096f2d31adf592"
  },
  {
   "metadata": {
    "ExecuteTime": {
     "end_time": "2024-08-09T14:19:24.513105Z",
     "start_time": "2024-08-09T14:19:24.511802Z"
    }
   },
   "cell_type": "code",
   "source": "",
   "id": "31bd24d2475814ab",
   "outputs": [],
   "execution_count": 12
  }
 ],
 "metadata": {
  "kernelspec": {
   "display_name": "Python 3",
   "language": "python",
   "name": "python3"
  },
  "language_info": {
   "codemirror_mode": {
    "name": "ipython",
    "version": 2
   },
   "file_extension": ".py",
   "mimetype": "text/x-python",
   "name": "python",
   "nbconvert_exporter": "python",
   "pygments_lexer": "ipython2",
   "version": "2.7.6"
  }
 },
 "nbformat": 4,
 "nbformat_minor": 5
}
