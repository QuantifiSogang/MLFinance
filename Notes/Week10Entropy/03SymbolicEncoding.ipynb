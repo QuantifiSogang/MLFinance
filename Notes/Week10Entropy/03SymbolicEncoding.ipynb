{
 "cells": [
  {
   "metadata": {},
   "cell_type": "markdown",
   "source": "### Symbolic Encoding",
   "id": "3e0b09703c62e65e"
  },
  {
   "cell_type": "code",
   "id": "initial_id",
   "metadata": {
    "collapsed": true,
    "ExecuteTime": {
     "end_time": "2024-06-24T07:12:44.743292Z",
     "start_time": "2024-06-24T07:12:42.905476Z"
    }
   },
   "source": [
    "import numpy as np\n",
    "import pandas as pd\n",
    "import matplotlib.pyplot as plt\n",
    "import seaborn as sns\n",
    "import yfinance as yf\n",
    "from FinancialMachineLearning.features.encoding import *\n",
    "\n",
    "data = yf.download(\n",
    "    'SPY', \n",
    "    start = '2000-01-01', \n",
    "    end = pd.to_datetime('today'),\n",
    "    interval = '1d',\n",
    "    progress = False\n",
    ")"
   ],
   "outputs": [],
   "execution_count": 1
  },
  {
   "metadata": {},
   "cell_type": "code",
   "outputs": [],
   "execution_count": null,
   "source": [
    "def sigma_mapping(array: list, step: float = 0.01) -> dict:\n",
    "    i = 0\n",
    "    ascii_table = _get_ascii_table()\n",
    "    encoding_dict = {}\n",
    "    encoding_steps = np.arange(min(array), max(array), step)\n",
    "    for element in encoding_steps:\n",
    "        try:\n",
    "            encoding_dict[element] = ascii_table[i]\n",
    "        except IndexError:\n",
    "            raise ValueError(\n",
    "                'Length of dictionary ceil((max(arr) - min(arr)) / step = {} is more than ASCII table lenght)'.format(\n",
    "                    len(encoding_steps)))\n",
    "        i += 1\n",
    "    return encoding_dict"
   ],
   "id": "148265efd26ec821"
  },
  {
   "metadata": {
    "ExecuteTime": {
     "end_time": "2024-06-24T07:16:32.242057Z",
     "start_time": "2024-06-24T07:16:32.236066Z"
    }
   },
   "cell_type": "code",
   "source": "data['return'] = data['Adj Close'].pct_change()",
   "id": "54f6db0b590439d8",
   "outputs": [],
   "execution_count": 9
  },
  {
   "metadata": {
    "ExecuteTime": {
     "end_time": "2024-06-24T07:17:36.764926Z",
     "start_time": "2024-06-24T07:17:36.753144Z"
    }
   },
   "cell_type": "code",
   "source": [
    "data.loc[data['return'] > 0, 'bin'] = 1\n",
    "data.loc[data['return'] < 0, 'bin'] = 0"
   ],
   "id": "aba66f6ddefbee48",
   "outputs": [],
   "execution_count": 13
  },
  {
   "metadata": {},
   "cell_type": "code",
   "outputs": [],
   "execution_count": null,
   "source": "",
   "id": "ef80ee43208bbdbe"
  }
 ],
 "metadata": {
  "kernelspec": {
   "display_name": "Python 3",
   "language": "python",
   "name": "python3"
  },
  "language_info": {
   "codemirror_mode": {
    "name": "ipython",
    "version": 2
   },
   "file_extension": ".py",
   "mimetype": "text/x-python",
   "name": "python",
   "nbconvert_exporter": "python",
   "pygments_lexer": "ipython2",
   "version": "2.7.6"
  }
 },
 "nbformat": 4,
 "nbformat_minor": 5
}
