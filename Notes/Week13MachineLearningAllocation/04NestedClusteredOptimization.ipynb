{
 "cells": [
  {
   "metadata": {},
   "cell_type": "markdown",
   "source": [
    "### Nested Clustered Optimization\n",
    "\n",
    "Nested Clustered Optimization은 wrapper라고 알려진 알고리즘의 종류에 속한다. 어떤 효율적 경계의 구성 원소가 계산되는지 여부나 어떤 제약 조건들이 부과되는지 여부에 대래서 무관하다. NCO는 마코위츠의 저주가 기존의 평균-분산 배분 방법에 미치는 영향을 해결하기 위한 전략을 제공한다."
   ],
   "id": "eaf27f1e712bb668"
  },
  {
   "metadata": {},
   "cell_type": "markdown",
   "source": [
    "#### 상관 군집화\n",
    "\n",
    "NCO알고리즘의 첫 번째 단계는 상관 행렬을 군집화하는 것이다. 이 작업에는 최적의 군집 수를 찾는 작업이 포함된다. 한가지 가능성은 ONC알고리즘을 적용하는 것이지만, NCO는 군집 수를 결정하는 데 사용되는 어떤 알고리즘이 사용되는가에 대해서 무관하다. $\\frac{T}{N}$이 상대적으로 낮은 큰 행렬의 경우 Dimension Reduction에서 설명한 방법에 따라 군집화 전에 상관 행렬의 잡음을 제거하는 것이 바람직하다. 아래의 코드는 이 절차를 구현한다. "
   ],
   "id": "9a38c48bbdb70eb3"
  },
  {
   "cell_type": "code",
   "execution_count": null,
   "id": "initial_id",
   "metadata": {
    "collapsed": true
   },
   "outputs": [],
   "source": [
    ""
   ]
  },
  {
   "metadata": {},
   "cell_type": "markdown",
   "source": [
    "#### 군집 내 비중\n",
    "\n",
    "NCO알고리즘의 두 번째 단계는 잡음이 제거된 공분산 행렬을 사용해 최적의 군집 내 배분을 계산하는 것이다. 아래의 코드는 이 절차를 구현한다. 단순성을 위해 배분 방법은 최소 분산 배분을 보여주나, 이 절차는 다른 대체적인 배분 방법의 사용도 허용한다. 추정된 군집 내 가중치를 사용해 군집 간 상관관계를 나타내는 축약된 공분산 행렬을 도출할 수 있다."
   ],
   "id": "11c2a9fcfa831c6c"
  },
  {
   "metadata": {},
   "cell_type": "code",
   "outputs": [],
   "execution_count": null,
   "source": "",
   "id": "3acc5caf54bbfb0f"
  },
  {
   "metadata": {},
   "cell_type": "markdown",
   "source": [
    "#### 군집 간 비중\n",
    "\n",
    "NCO 알고리즘의 세 번째 단계는 축약된 공분산 행렬을 사용해 최적의 군집 간 배분을 계산하는 것이다. 구성상 이 공분산 행렬은 대각 행렬에 가깝고, 최적화 문제는 이상적인 Markowitz 사례에 가깝다. 즉 군집화와 군집 내 최적화 단계를 통해 Markowitz-cursed 문제를 올바르게 작동하는 문제로 전환할 수 있다. 아래의 코드는 이 절차를 구현한다. 군집 내 배분 단계에서 사용된 것과 동일한 배분 절차를 적용한다. 증권당 최종 배분은 Dataframe에 의해 표현되며, 이는 군집 내 비중과 군집 간 비중을 곱한 결과로 나타난다."
   ],
   "id": "80ecdb322351af8d"
  },
  {
   "metadata": {},
   "cell_type": "code",
   "outputs": [],
   "execution_count": null,
   "source": "",
   "id": "454acf391153743f"
  }
 ],
 "metadata": {
  "kernelspec": {
   "display_name": "Python 3",
   "language": "python",
   "name": "python3"
  },
  "language_info": {
   "codemirror_mode": {
    "name": "ipython",
    "version": 2
   },
   "file_extension": ".py",
   "mimetype": "text/x-python",
   "name": "python",
   "nbconvert_exporter": "python",
   "pygments_lexer": "ipython2",
   "version": "2.7.6"
  }
 },
 "nbformat": 4,
 "nbformat_minor": 5
}
