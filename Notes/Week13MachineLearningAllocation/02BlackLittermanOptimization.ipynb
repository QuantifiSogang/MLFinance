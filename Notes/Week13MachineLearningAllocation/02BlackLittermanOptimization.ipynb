{
 "cells": [
  {
   "metadata": {},
   "cell_type": "markdown",
   "source": "### Black Litterman Optimization",
   "id": "d0cfdedac8c051f"
  },
  {
   "metadata": {
    "ExecuteTime": {
     "end_time": "2024-07-31T14:06:34.730084Z",
     "start_time": "2024-07-31T14:06:32.452093Z"
    }
   },
   "cell_type": "code",
   "source": [
    "import numpy as np\n",
    "import pandas as pd\n",
    "import matplotlib.pyplot as plt\n",
    "import seaborn as sns\n",
    "from pypfopt import risk_models, expected_returns, BlackLittermanModel, EfficientFrontier\n",
    "import yfinance as yf\n",
    "\n",
    "TICKERS = ['AAPL','GOOGL','XOM','WMT','V','NVDA','JPM','F']\n",
    "START_DATE = '2010-01-01'\n",
    "END_DATE = pd.to_datetime('today')\n",
    "\n",
    "data = yf.download(\n",
    "    TICKERS, \n",
    "    start = START_DATE, \n",
    "    end = END_DATE,\n",
    "    progress = False,\n",
    "    interval = '1d'\n",
    ")['Close']"
   ],
   "id": "fb7229d0e6fae76f",
   "outputs": [],
   "execution_count": 42
  },
  {
   "metadata": {
    "ExecuteTime": {
     "end_time": "2024-07-31T14:06:41.566702Z",
     "start_time": "2024-07-31T14:06:41.061304Z"
    }
   },
   "cell_type": "code",
   "source": [
    "spx = yf.download(\n",
    "    \"^GSPC\", \n",
    "    start = START_DATE, \n",
    "    end = END_DATE,\n",
    "    progress = False,\n",
    "    interval = '1d'\n",
    ")['Close']"
   ],
   "id": "4ade7182dcc4d697",
   "outputs": [],
   "execution_count": 43
  },
  {
   "metadata": {
    "ExecuteTime": {
     "end_time": "2024-07-31T14:06:43.228082Z",
     "start_time": "2024-07-31T14:06:41.568205Z"
    }
   },
   "cell_type": "code",
   "source": [
    "market_cap = pd.Series(index = data.columns)\n",
    "\n",
    "for asset in data.columns :\n",
    "    stock = yf.Ticker(asset)\n",
    "    mc = stock.info.get('marketCap')\n",
    "    market_cap.loc[asset] = mc"
   ],
   "id": "bd27349384048262",
   "outputs": [],
   "execution_count": 44
  },
  {
   "metadata": {
    "ExecuteTime": {
     "end_time": "2024-07-31T14:06:43.249231Z",
     "start_time": "2024-07-31T14:06:43.232180Z"
    }
   },
   "cell_type": "code",
   "source": [
    "market_weights = market_cap / market_cap.sum()\n",
    "mu_market = spx.pct_change().mean() * 252\n",
    "sigma_market = spx.pct_change().std() * np.sqrt(252)"
   ],
   "id": "9dff4f850cc76f27",
   "outputs": [],
   "execution_count": 45
  },
  {
   "metadata": {
    "ExecuteTime": {
     "end_time": "2024-07-31T14:06:43.255659Z",
     "start_time": "2024-07-31T14:06:43.250971Z"
    }
   },
   "cell_type": "code",
   "source": [
    "rf = 0.0525\n",
    "sharpe_ratio = (mu_market - rf) / sigma_market"
   ],
   "id": "e5387756b198e7f3",
   "outputs": [],
   "execution_count": 46
  },
  {
   "metadata": {
    "ExecuteTime": {
     "end_time": "2024-07-31T14:06:43.262916Z",
     "start_time": "2024-07-31T14:06:43.259443Z"
    }
   },
   "cell_type": "code",
   "source": [
    "delta = sharpe_ratio / sigma_market\n",
    "tau = 0.05"
   ],
   "id": "14f720a41cd6e372",
   "outputs": [],
   "execution_count": 47
  },
  {
   "metadata": {
    "ExecuteTime": {
     "end_time": "2024-07-31T14:06:43.269775Z",
     "start_time": "2024-07-31T14:06:43.265003Z"
    }
   },
   "cell_type": "code",
   "source": [
    "viewdict = {\n",
    "    'AAPL' : 0.2,\n",
    "    'GOOGL' : 0.1,\n",
    "    'JPM' : 0.1,\n",
    "    'NVDA' : 0.3\n",
    "}"
   ],
   "id": "3f13abfdae0c8db6",
   "outputs": [],
   "execution_count": 48
  },
  {
   "metadata": {
    "ExecuteTime": {
     "end_time": "2024-07-31T14:06:44.563021Z",
     "start_time": "2024-07-31T14:06:44.548042Z"
    }
   },
   "cell_type": "code",
   "source": [
    "model = BlackLittermanModel(\n",
    "    cov_matrix = data.pct_change().cov(), \n",
    "    pi = \"market\", \n",
    "    market_caps = market_cap,\n",
    "    absolute_views = viewdict,\n",
    "    delta = delta,\n",
    "    tau = tau\n",
    ")"
   ],
   "id": "c97deecd713aa437",
   "outputs": [],
   "execution_count": 49
  },
  {
   "metadata": {
    "ExecuteTime": {
     "end_time": "2024-07-31T14:06:44.823262Z",
     "start_time": "2024-07-31T14:06:44.817749Z"
    }
   },
   "cell_type": "code",
   "source": [
    "bl_returns = model.bl_returns()\n",
    "bl_cov = model.bl_cov()"
   ],
   "id": "87720c043a22e6e0",
   "outputs": [],
   "execution_count": 50
  },
  {
   "metadata": {
    "ExecuteTime": {
     "end_time": "2024-07-31T14:06:45.130220Z",
     "start_time": "2024-07-31T14:06:45.125457Z"
    }
   },
   "cell_type": "code",
   "source": [
    "ef = EfficientFrontier(bl_returns, bl_cov)\n",
    "ef.add_constraint(lambda w: w >= 0)"
   ],
   "id": "708d334dcfb937a8",
   "outputs": [],
   "execution_count": 51
  },
  {
   "metadata": {
    "ExecuteTime": {
     "end_time": "2024-07-31T14:06:45.529461Z",
     "start_time": "2024-07-31T14:06:45.512514Z"
    }
   },
   "cell_type": "code",
   "source": [
    "max_sharpe_weight = ef.max_sharpe()\n",
    "cleaned_weights = ef.clean_weights()"
   ],
   "id": "bee934a3f9166639",
   "outputs": [],
   "execution_count": 52
  },
  {
   "metadata": {
    "ExecuteTime": {
     "end_time": "2024-07-31T14:09:42.309950Z",
     "start_time": "2024-07-31T14:09:42.162197Z"
    }
   },
   "cell_type": "code",
   "source": [
    "fig, ax = plt.subplots(figsize = (8, 5))\n",
    "plt.bar(\n",
    "    cleaned_weights.keys(),\n",
    "    cleaned_weights.values()\n",
    ")\n",
    "for spine in ax.spines.values():\n",
    "    spine.set_visible(False)\n",
    "ax.grid(False)\n",
    "ax.yaxis.grid(True, ls = ':', alpha = 0.5) \n",
    "plt.title('Black Litterman Optimization')\n",
    "plt.show()"
   ],
   "id": "5273ea7b4e4e5dac",
   "outputs": [
    {
     "data": {
      "text/plain": [
       "<Figure size 800x500 with 1 Axes>"
      ],
      "image/png": "[encoded data removed]"
     },
     "metadata": {},
     "output_type": "display_data"
    }
   ],
   "execution_count": 57
  },
  {
   "metadata": {
    "ExecuteTime": {
     "end_time": "2024-07-31T14:10:48.715511Z",
     "start_time": "2024-07-31T14:10:48.698466Z"
    }
   },
   "cell_type": "code",
   "source": "ef.portfolio_performance(verbose=True)",
   "id": "1d009317ec1faa6d",
   "outputs": [
    {
     "name": "stdout",
     "output_type": "stream",
     "text": [
      "Expected annual return: 14.5%\n",
      "Annual volatility: 1.8%\n",
      "Sharpe Ratio: 6.79\n"
     ]
    },
    {
     "data": {
      "text/plain": [
       "(0.14457411977271972, 0.018334692020328797, 6.79444844967108)"
      ]
     },
     "execution_count": 58,
     "metadata": {},
     "output_type": "execute_result"
    }
   ],
   "execution_count": 58
  }
 ],
 "metadata": {
  "kernelspec": {
   "display_name": "Python 3",
   "language": "python",
   "name": "python3"
  },
  "language_info": {
   "codemirror_mode": {
    "name": "ipython",
    "version": 2
   },
   "file_extension": ".py",
   "mimetype": "text/x-python",
   "name": "python",
   "nbconvert_exporter": "python",
   "pygments_lexer": "ipython2",
   "version": "2.7.6"
  }
 },
 "nbformat": 4,
 "nbformat_minor": 5
}
