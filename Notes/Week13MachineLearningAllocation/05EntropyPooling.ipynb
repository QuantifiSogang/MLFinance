{
 "cells": [
  {
   "metadata": {},
   "cell_type": "markdown",
   "source": "### Entropy Pooling",
   "id": "2d948e18f8206ae6"
  },
  {
   "metadata": {
    "ExecuteTime": {
     "end_time": "2024-08-03T14:04:24.459834Z",
     "start_time": "2024-08-03T14:04:24.441050Z"
    }
   },
   "cell_type": "code",
   "source": [
    "import numpy as np\n",
    "import pandas as pd\n",
    "import yfinance as yf\n",
    "import seaborn as sns\n",
    "from scipy.optimize import minimize, Bounds\n",
    "from typing import Tuple\n",
    "\n",
    "def EntropyPooling(\n",
    "        p: pd.Series, \n",
    "        A: pd.DataFrame, \n",
    "        b: pd.Series\n",
    ") -> pd.Series:\n",
    "    len_p = len(p)\n",
    "    lhs = A\n",
    "    rhs = b\n",
    "    bounds = Bounds([-np.inf] * len_p, [np.inf] * len_p)  # Multipliers can be negative\n",
    "    \n",
    "    log_p = np.log(p.values + 1e-10)  # Avoid log(0) error\n",
    "    dual_solution = minimize(\n",
    "        dual_objective,\n",
    "        x0=np.zeros(lhs.shape[0]),  # Initial guess for the multipliers\n",
    "        args=(log_p, lhs.values, rhs.values),\n",
    "        method='TNC',\n",
    "        jac=True,\n",
    "        bounds=bounds,\n",
    "        options={'maxfun': 10000, 'disp': True}\n",
    "    )\n",
    "    q_values = np.exp(log_p - 1 - lhs.T @ dual_solution.x)\n",
    "    \n",
    "    # Ensure the output is a pandas Series correctly formatted\n",
    "    return pd.Series(q_values, index=p.index)\n",
    "\n",
    "\n",
    "def dual_objective(\n",
    "        lagrange_multipliers: np.ndarray, \n",
    "        log_p: np.ndarray, \n",
    "        lhs: np.ndarray, \n",
    "        rhs: np.ndarray\n",
    ") -> Tuple[float, np.ndarray]:\n",
    "    \"\"\"Corrected dual objective function to ensure it returns a scalar for the objective.\"\"\"\n",
    "    # Lagrange multipliers should be 2D for matrix operations\n",
    "    lagrange_multipliers = lagrange_multipliers[:, np.newaxis]\n",
    "    \n",
    "    # Calculate x and its logarithm using the current lagrange multipliers\n",
    "    log_x = log_p - 1 - (lhs.T @ lagrange_multipliers).flatten()\n",
    "    x = np.exp(log_x)\n",
    "    \n",
    "    # Compute the gradient of the dual objective\n",
    "    gradient = (rhs - lhs @ x).flatten()\n",
    "    \n",
    "    # Compute the dual objective function value\n",
    "    objective = x.T @ (log_x - log_p) - (lagrange_multipliers.flatten().T @ gradient)\n",
    "    \n",
    "    return -objective.item(), -gradient"
   ],
   "id": "20aeabe4b4541713",
   "outputs": [],
   "execution_count": 112
  },
  {
   "metadata": {
    "ExecuteTime": {
     "end_time": "2024-08-03T14:04:26.080422Z",
     "start_time": "2024-08-03T14:04:25.869958Z"
    }
   },
   "cell_type": "code",
   "source": [
    "TICKERS = ['SPY','VTV','GLD','USO','CPER','IJH','IJR']\n",
    "START = '2015-01-01'\n",
    "END = '2022-12-31'\n",
    "\n",
    "data = yf.download(\n",
    "    TICKERS,\n",
    "    start = START,\n",
    "    end = END,\n",
    "    progress = False,\n",
    "    interval = '1d'\n",
    ")['Close']"
   ],
   "id": "85f99209c4884f55",
   "outputs": [],
   "execution_count": 113
  },
  {
   "metadata": {
    "ExecuteTime": {
     "end_time": "2024-08-03T14:04:26.145245Z",
     "start_time": "2024-08-03T14:04:26.135579Z"
    }
   },
   "cell_type": "code",
   "source": "ret = data.pct_change().dropna()",
   "id": "c5b82aa6d67d7b1b",
   "outputs": [],
   "execution_count": 114
  },
  {
   "metadata": {
    "ExecuteTime": {
     "end_time": "2024-08-03T14:04:27.077985Z",
     "start_time": "2024-08-03T14:04:26.624008Z"
    }
   },
   "cell_type": "code",
   "source": "sns.clustermap(ret.corr(), figsize = (6, 6))",
   "id": "498f749cd0be5ed5",
   "outputs": [
    {
     "data": {
      "text/plain": [
       "<seaborn.matrix.ClusterGrid at 0x7f8049b418a0>"
      ]
     },
     "execution_count": 115,
     "metadata": {},
     "output_type": "execute_result"
    },
    {
     "data": {
      "text/plain": [
       "<Figure size 600x600 with 4 Axes>"
      ],
      "image/png": "[encoded data removed]"
     },
     "metadata": {},
     "output_type": "display_data"
    }
   ],
   "execution_count": 115
  },
  {
   "metadata": {
    "ExecuteTime": {
     "end_time": "2024-08-03T14:05:26.964679Z",
     "start_time": "2024-08-03T14:05:26.910411Z"
    }
   },
   "cell_type": "code",
   "source": [
    "p = pd.Series(np.ones(len(TICKERS)) / len(TICKERS), index=ret.columns)\n",
    "\n",
    "# Define the constraints A (identity matrix, for weights summing to 1) and b (vector of ones)\n",
    "A = pd.DataFrame(np.eye(len(TICKERS)), index=ret.columns, columns=ret.columns)\n",
    "b = pd.Series(np.ones(len(TICKERS)), index=ret.columns)\n",
    "\n",
    "final_optimal_weights = EntropyPooling(p, A, b)\n",
    "final_optimal_weights"
   ],
   "id": "a7783d3441d411c5",
   "outputs": [
    {
     "name": "stderr",
     "output_type": "stream",
     "text": [
      "  NIT   NF   F                       GTG\n",
      "    0    1  3.678794414289580E-01   6.28357473E+00\n",
      "    0   54  3.678794414289580E-01   6.28357473E+00\n",
      "tnc: Linear search failed\n"
     ]
    },
    {
     "data": {
      "text/plain": [
       "Ticker\n",
       "CPER    0.052554\n",
       "GLD     0.052554\n",
       "IJH     0.052554\n",
       "IJR     0.052554\n",
       "SPY     0.052554\n",
       "USO     0.052554\n",
       "VTV     0.052554\n",
       "dtype: float64"
      ]
     },
     "execution_count": 116,
     "metadata": {},
     "output_type": "execute_result"
    }
   ],
   "execution_count": 116
  },
  {
   "metadata": {},
   "cell_type": "code",
   "execution_count": null,
   "source": "",
   "id": "d923fb874cb923dc",
   "outputs": []
  }
 ],
 "metadata": {
  "kernelspec": {
   "display_name": "Python 3",
   "language": "python",
   "name": "python3"
  },
  "language_info": {
   "codemirror_mode": {
    "name": "ipython",
    "version": 2
   },
   "file_extension": ".py",
   "mimetype": "text/x-python",
   "name": "python",
   "nbconvert_exporter": "python",
   "pygments_lexer": "ipython2",
   "version": "2.7.6"
  }
 },
 "nbformat": 4,
 "nbformat_minor": 5
}
