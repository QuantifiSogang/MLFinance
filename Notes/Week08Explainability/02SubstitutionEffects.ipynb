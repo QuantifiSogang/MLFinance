{
 "cells": [
  {
   "metadata": {},
   "cell_type": "markdown",
   "source": [
    "## Substitution Effect\n",
    "\n",
    "대체 효과는 두 가지 특성이 예측 정보를 공유할 때 발생한다. 대체 효과는 feature importance 방법의 결과를 편향시킬 수 있다. MDI의 경우 동일한 두 특성이 동일한 확률로 무작위로 선택되기 때문에 그들의 중요도는 반감될 것이다. MDA의 경우 한 가지 특성을 셔플링하는 효과가 다른 효과에 의해 보상될 수 있기 때문에 동일한 두 가지 특성이 중요하더라도 중요하지 않은 것으로 간주될 수 있다."
   ],
   "id": "aa86b6cf7f61cc83"
  },
  {
   "metadata": {
    "ExecuteTime": {
     "end_time": "2024-05-25T16:37:29.017672Z",
     "start_time": "2024-05-25T16:37:29.014809Z"
    }
   },
   "cell_type": "code",
   "source": [
    "import pandas as pd\n",
    "import numpy as np\n",
    "\n",
    "def get_test_data(\n",
    "        n_features : int = 40,\n",
    "        n_informative : int = 10,\n",
    "        n_redundant : int = 10,\n",
    "        n_samples : int = 10000,\n",
    "        random_state : int = 42,\n",
    "        sigma_std : float = 0.0\n",
    ") : \n",
    "    from sklearn.datasets import make_classification\n",
    "    \n",
    "    np.random.seed(random_state)\n",
    "    \n",
    "    trnsX, cont = make_classification(\n",
    "        n_samples = n_samples,\n",
    "        n_features = n_features,\n",
    "        n_informative = n_informative,\n",
    "        n_redundant = n_redundant,\n",
    "        random_state = random_state,\n",
    "        shuffle = False\n",
    "    )\n",
    "    \n",
    "    df0_index = pd.date_range(start = pd.to_datetime('today') - pd.to_timedelta(n_samples, unit = 'd'), \n",
    "                              periods = n_samples, freq = 'B')\n",
    "\n",
    "    trnsX, cont = pd.DataFrame(trnsX, index = df0_index), pd.Series(cont, index=df0_index).to_frame('bin')\n",
    "\n",
    "    df0 = ['I_' + str(i) for i in range(n_informative)] + ['R_' + str(i) for i in range(n_redundant)]\n",
    "    df0 += ['N_' + str(i) for i in range(n_features - len(df0))]\n",
    "    \n",
    "    trnsX.columns = df0\n",
    "    cont['w'] = 1. / cont.shape[0]\n",
    "    cont['t1'] = pd.Series(cont.index, index = cont.index)\n",
    "    \n",
    "    return trnsX, cont"
   ],
   "id": "695f9203e7ad8b58",
   "outputs": [],
   "execution_count": 1
  },
  {
   "metadata": {
    "ExecuteTime": {
     "end_time": "2024-05-25T16:37:34.100924Z",
     "start_time": "2024-05-25T16:37:34.008699Z"
    }
   },
   "cell_type": "code",
   "source": [
    "trnsX, cont = get_test_data(\n",
    "    n_features = 20, \n",
    "    n_informative = 5, \n",
    "    n_redundant = 5, \n",
    "    n_samples = 1000\n",
    ")"
   ],
   "id": "210fab1450c2c6f8",
   "outputs": [],
   "execution_count": 2
  },
  {
   "metadata": {},
   "cell_type": "markdown",
   "source": [
    "### Clustered Feature Importance\n",
    "\n",
    "기저 변경이 필요하지 않은 더 나은 접근 방식은 유사한 특성을 군집화하고 군집 수준에서 특성 중요도 분석을 적용하는 것이다. 구성상 군집은 서로 달라서 substitution effect를 완화시키기 때문이다. 분석은 기저의 변경 없이 특성의 분할에 대해 행해지기 때문에 결과는 보통 직관적이다. Clustered Feature Importance 알고리즘에는 다음의 두 단계가 포함된다.\n",
    "\n",
    "1. 특성 군집의 수와 구성 요소를 찾는다\n",
    "2. 개별 특성보다는 유사한 특성의 그룹에 대해 특성 중요도 분석을 적용한다"
   ],
   "id": "4453c205c5176a72"
  },
  {
   "metadata": {},
   "cell_type": "markdown",
   "source": "#### Clustered Mean Decrease Importance",
   "id": "872ef74de352be75"
  },
  {
   "cell_type": "code",
   "execution_count": null,
   "id": "initial_id",
   "metadata": {
    "collapsed": true
   },
   "outputs": [],
   "source": [
    "from sklearn.ensemble import RandomForestClassifier\n",
    "\n",
    "from sklearn.metrics import accuracy_score\n",
    "from FinancialMachineLearning.feature_importance import *\n",
    "\n",
    "forest = RandomForestClassifier(\n",
    "    criterion = 'entropy',\n",
    "    class_weight = 'balanced_subsample',\n",
    "    min_weight_fraction_leaf = 0.0,\n",
    "    random_state = 42,\n",
    "    n_estimators = 1000,\n",
    "    max_features = 1,\n",
    "    oob_score = True,\n",
    "    n_jobs = 1\n",
    ")\n",
    "\n",
    "fit = forest.fit(X = trnsX, y = cont['bin'])\n",
    "oob_score = fit.oob_score_"
   ]
  },
  {
   "metadata": {},
   "cell_type": "markdown",
   "source": "#### Clustered Mean Decrease Accuracy",
   "id": "ab46cb4a3d3dc511"
  },
  {
   "metadata": {},
   "cell_type": "code",
   "outputs": [],
   "execution_count": null,
   "source": "",
   "id": "9705ee80ef47c119"
  }
 ],
 "metadata": {
  "kernelspec": {
   "display_name": "Python 3",
   "language": "python",
   "name": "python3"
  },
  "language_info": {
   "codemirror_mode": {
    "name": "ipython",
    "version": 2
   },
   "file_extension": ".py",
   "mimetype": "text/x-python",
   "name": "python",
   "nbconvert_exporter": "python",
   "pygments_lexer": "ipython2",
   "version": "2.7.6"
  }
 },
 "nbformat": 4,
 "nbformat_minor": 5
}
