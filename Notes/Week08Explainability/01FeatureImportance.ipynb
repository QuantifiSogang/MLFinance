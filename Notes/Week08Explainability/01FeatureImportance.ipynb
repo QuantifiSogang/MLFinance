{
 "cells": [
  {
   "metadata": {},
   "cell_type": "markdown",
   "source": [
    "### Feature Importance with substitution effects\n",
    "\n",
    "feature importance를 추정하는 방법들이 substitution effect에 의해 영향을 받았는지 여부에 따라 서로 구분해 두는 것이 유용하다. 이 맥락에서는 추정된 feature importance가 다른 연관된 특성의 존재로 감소할 경우 대체 효과가 발생된다. Machine Learning에서 substitution effect란 통계학이나 계량경제학의 맥락에서 Multicollinearity라 부르는 것과 유사하다. linear substitution effect를 다루는 한 가지 방법은 original feature에 PCA를 적용한 후, 직교한 특성들에 대해 feature importance 분석을 수행하는 것이다."
   ],
   "id": "eafe82c749f9ec4b"
  },
  {
   "metadata": {},
   "cell_type": "markdown",
   "source": [
    "#### $p-\\mathrm{value}$\n",
    "\n",
    "고전적 회귀 분석 framework는 올바른 모델 사양, 상호 상관없는 회귀 분석기 또는 백색 잡음 잔차 등, 적합화된 모델에 관한 여러가지 가정을 한다. 그러한 가정이 사실이라는 것을 전제로, 연구자들은 가설 검정을 통해 설명 변수의 중요도를 결정하고자 노력해 왔다. 변수의 중요도와 설명력을 표현하는 일반적인 방법은 1700년대에 제안된 개념인 p-value가 있다\n",
    "\n",
    "$$p-\\mathrm{value} = \\frac{\\hat{p} - p_0}{\\sqrt{\\frac{p_0(1-p_0)}{n}}}$$\n",
    "\n",
    "p-value는 해당 변수와 관련된 실제 계수가 0일 떄 우리가 추정했던 것과 같거나 더 극단적인 결과를 얻었을 확률을 계량화한다. 이는 데이터가 설정된 통계 모형과 얼마나 일치하지 않는지를 나타낸다. 그러나, p-value는 귀무가설이나 대립가설이 참이 아니거나 데이터가 랜덤일 확률을 측정하지 않는다. 또한, p-value의 오용은 매우 광범위하게 퍼져 있을 뿐만 아니라, 지난 수십년간의 금융 연구에서의 신뢰도 문제를 불러일으킨다\n",
    "\n",
    "실제로 p-value의 가장 큰 담점은, 그 값의 근거가 매우 강력한 가정에 의존한다는 것이다. 그러한 가정들이 하나라도 빗나갈 때, false positive와 false negative로 나타날 가능성이 높아진다. 이러한 이유 때문에, 2019년 미국 통계협회에서는 통계적 유의성의 척도로서 p-value의 적용을 권장하고 있지 않다(Wasserstein et al. 2019)\n",
    "\n",
    "p-value의 두 번째 단점은 높은 multicollinearity를 가지고 있는 변수들에 대해서 p-value를 강건하게 추정할 수 없다는 것이다. 다중공선성이 존재하는 상황에서 전통적 회귀 분석 방법은 중복된 정보를 구별할 수 없으므로, p-value간의 대체효과가 발생해 실제 값보다 부풀려지는 결과가 나올 수 있다\n",
    "\n",
    "p-value의 세 번째 단점은 완전히 관련이 없는 확률을 평가한다는 것이다. 귀무가설 $H_0$와 추정된 계수 $\\hat{\\beta}$이 주어졌을 때, p-value는 $H_0$이 참인 경우 $\\hat{\\beta}$과 같거나 극단적인 결과를 얻을 확률을 추정한다. 그러나, 연구자들은 종종 다른 확률, 즉 $\\hat{\\beta}$을 관찰했을 때 $H_0$이 참일 확률에 더 관심이 있다. 이 확률은 Bayes theorem을 이용해 계산할 수 있으며, 주변분포에 대해 가정을 해야 구할 수 있다.\n",
    "\n",
    "p-value의 네 번째 결함은 샘플의 유의성을 평가한다는 것이다. 전체 샘플은 계수 추정과 유의성 결정이라는 두 가지 과제를 해결하는데 사용된다. 따라서, p-value는 샘플 외 설명값이 없는 변수에 대해 낮을 수 있다. 동일한 데이터셋에 대해 여러 번의 샘플 내 테스트를 진행하면 잘못된 발견을 할 가능성이 높아지며, 이는 통계적 사기이다\n",
    "\n",
    "요약하자면, p-value는 필요 이상의 너무 많은 가정을 요구하기 때문에 변수가 여러개인 모형에는 알맞지 않으며, 유의성을 추정하기에도 적절치 않은 값이다. 아래 예를 통해 p-value가 어떻게 정보를 희석시키는지 알아보도록 한다"
   ],
   "id": "8016b3292cd69786"
  },
  {
   "metadata": {},
   "cell_type": "markdown",
   "source": [
    "다음 함수는 informative, redundant, noise feature를 생성하는 함수이다. 각각의 feature는 다음과 같은 특징을 갖는다\n",
    "\n",
    "1. informative : label 예측에 있어서 실질적으로 가장 고유하고 독립적인 정보를 제공하는 feature\n",
    "2. redundant : label 예측에 있어서 중요한 정보를 제공하긴 하지만, feature간 다중공선성이 존재하는 feature\n",
    "3. noise : label 예측에 있어서 거의 아무런 영향을 주지 않는 feature"
   ],
   "id": "f25651916a2f0454"
  },
  {
   "cell_type": "code",
   "id": "initial_id",
   "metadata": {
    "collapsed": true,
    "ExecuteTime": {
     "end_time": "2024-05-21T12:54:58.765509Z",
     "start_time": "2024-05-21T12:54:58.761103Z"
    }
   },
   "source": [
    "import pandas as pd\n",
    "import numpy as np\n",
    "\n",
    "def get_test_data(\n",
    "        n_features : int = 40,\n",
    "        n_informative : int = 10,\n",
    "        n_redundant : int = 10,\n",
    "        n_samples : int = 10000,\n",
    "        random_state : int = 42,\n",
    "        sigma_std : float = 0.0\n",
    ") : \n",
    "    from sklearn.datasets import make_classification\n",
    "    \n",
    "    np.random.seed(random_state)\n",
    "    \n",
    "    trnsX, cont = make_classification(\n",
    "        n_samples = n_samples,\n",
    "        n_features = n_features,\n",
    "        n_informative = n_informative,\n",
    "        n_redundant = n_redundant,\n",
    "        random_state = random_state,\n",
    "        shuffle = False\n",
    "    )\n",
    "    \n",
    "    df0_index = pd.date_range(start = pd.to_datetime('today') - pd.to_timedelta(n_samples, unit = 'd'), \n",
    "                              periods = n_samples, freq = 'B')\n",
    "\n",
    "    trnsX, cont = pd.DataFrame(trnsX, index = df0_index), pd.Series(cont, index=df0_index).to_frame('bin')\n",
    "\n",
    "    df0 = ['I_' + str(i) for i in range(n_informative)] + ['R_' + str(i) for i in range(n_redundant)]\n",
    "    df0 += ['N_' + str(i) for i in range(n_features - len(df0))]\n",
    "    \n",
    "    trnsX.columns = df0\n",
    "    cont['w'] = 1. / cont.shape[0]\n",
    "    cont['t1'] = pd.Series(cont.index, index = cont.index)\n",
    "    \n",
    "    return trnsX, cont"
   ],
   "outputs": [],
   "execution_count": 1
  },
  {
   "metadata": {},
   "cell_type": "markdown",
   "source": "전체 feature는 20개, informative는 5개, redundant feature는 5개로 지정한다. noise는 자동적으로 10개가 된다. 관측치의 수는 1000개로 generating한다",
   "id": "83765f3832281958"
  },
  {
   "metadata": {
    "ExecuteTime": {
     "end_time": "2024-05-21T12:54:58.906455Z",
     "start_time": "2024-05-21T12:54:58.777596Z"
    }
   },
   "cell_type": "code",
   "source": [
    "trnsX, cont = get_test_data(\n",
    "    n_features = 20, \n",
    "    n_informative = 5, \n",
    "    n_redundant = 5, \n",
    "    n_samples = 1000\n",
    ")"
   ],
   "id": "b2599415f2565fc0",
   "outputs": [],
   "execution_count": 2
  },
  {
   "metadata": {
    "ExecuteTime": {
     "end_time": "2024-05-21T12:54:59.107096Z",
     "start_time": "2024-05-21T12:54:58.907303Z"
    }
   },
   "cell_type": "code",
   "source": [
    "import statsmodels.api as sm\n",
    "import warnings\n",
    "warnings.filterwarnings('ignore')\n",
    "\n",
    "ols = sm.Logit(cont['bin'], trnsX).fit()"
   ],
   "id": "3f7b406fdf202f7",
   "outputs": [
    {
     "name": "stdout",
     "output_type": "stream",
     "text": [
      "Warning: Maximum number of iterations has been exceeded.\n",
      "         Current function value: 0.438438\n",
      "         Iterations: 35\n"
     ]
    }
   ],
   "execution_count": 3
  },
  {
   "metadata": {
    "ExecuteTime": {
     "end_time": "2024-05-21T12:54:59.264138Z",
     "start_time": "2024-05-21T12:54:59.122177Z"
    }
   },
   "cell_type": "code",
   "source": [
    "import matplotlib.pyplot as plt\n",
    "\n",
    "plt.figure(figsize = (10, 4))\n",
    "plt.barh(\n",
    "    ols.pvalues.sort_values(ascending = True).index, \n",
    "    ols.pvalues.sort_values(ascending = True), \n",
    "    color = 'b', alpha = 0.25, height = 0.5\n",
    ")\n",
    "plt.axvline(0.05, ls = ':', color = 'r')\n",
    "plt.grid(False)\n",
    "plt.title('p-values')\n",
    "plt.show()"
   ],
   "id": "7cf1c46c037fb824",
   "outputs": [
    {
     "data": {
      "text/plain": [
       "<Figure size 1000x400 with 1 Axes>"
      ],
      "image/png": "[encoded data removed]"
     },
     "metadata": {},
     "output_type": "display_data"
    }
   ],
   "execution_count": 4
  },
  {
   "metadata": {},
   "cell_type": "markdown",
   "source": "불행히도 금융 데이터셋은 시장, 섹터, 등급, 가치, 모멘텀, 이익의 질, 기간 등 투자 환경의 많은 부분에서 공유하는 공통 risk factor의 결과로서 고도로 multicollinearity인 경우가 많다. 이런 상황에서 금융 연구자들은 p-value에만 의존하는 것을 중단해야 한다. 금융 연구자들은 특정 현상에 어떤 변수가 정보를 담고 있는지 판단하기 위한 추가 방법을 숙지하는 것이 중요하다",
   "id": "834711d51ef8c4bb"
  },
  {
   "metadata": {},
   "cell_type": "markdown",
   "source": [
    "#### Mean Decrease Importance\n",
    "\n",
    "F개의 특성과 관찰당 하나의 레이블로 구성된 크기 N개의 학습 샘플을 갖고 있다고 가정하자. Tree Model을 기반으로 하는 분류/회귀 알고리즘은 각 노트 $t$에서 label을 2개의 샘플로 분할한다. 주어진 feature $X_f$에 대해 임의의 threshold $\\tau$이하의 $X_f$와 연관된 노드 $t$의 label은 왼쪽 샘플에 배치하고, 나머지는 오른쪽 샘플에 배치한다. 이를 분기라고 하며, Tree를 기반으로 하는 Random Forest, XG Boost, Cat Boost등 대부분의 Ensemble Model이 이러한 분기의 과정을 거친다\n",
    "\n",
    "각 샘플에 대해 label값의 분포의 Entropy, Gini impurity 혹은 이외의 기준을 따라서 불순도를 평가할 수 있다. 직관적으로, 샘플은 한 종류의 label만을 담았을 때 가장 순수하며, label이 균등 분포를 따를 때 가장 impurity가 높다고 할 수 있다. 분할에 의해 얻을 수 있는 정보 이득은 아래와 같이 불순도의 감소로 측정된다\n",
    "\n",
    "$$\\Delta g(t, f) = i(t) - \\frac{N_t^{(0)}}{N_t}i(t^{(0)}) - \\frac{N_t^{(1)}}{N_t}i(t^{(1)})$$\n",
    "\n",
    "여기서 $i(t)$는 노드 $t$에서의 label의 불순도이고, $i(t^{(0)})$는 왼쪽으로 분기된 샘플의 불순도, $i(t^{(1)})$은 오른쪽으로 분기된 샘플의 불순도이다\n",
    "\n",
    "각 노드 $t$에서 분류모형은 $\\{X_f\\}_{1, \\dots, F}$의 다양한 feature에 대해 $\\Delta g(t, f)$를 평가하고, 이들 각각에 대해 $\\Delta g(t, f)$를 최대화하는 최적 임계값 $t$를 결정하고, 최대 $\\Delta g(t, f)$와 연관된 특성을 선택한다. 분류 알고리즘은 더 이상의 Information Gain(정보 이득)이 발생하지 않거나 최대 허용 한도 미만으로 불순도를 달성하는 등의 조기 종료 조건이 충족될 때까지 샘플을 분기한다\n",
    "\n",
    "Feature Importance는 특성이 선택된 모든 노드에서 Weighted Information Gain(가중 정보 이득)으로 계산할 수 있다. Mean Decrease Impurity는 특성이 얼마나 불순도를 줄여주는데 기여를 하는지 보여주는 지표이며, 모든 특성의 중요도의 합은 1로 계산된다. 동등한 정보를 가진 feature가 $F$개 있으면 각 feature의 중요도는 $\\frac{1}{F}$일 것으로 기대된다.\n",
    "\n",
    "MDI로 작업할 때에는 명심해야 할 몇 가지 사항이 있다.\n",
    "\n",
    "1. tree 기반 분류기가 특정 특성을 선호해 다른 특성을 체계적으로 무시하는 일이 발생하면 mask 효과가 발생한다. 이를 극복하기 위해서는 `sklearn`의 `RandomForestClassifier`를 사용할 때 `max_features = 1`로 설정해야 한다. 이런 방식을 사용해 레벨별로 오직 하나의 랜덤 특만 고려하도록 한다.\n",
    "    - 모든 feature에 대해 불순도를 줄일 수 있는 기회를 준다\n",
    "    - 중요도가 0인 특성들은 평균 계산에 포함시키지 말아야 한다. 0인 유일한 이유는 특성이 랜덤으로 선택되지 않았기 때문이다. 이런 값들은 `numpy.nan`등으로 대체해야 한다.\n",
    "2. 절차는 명백히 샘플 내(In sample)이다. 모든 특성은 비록 예측력이 없는 경우에도 어느 정도 중요도를 가진다\n",
    "3. MDI는 트리 기반이 아닌 다른 분류기로 일반화되지 않는다\n",
    "4. 구조상 MDI는 feature importance의 합이 1이 되고, 모든 feature의 중요도는 0과 1 사이의 값을 갖는 좋은 특성을 갖고 있다.\n",
    "5. 이 방법은 상관된 특성이 존재할 때는 대체 효과를 해결하지 못한다. MDI는 대체 특성의 중요도를 희석시키는데, 그 이유는 대체 가능성 때문이다. 또한 동일한 두 가지 특성의 중요도는 반으로 감소되는데, 둘 다 동일한 확률로 랜덤하게 선택될 수 있기 때문이다\n",
    "6. Strobl 등(2007)은 실험적으로 MDI가 어떤 예측 변수에 의해 편향되는지 보였다. White & Liu(1994)는 단일 Decision Tree의 경우 이 편향은 유명한 불순도 함수가 많은 범주를 가진 예측 변수 쪽으로 공평하지 않고 유리하게 작용했기 때문이라고 주장했다.\n",
    "\n",
    "sklearn에서 Random Forest와 같은 앙상블 모형은 다음과 같은 방법으로 MDI feature importance를 추정하는 method가 기본적으로 탑재되어 있다\n",
    "\n",
    "```\n",
    "importances = forest.feature_importances_\n",
    "std = np.std([tree.feature_importances_ for tree in forest.estimators_], axis=0)\n",
    "```\n",
    "\n",
    "importance 추정치는 계량경제학 모형의 beta (coefficient) 추정치와 대응되며, std는 변수의 t-distribution을 추정하는 것과 유사하다. 즉, feature importance는 하나의 parameter로 작용 가능하다\n",
    "\n",
    "한편, 우리는 시계열 모형에 대해서 다루므로, 다음과 같이 시간적 정보의 중복을 제거한 feature importance를 사용하도록 한다"
   ],
   "id": "204804979e924031"
  },
  {
   "metadata": {
    "ExecuteTime": {
     "end_time": "2024-05-21T12:55:00.690770Z",
     "start_time": "2024-05-21T12:54:59.275481Z"
    }
   },
   "cell_type": "code",
   "source": [
    "from sklearn.ensemble import RandomForestClassifier\n",
    "\n",
    "from sklearn.metrics import accuracy_score\n",
    "from FinancialMachineLearning.feature_importance import *\n",
    "\n",
    "forest = RandomForestClassifier(\n",
    "    criterion = 'entropy',\n",
    "    class_weight = 'balanced_subsample',\n",
    "    min_weight_fraction_leaf = 0.0,\n",
    "    random_state = 42,\n",
    "    n_estimators = 1000,\n",
    "    max_features = 1,\n",
    "    oob_score = True,\n",
    "    n_jobs = 1\n",
    ")\n",
    "\n",
    "fit = forest.fit(X = trnsX, y = cont['bin'])\n",
    "oob_score = fit.oob_score_"
   ],
   "id": "46ff206af6eeba8f",
   "outputs": [],
   "execution_count": 5
  },
  {
   "metadata": {
    "ExecuteTime": {
     "end_time": "2024-05-21T12:55:00.695817Z",
     "start_time": "2024-05-21T12:55:00.691734Z"
    }
   },
   "cell_type": "code",
   "source": [
    "from FinancialMachineLearning.cross_validation.cross_validation import PurgedKFold, cross_val_score\n",
    "cv_gen = PurgedKFold(\n",
    "    n_splits = 5, \n",
    "    samples_info_sets = cont['t1']\n",
    ")"
   ],
   "id": "91f8d989d2801423",
   "outputs": [],
   "execution_count": 6
  },
  {
   "metadata": {
    "ExecuteTime": {
     "end_time": "2024-05-21T12:55:06.261609Z",
     "start_time": "2024-05-21T12:55:00.696518Z"
    }
   },
   "cell_type": "code",
   "source": [
    "oos_score = cross_val_score(\n",
    "    forest, # base classifier\n",
    "    trnsX, # train features\n",
    "    cont['bin'], # train labels\n",
    "    cv_gen = cv_gen, # purged k fold cross validation class\n",
    "    scoring = accuracy_score # optimizing to accuracy score\n",
    ").mean()"
   ],
   "id": "7aabdcbb5da01031",
   "outputs": [],
   "execution_count": 7
  },
  {
   "metadata": {
    "ExecuteTime": {
     "end_time": "2024-05-21T12:55:06.281316Z",
     "start_time": "2024-05-21T12:55:06.262392Z"
    }
   },
   "cell_type": "code",
   "source": [
    "from FinancialMachineLearning.feature_importance.importance import *\n",
    "mdi = mean_decrease_impurity(fit, trnsX.columns)"
   ],
   "id": "dfa583016fd3885e",
   "outputs": [],
   "execution_count": 8
  },
  {
   "metadata": {
    "ExecuteTime": {
     "end_time": "2024-05-21T12:55:06.286221Z",
     "start_time": "2024-05-21T12:55:06.281998Z"
    }
   },
   "cell_type": "code",
   "source": "mdi.head()",
   "id": "dc407ab67e8b81c6",
   "outputs": [
    {
     "data": {
      "text/plain": [
       "         mean       std\n",
       "I_0  0.109207  0.003650\n",
       "I_1  0.042993  0.000928\n",
       "I_2  0.044925  0.001045\n",
       "I_3  0.078004  0.002632\n",
       "I_4  0.055393  0.001253"
      ],
      "text/html": [
       "<div>\n",
       "<style scoped>\n",
       "    .dataframe tbody tr th:only-of-type {\n",
       "        vertical-align: middle;\n",
       "    }\n",
       "\n",
       "    .dataframe tbody tr th {\n",
       "        vertical-align: top;\n",
       "    }\n",
       "\n",
       "    .dataframe thead th {\n",
       "        text-align: right;\n",
       "    }\n",
       "</style>\n",
       "<table border=\"1\" class=\"dataframe\">\n",
       "  <thead>\n",
       "    <tr style=\"text-align: right;\">\n",
       "      <th></th>\n",
       "      <th>mean</th>\n",
       "      <th>std</th>\n",
       "    </tr>\n",
       "  </thead>\n",
       "  <tbody>\n",
       "    <tr>\n",
       "      <th>I_0</th>\n",
       "      <td>0.109207</td>\n",
       "      <td>0.003650</td>\n",
       "    </tr>\n",
       "    <tr>\n",
       "      <th>I_1</th>\n",
       "      <td>0.042993</td>\n",
       "      <td>0.000928</td>\n",
       "    </tr>\n",
       "    <tr>\n",
       "      <th>I_2</th>\n",
       "      <td>0.044925</td>\n",
       "      <td>0.001045</td>\n",
       "    </tr>\n",
       "    <tr>\n",
       "      <th>I_3</th>\n",
       "      <td>0.078004</td>\n",
       "      <td>0.002632</td>\n",
       "    </tr>\n",
       "    <tr>\n",
       "      <th>I_4</th>\n",
       "      <td>0.055393</td>\n",
       "      <td>0.001253</td>\n",
       "    </tr>\n",
       "  </tbody>\n",
       "</table>\n",
       "</div>"
      ]
     },
     "execution_count": 9,
     "metadata": {},
     "output_type": "execute_result"
    }
   ],
   "execution_count": 9
  },
  {
   "metadata": {
    "ExecuteTime": {
     "end_time": "2024-05-21T12:55:06.429633Z",
     "start_time": "2024-05-21T12:55:06.286780Z"
    }
   },
   "cell_type": "code",
   "source": [
    "plot_feature_importance(\n",
    "    mdi,\n",
    "    oob_score = oob_score,\n",
    "    oos_score = oos_score,\n",
    "    save_fig = True,\n",
    "    output_path = './images/MDI_feature_importance.png'\n",
    ")\n",
    "plt.grid(False)\n",
    "plt.show()"
   ],
   "id": "453cbafd3cf814d8",
   "outputs": [
    {
     "data": {
      "text/plain": [
       "<Figure size 1000x400 with 1 Axes>"
      ],
      "image/png": "[encoded data removed]"
     },
     "metadata": {},
     "output_type": "display_data"
    }
   ],
   "execution_count": 10
  },
  {
   "metadata": {},
   "cell_type": "markdown",
   "source": [
    "p-value의 결과와 비교해 봤을때, Noise가 모두 하위에 랭크된 것을 볼 수 있다. 모델 학습에 있어서 정보를 가지고 있는 information과 redundant feature들이 중요도가 높게 나온 것을 알 수 있다\n",
    "\n",
    "MDI feature importance는 다음과 같은 장점이 존재한다\n",
    "\n",
    "1. MDI는 계산하는 데 있어서 변수의 강력한 분포적 가정을 요구하지 않는다. 즉, 변수의 분포는 어떤 모양을 해도 상관없다\n",
    "2. 통계모형의 beta는 단일 샘플에 대해 추정되는 반면, ensemble모형의 MDI feature importance는 Bootstrapping을 통해 도출된다. 따라서, 추정치의 분산은 ensemble추정기의 개수를 증가시킴으로써 줄일 수 있다\n",
    "3. Base Model이 Tree인 분류기의 목적은 주어진 대수 방정식의 계수를 추정하는 것이 아니므로 특정 귀무가설의 확률을 추정하는 것과는 무관하다. 따라서, 추정기에서 실질적으로 도움이 된 특성을 찾아 점수를 매겨준다\n",
    "\n",
    "다만, MDI는 어디까지나 sample내에서 계산된다는 점에서 과적합의 여지가 존재한다. 이후 소개하는 **MDA feature importance**는 이러한 단점을 보완해 준다"
   ],
   "id": "a008ab219ccce7b3"
  },
  {
   "metadata": {},
   "cell_type": "markdown",
   "source": [
    "#### Mean Decrease Accuracy\n",
    "\n",
    "p-value와 MDI 모두 설명 목적으로 샘플 내에서 유의적으로 보이는 변수가 예측의 목적과 무관할 수 있다는 점이다. 이 문제를 해결하고자, MDA 특성 중요도가 제안되었다\n",
    "\n",
    "MDA는 다음과 같이 동작한다. \n",
    "1. 모델을 적합화시키고 교차 검증된 성과를 계산한다\n",
    "2. 동일한 적합화 모델읠 교차 검증된 성과를 하는데, 단 하나의 차이점은 feature 중 하나와 관련된 관찰값들을 셔플링한다는 것이다. 그것은 특성당 하나의 수정된 교차검증 성능을 제공한다\n",
    "3. 셔플링 전후의 교차 검증된 성능을 비교함으로써, 특정 feature와 연관된 MDA score를 도출한다. **특성이 중요하다면 특성이 독립인 경우, 셔플링으로 인해 성과의 현저한 저하 현성이 있어야 한다**\n",
    "\n",
    "MDA의 중요한 속성은 MDI와 마찬가지로 단일 추정치의 결과가 아닌 여러개의 추정치의 평균이라는 것이다. 일반적으로, MDA feature importance는 **순열 중요도 (permutation importance)** 로 많이 불리며, 다음과 같이 구현된다\n",
    "\n",
    "```\n",
    "from sklearn.inspection import permutation_importance\n",
    "r = permutation_importance(\n",
    "    model, X_val, y_val,\n",
    "    n_repeats=30,\n",
    "    random_state=0\n",
    ")\n",
    "```\n",
    "\n",
    "우리는 시간의 순서가 중요한 시계열 데이터를 다루고 있으므로 permutation importance를 그대로 쓰는것 보다는 아래 예제의 MDA 특성 중요도를 사용하도록 하자\n",
    "\n",
    "한가지 중요한 점은, feature가 독립적이지 않은 경우 MDA는 상호 관련 특성의 중요성을 과소평가할 수 있다. 극단적으로, 매우 중요하지만 동일한 두가지 feature를 고려할 때, MDA는 한 가지 feature를 셔플링하는 효과가 동인한 다른 feature의 존재로 인해 상쇄될 수 있기 때문에, 두 feature모두 중요하지 않다고 결론내릴 수 있다.아래의 예시를 보고, 이러한 점을 확인해 보자"
   ],
   "id": "ba04d26a07756695"
  },
  {
   "metadata": {
    "ExecuteTime": {
     "end_time": "2024-05-21T12:55:08.278666Z",
     "start_time": "2024-05-21T12:55:06.431337Z"
    }
   },
   "cell_type": "code",
   "source": [
    "forest = RandomForestClassifier(\n",
    "    criterion = 'entropy',\n",
    "    class_weight = 'balanced_subsample',\n",
    "    min_weight_fraction_leaf = 0.0,\n",
    "    random_state = 42,\n",
    "    n_estimators = 1000,\n",
    "    max_features = 3,\n",
    "    oob_score = True,\n",
    "    n_jobs = 1\n",
    ")\n",
    "\n",
    "fit = forest.fit(X = trnsX, y = cont['bin'])\n",
    "oob_score = fit.oob_score_"
   ],
   "id": "7bdc487ccd5da410",
   "outputs": [],
   "execution_count": 11
  },
  {
   "metadata": {
    "ExecuteTime": {
     "end_time": "2024-05-21T12:55:18.902038Z",
     "start_time": "2024-05-21T12:55:08.279353Z"
    }
   },
   "cell_type": "code",
   "source": [
    "mda = mean_decrease_accuracy(\n",
    "    fit, # base classification model\n",
    "    trnsX, # train features\n",
    "    cont['bin'], # train labels\n",
    "    cv_gen, # purged k fold cross validation class\n",
    "    scoring = accuracy_score\n",
    ")"
   ],
   "id": "19f0d17a754d0a92",
   "outputs": [
    {
     "name": "stderr",
     "output_type": "stream",
     "text": [
      "5it [00:10,  2.12s/it]\n"
     ]
    }
   ],
   "execution_count": 12
  },
  {
   "metadata": {
    "ExecuteTime": {
     "end_time": "2024-05-21T12:55:18.906770Z",
     "start_time": "2024-05-21T12:55:18.902968Z"
    }
   },
   "cell_type": "code",
   "source": "mda.head()",
   "id": "47d57aacbfb0ddb7",
   "outputs": [
    {
     "data": {
      "text/plain": [
       "         mean       std\n",
       "I_0  0.132141  0.228427\n",
       "I_1  0.104274  0.027225\n",
       "I_2  0.111496  0.051622\n",
       "I_3  0.142856  0.065140\n",
       "I_4  0.133888  0.048109"
      ],
      "text/html": [
       "<div>\n",
       "<style scoped>\n",
       "    .dataframe tbody tr th:only-of-type {\n",
       "        vertical-align: middle;\n",
       "    }\n",
       "\n",
       "    .dataframe tbody tr th {\n",
       "        vertical-align: top;\n",
       "    }\n",
       "\n",
       "    .dataframe thead th {\n",
       "        text-align: right;\n",
       "    }\n",
       "</style>\n",
       "<table border=\"1\" class=\"dataframe\">\n",
       "  <thead>\n",
       "    <tr style=\"text-align: right;\">\n",
       "      <th></th>\n",
       "      <th>mean</th>\n",
       "      <th>std</th>\n",
       "    </tr>\n",
       "  </thead>\n",
       "  <tbody>\n",
       "    <tr>\n",
       "      <th>I_0</th>\n",
       "      <td>0.132141</td>\n",
       "      <td>0.228427</td>\n",
       "    </tr>\n",
       "    <tr>\n",
       "      <th>I_1</th>\n",
       "      <td>0.104274</td>\n",
       "      <td>0.027225</td>\n",
       "    </tr>\n",
       "    <tr>\n",
       "      <th>I_2</th>\n",
       "      <td>0.111496</td>\n",
       "      <td>0.051622</td>\n",
       "    </tr>\n",
       "    <tr>\n",
       "      <th>I_3</th>\n",
       "      <td>0.142856</td>\n",
       "      <td>0.065140</td>\n",
       "    </tr>\n",
       "    <tr>\n",
       "      <th>I_4</th>\n",
       "      <td>0.133888</td>\n",
       "      <td>0.048109</td>\n",
       "    </tr>\n",
       "  </tbody>\n",
       "</table>\n",
       "</div>"
      ]
     },
     "execution_count": 13,
     "metadata": {},
     "output_type": "execute_result"
    }
   ],
   "execution_count": 13
  },
  {
   "metadata": {
    "ExecuteTime": {
     "end_time": "2024-05-21T12:55:19.133602Z",
     "start_time": "2024-05-21T12:55:18.907482Z"
    }
   },
   "cell_type": "code",
   "source": [
    "plot_feature_importance(\n",
    "    mda,\n",
    "    oob_score = oob_score,\n",
    "    oos_score = oos_score,\n",
    "    save_fig = True,\n",
    "    output_path = './images/MDA_feature_importance.png'\n",
    ")\n",
    "plt.grid(False)\n",
    "plt.show()"
   ],
   "id": "a0cfd9449628d98a",
   "outputs": [
    {
     "data": {
      "text/plain": [
       "<Figure size 1000x400 with 1 Axes>"
      ],
      "image/png": "[encoded data removed]"
     },
     "metadata": {},
     "output_type": "display_data"
    }
   ],
   "execution_count": 14
  },
  {
   "metadata": {},
   "cell_type": "markdown",
   "source": [
    "### Feature Importance without substitution effects\n",
    "\n",
    "대체 효과는 중복되어 있는 중요한 특성을 버리는 결과를 초래할 수 있다. 예측에 있어서는 일반저긍로 문제가 되지 않지만, 모델의 이해, 개선, 단순화 과정에서는 잘못된 결론을 이끌 수 있다. 이런 이유로 다음의 Single Feature Importance 기법은 MDI와 MDA의 보완 역할을 할 수 있다."
   ],
   "id": "6d4405bf87223f04"
  },
  {
   "metadata": {},
   "cell_type": "markdown",
   "source": [
    "#### Single Feature Importance\n",
    "\n",
    "Single Feature Importance는 횡단면 예측 중요도 방법이다. 이 방법은 각 특성에 대해서 독립적으로 out of sample 성과를 계산한다. 몇 가지 고려사항은 다음과 같다.\n",
    "\n",
    "1. 이 방법은 Tree model 기반의 Ensemble 뿐만 아니라 모든 분류기에 적용할 수 있다.\n",
    "2. SFI는 성과 점수로서 정확도에만 사용되지 않는다.\n",
    "3. MDI나 MDA와 달리 대체 효과는 존재하지 않는다. 이유는 한 번에 하나의 특성만 고려하기 때문이다.\n",
    "4. MDA와 같이 모든 특성이 중요하지 않다는 결론을 내릴 수도 있다. 이유는 성과를 out of sample cross validation을 통해 평가하기 때문이다"
   ],
   "id": "97b26586075f09b7"
  },
  {
   "metadata": {
    "ExecuteTime": {
     "end_time": "2024-05-21T12:57:25.603596Z",
     "start_time": "2024-05-21T12:55:19.137852Z"
    }
   },
   "cell_type": "code",
   "source": [
    "sfi = single_feature_importance(\n",
    "    fit, # base classification model\n",
    "    trnsX, # train features\n",
    "    cont['bin'], # train labels\n",
    "    cv_gen, # purged k fold cross validation class\n",
    "    scoring = accuracy_score\n",
    ")"
   ],
   "id": "a1e07a2502fc64f6",
   "outputs": [
    {
     "name": "stderr",
     "output_type": "stream",
     "text": [
      "100%|██████████| 20/20 [02:06<00:00,  6.32s/it]\n"
     ]
    }
   ],
   "execution_count": 15
  },
  {
   "metadata": {
    "ExecuteTime": {
     "end_time": "2024-05-21T12:58:31.156279Z",
     "start_time": "2024-05-21T12:58:30.966924Z"
    }
   },
   "cell_type": "code",
   "source": [
    "plot_feature_importance(\n",
    "    sfi,\n",
    "    oob_score = oob_score,\n",
    "    oos_score = oos_score,\n",
    "    save_fig = True,\n",
    "    output_path = './images/SFI_feature_importance.png'\n",
    ")\n",
    "plt.grid(False)\n",
    "plt.show()"
   ],
   "id": "1059cacbdf3ac009",
   "outputs": [
    {
     "data": {
      "text/plain": [
       "<Figure size 1000x400 with 1 Axes>"
      ],
      "image/png": "[encoded data removed]"
     },
     "metadata": {},
     "output_type": "display_data"
    }
   ],
   "execution_count": 16
  },
  {
   "metadata": {},
   "cell_type": "code",
   "outputs": [],
   "execution_count": null,
   "source": "",
   "id": "77e883c448ecb877"
  }
 ],
 "metadata": {
  "kernelspec": {
   "display_name": "Python 3",
   "language": "python",
   "name": "python3"
  },
  "language_info": {
   "codemirror_mode": {
    "name": "ipython",
    "version": 2
   },
   "file_extension": ".py",
   "mimetype": "text/x-python",
   "name": "python",
   "nbconvert_exporter": "python",
   "pygments_lexer": "ipython2",
   "version": "2.7.6"
  }
 },
 "nbformat": 4,
 "nbformat_minor": 5
}
